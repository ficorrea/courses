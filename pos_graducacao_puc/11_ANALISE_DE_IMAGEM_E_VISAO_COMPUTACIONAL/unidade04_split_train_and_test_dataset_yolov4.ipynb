{
  "nbformat": 4,
  "nbformat_minor": 0,
  "metadata": {
    "colab": {
      "name": "unidade04_split_train_and_test_dataset_yolov4.ipynb",
      "provenance": [],
      "collapsed_sections": []
    },
    "kernelspec": {
      "display_name": "Python 3",
      "name": "python3"
    }
  },
  "cells": [
    {
      "cell_type": "code",
      "metadata": {
        "id": "6ZBqlVeQtY0O"
      },
      "source": [
        "from google.colab import drive\n",
        "drive.mount('/content/gdrive')"
      ],
      "execution_count": null,
      "outputs": []
    },
    {
      "cell_type": "code",
      "metadata": {
        "id": "1LOCMquH41k8"
      },
      "source": [
        "!mkdir data/\n",
        "\n",
        "!cp /content/gdrive/MyDrive/datasets/yolov4-dataset_car_chair_book.zip /content/data/\n",
        "\n",
        "%cd data/\n",
        "!unzip yolov4-dataset_car_chair_book.zip\n",
        "\n",
        "%cd .."
      ],
      "execution_count": null,
      "outputs": []
    },
    {
      "cell_type": "code",
      "metadata": {
        "id": "9RYZRiVm7QCI"
      },
      "source": [
        "import os\n",
        "import numpy as np\n",
        "import shutil\n",
        "from shutil import copy\n",
        "import os\n",
        "import ntpath\n",
        "\n",
        "inputdir = 'data/yolov4-dataset_car_chair_book/data'\n",
        "train = 'data/train/'\n",
        "test = 'data/test/'\n",
        "\n",
        "if not os.path.exists(train):\n",
        "    os.makedirs(train)\n",
        "\n",
        "if not os.path.exists(test):\n",
        "    os.makedirs(test)\n",
        "\n",
        "allFileImages = []\n",
        "\n",
        "for file in os.listdir(inputdir):\n",
        "    if file.endswith(\".jpg\"):\n",
        "        allFileImages.append(os.path.join(inputdir, file))\n",
        "\n",
        "np.random.shuffle(allFileImages)\n",
        "\n",
        "train_FileNames, test_FileNames = np.split(np.array(allFileImages),[int(len(allFileImages)*0.80)])\n",
        "\n",
        "train_FileNames = [ntpath.basename(name) for name in train_FileNames]\n",
        "test_FileNames = [ntpath.basename(name) for name in test_FileNames]\n",
        "\n",
        "for img in train_FileNames:\n",
        "    shutil.copyfile(os.path.join(inputdir, img), os.path.join(train, img))\n",
        "    shutil.copyfile(os.path.join(inputdir, '{}.txt'.format(img[:-4])), os.path.join(train, '{}.txt'.format(img[:-4])))\n",
        "\n",
        "for img in test_FileNames:\n",
        "    shutil.copyfile(os.path.join(inputdir, img), os.path.join(test, img))\n",
        "    shutil.copyfile(os.path.join(inputdir, '{}.txt'.format(img[:-4])), os.path.join(test, '{}.txt'.format(img[:-4])))\n",
        "\n",
        "print(len(allFileImages))\n",
        "print(len(train_FileNames))\n",
        "print(len(test_FileNames))"
      ],
      "execution_count": null,
      "outputs": []
    },
    {
      "cell_type": "code",
      "metadata": {
        "id": "NaTeP5E5kTYB"
      },
      "source": [
        "!ls data/train/*.jpg | wc -l\n",
        "!ls data/test/*.jpg | wc -l"
      ],
      "execution_count": null,
      "outputs": []
    },
    {
      "cell_type": "code",
      "metadata": {
        "id": "JkJ2rrHu6ih7"
      },
      "source": [
        "!ls data/train/*.txt | wc -l\n",
        "!ls data/test/*.txt | wc -l"
      ],
      "execution_count": null,
      "outputs": []
    },
    {
      "cell_type": "code",
      "metadata": {
        "id": "M9FQVOiJ-XzL"
      },
      "source": [
        "%cd data/\n",
        "!zip -r yolov4-dataset_train.zip train/\n",
        "!zip -r yolov4-dataset_test.zip test/"
      ],
      "execution_count": null,
      "outputs": []
    },
    {
      "cell_type": "code",
      "metadata": {
        "id": "ndPAGnqZpciN"
      },
      "source": [
        "!cp yolov4-dataset_train.zip /content/gdrive/MyDrive/datasets/\n",
        "!cp yolov4-dataset_test.zip /content/gdrive/MyDrive/datasets/"
      ],
      "execution_count": null,
      "outputs": []
    }
  ]
}