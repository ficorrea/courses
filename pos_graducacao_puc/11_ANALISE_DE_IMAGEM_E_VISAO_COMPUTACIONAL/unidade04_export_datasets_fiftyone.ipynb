{
  "nbformat": 4,
  "nbformat_minor": 0,
  "metadata": {
    "colab": {
      "name": "unidade04_export_datasets_fiftyone.ipynb",
      "provenance": [],
      "collapsed_sections": []
    },
    "kernelspec": {
      "name": "python3",
      "display_name": "Python 3"
    },
    "language_info": {
      "name": "python"
    }
  },
  "cells": [
    {
      "cell_type": "code",
      "metadata": {
        "id": "9Zv_ifB28HL6"
      },
      "source": [
        "!pip install fiftyone"
      ],
      "execution_count": null,
      "outputs": []
    },
    {
      "cell_type": "code",
      "metadata": {
        "id": "3sLtc8_W7yc2"
      },
      "source": [
        "import fiftyone as fo\n",
        "import fiftyone.zoo as foz\n",
        "\n",
        "# List available zoo datasets\n",
        "print(foz.list_zoo_datasets())\n",
        "\n",
        "#\n",
        "# Load the COCO-2017 validation split into a FiftyOne dataset\n",
        "#\n",
        "# This will download the dataset from the web, if necessary\n",
        "#\n",
        "dataset = foz.load_zoo_dataset(\"coco-2017\", split=\"validation\")\n",
        "\n",
        "# Give the dataset a new name, and make it persistent so that you can\n",
        "# work with it in future sessions\n",
        "dataset.name = \"coco-2017-validation-example\"\n",
        "dataset.persistent = True\n",
        "\n",
        "# Visualize the in the App\n",
        "session = fo.launch_app(dataset)"
      ],
      "execution_count": null,
      "outputs": []
    },
    {
      "cell_type": "code",
      "metadata": {
        "id": "CxGN74H4XihY"
      },
      "source": [
        "# Only include samples whose ground truth `label` is \"slug\" or \"conch\"\n",
        "from fiftyone import ViewField as F\n",
        "\n",
        "car_chair_book_view = dataset.filter_labels(\n",
        "    \"ground_truth\", (F(\"label\") == \"car\") | (F(\"label\") == \"chair\") | (F(\"label\") == \"book\")\n",
        ")"
      ],
      "execution_count": null,
      "outputs": []
    },
    {
      "cell_type": "code",
      "metadata": {
        "id": "HzWZQqDI9Qs7"
      },
      "source": [
        "export_dir = \"yolov4-dataset_car_chair_book/\"\n",
        "label_field = \"ground_truth\"\n",
        "\n",
        "car_chair_book_view.export(export_dir=export_dir, dataset_type=fo.types.YOLOv4Dataset, label_field=label_field)"
      ],
      "execution_count": null,
      "outputs": []
    },
    {
      "cell_type": "markdown",
      "metadata": {
        "id": "ag_A658okNDz"
      },
      "source": [
        "Modifica as classes para índices de 0 a n"
      ]
    },
    {
      "cell_type": "code",
      "metadata": {
        "id": "LEAqJyd6ZQG8"
      },
      "source": [
        "import glob \n",
        "import os\n",
        "\n",
        "def getAnnotationsFileInDir(dir_path):\n",
        "    anno_list = []\n",
        "    for filename in glob.glob(dir_path + '/*.txt'):\n",
        "        anno_list.append(filename)\n",
        "\n",
        "    return anno_list\n",
        "\n",
        "classes = {\n",
        "    '3' : '0',    # car \n",
        "    '62' : '1',   # chair\n",
        "    '84' : '2'    # book\n",
        "}\n",
        "\n",
        "dir = os.path.join(export_dir, \"data\")\n",
        "\n",
        "anno_paths = getAnnotationsFileInDir(dir)\n",
        "\n",
        "for paths in anno_paths:\n",
        "    with open(paths, \"r\") as f:\n",
        "      data = f.read()\n",
        "\n",
        "    with open(paths, \"r+\") as f:\n",
        "\n",
        "        lines = f.readlines()\n",
        "\n",
        "        newlines = \"\"\n",
        "\n",
        "        for line in lines:\n",
        "            a = line.split(' ')\n",
        "            rep = classes[a[0]]\n",
        "            a[0] = rep\n",
        "\n",
        "            newlines += ' '.join(a)\n",
        "        \n",
        "        f.seek(0)\n",
        "        f.write(newlines)\n",
        "        f.truncate()"
      ],
      "execution_count": null,
      "outputs": []
    },
    {
      "cell_type": "code",
      "metadata": {
        "id": "Q2Iww7fwBCcd"
      },
      "source": [
        "!zip yolov4-dataset_car_chair_book.zip -r yolov4-dataset_car_chair_book/"
      ],
      "execution_count": null,
      "outputs": []
    },
    {
      "cell_type": "code",
      "metadata": {
        "id": "SBB1QjBCBpBj"
      },
      "source": [
        "from google.colab import drive\n",
        "drive.mount('/content/drive')"
      ],
      "execution_count": null,
      "outputs": []
    },
    {
      "cell_type": "code",
      "metadata": {
        "id": "a7MeJ1nQBsj6"
      },
      "source": [
        "!cp yolov4-dataset_car_chair_book.zip /content/drive/MyDrive/datasets/"
      ],
      "execution_count": null,
      "outputs": []
    },
    {
      "cell_type": "markdown",
      "metadata": {
        "id": "r4sfgd4EuSOy"
      },
      "source": [
        "Para exportar outros datasets\n",
        "\n",
        "https://voxel51.com/docs/fiftyone/user_guide/export_datasets.html#supported-formats"
      ]
    }
  ]
}