{
 "cells": [
  {
   "cell_type": "code",
   "execution_count": 1,
   "metadata": {},
   "outputs": [],
   "source": [
    "import pandas as pd\n",
    "from preprocessing import preprocessamento\n",
    "pre = preprocessamento.Preprocessamento()"
   ]
  },
  {
   "cell_type": "code",
   "execution_count": 2,
   "metadata": {},
   "outputs": [],
   "source": [
    "df1, df2, df3, df4, df5 = map(pre.ler_csv, ['imob1.csv', 'imob2.csv', 'imob3.csv', 'imob4.csv', 'imob5.csv'])"
   ]
  },
  {
   "cell_type": "code",
   "execution_count": 3,
   "metadata": {},
   "outputs": [],
   "source": [
    "lista = [df1, df2, df3, df4, df5]"
   ]
  },
  {
   "cell_type": "code",
   "execution_count": 4,
   "metadata": {},
   "outputs": [],
   "source": [
    "df3['banheiros'] = df3['suites']\n",
    "df4['banheiros'] = df4['suites']"
   ]
  },
  {
   "cell_type": "code",
   "execution_count": 5,
   "metadata": {},
   "outputs": [],
   "source": [
    "for l in lista:\n",
    "    l.drop(columns='suites', inplace=True)"
   ]
  },
  {
   "cell_type": "code",
   "execution_count": 6,
   "metadata": {},
   "outputs": [],
   "source": [
    "dataset = pre.concatenar_datasets(lista)"
   ]
  },
  {
   "cell_type": "code",
   "execution_count": 7,
   "metadata": {},
   "outputs": [],
   "source": [
    "mask = dataset['banheiros'] != 0"
   ]
  },
  {
   "cell_type": "code",
   "execution_count": 8,
   "metadata": {},
   "outputs": [
    {
     "data": {
      "text/plain": [
       "1.5265780730897009"
      ]
     },
     "execution_count": 8,
     "metadata": {},
     "output_type": "execute_result"
    }
   ],
   "source": [
    "dataset.loc[mask, 'banheiros'].mean()"
   ]
  },
  {
   "cell_type": "code",
   "execution_count": 9,
   "metadata": {},
   "outputs": [],
   "source": [
    "mask2 = dataset['banheiros'] == 0\n",
    "dataset.loc[mask2, 'banheiros'] = dataset.loc[mask, 'banheiros'].mean()"
   ]
  },
  {
   "cell_type": "code",
   "execution_count": 10,
   "metadata": {},
   "outputs": [
    {
     "data": {
      "text/plain": [
       "2"
      ]
     },
     "execution_count": 10,
     "metadata": {},
     "output_type": "execute_result"
    }
   ],
   "source": [
    "dataset.loc[dataset['quartos'] == 0, 'quartos'].count()"
   ]
  },
  {
   "cell_type": "code",
   "execution_count": 11,
   "metadata": {},
   "outputs": [],
   "source": [
    "dataset.loc[dataset['quartos'] == 0, 'quartos'] = dataset.loc[dataset['quartos'] != 0, 'quartos'].mean()"
   ]
  },
  {
   "cell_type": "code",
   "execution_count": 12,
   "metadata": {},
   "outputs": [
    {
     "data": {
      "text/plain": [
       "48"
      ]
     },
     "execution_count": 12,
     "metadata": {},
     "output_type": "execute_result"
    }
   ],
   "source": [
    "dataset.loc[dataset['valor'] == 0, 'valor'].count()"
   ]
  },
  {
   "cell_type": "code",
   "execution_count": 13,
   "metadata": {},
   "outputs": [],
   "source": [
    "dataset.loc[dataset['valor'] == 0, 'valor'] = dataset.loc[dataset['valor'] != 0, 'valor'].mean()"
   ]
  },
  {
   "cell_type": "code",
   "execution_count": 14,
   "metadata": {},
   "outputs": [],
   "source": [
    "dataset.loc[dataset['area'] == 0, 'area'] = dataset.loc[dataset['area'] != 0, 'area'].mean()"
   ]
  },
  {
   "cell_type": "code",
   "execution_count": 15,
   "metadata": {},
   "outputs": [],
   "source": [
    "dataset = dataset.iloc[:, 2:]"
   ]
  },
  {
   "cell_type": "code",
   "execution_count": 16,
   "metadata": {},
   "outputs": [],
   "source": [
    "dataset = pre.ajustar_texto(dataset)\n",
    "dataset = pre.ajustar_nomes_bairros(dataset)"
   ]
  },
  {
   "cell_type": "code",
   "execution_count": 17,
   "metadata": {},
   "outputs": [],
   "source": [
    "x = dataset.iloc[:, 0:5].values\n",
    "y = dataset.iloc[:, 5].values"
   ]
  },
  {
   "cell_type": "code",
   "execution_count": 18,
   "metadata": {},
   "outputs": [
    {
     "data": {
      "text/plain": [
       "array([ 990737.32366412,  990737.32366412,  990737.32366412, ...,\n",
       "        270000.        ,  300000.        ,  300000.        ])"
      ]
     },
     "execution_count": 18,
     "metadata": {},
     "output_type": "execute_result"
    }
   ],
   "source": [
    "y"
   ]
  },
  {
   "cell_type": "code",
   "execution_count": 19,
   "metadata": {},
   "outputs": [],
   "source": [
    "from sklearn.preprocessing import LabelEncoder, OneHotEncoder\n",
    "label = LabelEncoder()\n",
    "x[:, 0] = label.fit_transform(x[:, 0])"
   ]
  },
  {
   "cell_type": "code",
   "execution_count": 20,
   "metadata": {},
   "outputs": [],
   "source": [
    "onehot = OneHotEncoder(categorical_features=[0])\n",
    "x = onehot.fit_transform(x).toarray()"
   ]
  },
  {
   "cell_type": "code",
   "execution_count": 21,
   "metadata": {},
   "outputs": [],
   "source": [
    "x1 = pd.DataFrame(x)"
   ]
  },
  {
   "cell_type": "code",
   "execution_count": 22,
   "metadata": {},
   "outputs": [],
   "source": [
    "# Avoiding dummy variable trap\n",
    "x = x[:, 1:]"
   ]
  },
  {
   "cell_type": "code",
   "execution_count": 23,
   "metadata": {},
   "outputs": [],
   "source": [
    "import statsmodels.formula.api as sm\n",
    "import numpy as np"
   ]
  },
  {
   "cell_type": "code",
   "execution_count": 24,
   "metadata": {},
   "outputs": [],
   "source": [
    "x = np.append(arr=np.ones((1358, 1)).astype('int'), values=x, axis=1)"
   ]
  },
  {
   "cell_type": "code",
   "execution_count": 25,
   "metadata": {},
   "outputs": [],
   "source": [
    "l = list(range(0, 50))"
   ]
  },
  {
   "cell_type": "code",
   "execution_count": 26,
   "metadata": {},
   "outputs": [],
   "source": [
    "x_opt = x[:, l]"
   ]
  },
  {
   "cell_type": "code",
   "execution_count": 27,
   "metadata": {},
   "outputs": [],
   "source": [
    "ols = sm.OLS(endog=y, exog=x_opt).fit()"
   ]
  },
  {
   "cell_type": "code",
   "execution_count": 28,
   "metadata": {},
   "outputs": [
    {
     "name": "stdout",
     "output_type": "stream",
     "text": [
      "                            OLS Regression Results                            \n",
      "==============================================================================\n",
      "Dep. Variable:                      y   R-squared:                       0.196\n",
      "Model:                            OLS   Adj. R-squared:                  0.166\n",
      "Method:                 Least Squares   F-statistic:                     6.523\n",
      "Date:                Wed, 21 Mar 2018   Prob (F-statistic):           4.09e-36\n",
      "Time:                        15:18:30   Log-Likelihood:                -23002.\n",
      "No. Observations:                1358   AIC:                         4.610e+04\n",
      "Df Residuals:                    1308   BIC:                         4.636e+04\n",
      "Df Model:                          49                                         \n",
      "Covariance Type:            nonrobust                                         \n",
      "==============================================================================\n",
      "                 coef    std err          t      P>|t|      [0.025      0.975]\n",
      "------------------------------------------------------------------------------\n",
      "const      -2.675e+06   1.81e+06     -1.474      0.141   -6.23e+06    8.85e+05\n",
      "x1          5.938e+05   3.62e+06      0.164      0.870    -6.5e+06    7.69e+06\n",
      "x2          7.588e+05   1.78e+06      0.426      0.670   -2.73e+06    4.25e+06\n",
      "x3          1.171e+06    1.9e+06      0.615      0.539   -2.56e+06    4.91e+06\n",
      "x4          3.202e+05   1.77e+06      0.181      0.856   -3.15e+06    3.79e+06\n",
      "x5          9.155e+05   2.41e+06      0.380      0.704   -3.81e+06    5.64e+06\n",
      "x6          9.013e+05    1.9e+06      0.475      0.635   -2.82e+06    4.62e+06\n",
      "x7          2.342e+05   4.32e+06      0.054      0.957   -8.24e+06    8.71e+06\n",
      "x8          7.966e+05   1.69e+06      0.472      0.637   -2.52e+06    4.11e+06\n",
      "x9          7.527e+04   2.14e+06      0.035      0.972   -4.13e+06    4.28e+06\n",
      "x10         9.732e+05   1.88e+06      0.518      0.605   -2.71e+06    4.66e+06\n",
      "x11         1.065e+06   4.28e+06      0.248      0.804   -7.34e+06    9.47e+06\n",
      "x12         1.047e+06   4.29e+06      0.244      0.807   -7.36e+06    9.45e+06\n",
      "x13         9.661e+05   1.92e+06      0.503      0.615    -2.8e+06    4.73e+06\n",
      "x14         6.641e+05   2.21e+06      0.300      0.764   -3.67e+06       5e+06\n",
      "x15         6.611e+05   1.66e+06      0.397      0.691    -2.6e+06    3.93e+06\n",
      "x16         2.201e+06   4.42e+06      0.498      0.619   -6.48e+06    1.09e+07\n",
      "x17         1.661e+06   1.82e+06      0.911      0.362   -1.92e+06    5.24e+06\n",
      "x18        -3.103e+05   2.87e+06     -0.108      0.914   -5.93e+06    5.31e+06\n",
      "x19         1.248e+06   1.84e+06      0.678      0.498   -2.36e+06    4.86e+06\n",
      "x20         1.578e+06   3.26e+06      0.484      0.629   -4.82e+06    7.97e+06\n",
      "x21         2.111e+07   2.19e+06      9.636      0.000    1.68e+07    2.54e+07\n",
      "x22         4.601e+05   3.25e+06      0.142      0.887   -5.91e+06    6.83e+06\n",
      "x23         1.879e+06   4.29e+06      0.438      0.662   -6.55e+06    1.03e+07\n",
      "x24         9.654e+05   2.15e+06      0.449      0.653   -3.25e+06    5.18e+06\n",
      "x25         5.039e+06    1.8e+06      2.794      0.005     1.5e+06    8.58e+06\n",
      "x26         1.706e+06   3.25e+06      0.526      0.599   -4.66e+06    8.07e+06\n",
      "x27         8.326e+04   2.17e+06      0.038      0.969   -4.17e+06    4.34e+06\n",
      "x28         3.275e+05   2.09e+06      0.157      0.876   -3.77e+06    4.43e+06\n",
      "x29         5.128e+05    1.7e+06      0.302      0.763   -2.82e+06    3.84e+06\n",
      "x30         1.603e+06   4.29e+06      0.374      0.708    -6.8e+06       1e+07\n",
      "x31         6.537e+05    4.3e+06      0.152      0.879   -7.78e+06    9.08e+06\n",
      "x32         1.175e+06   4.33e+06      0.271      0.786   -7.33e+06    9.68e+06\n",
      "x33         1.103e+06   1.93e+06      0.573      0.567   -2.67e+06    4.88e+06\n",
      "x34         3.411e+05   3.24e+06      0.105      0.916   -6.01e+06    6.69e+06\n",
      "x35         1.163e+06   2.44e+06      0.476      0.634   -3.63e+06    5.95e+06\n",
      "x36        -3.495e+04   3.25e+06     -0.011      0.991   -6.41e+06    6.34e+06\n",
      "x37         1.072e+06   4.29e+06      0.250      0.803   -7.33e+06    9.48e+06\n",
      "x38         5.121e+05   1.84e+06      0.278      0.781    -3.1e+06    4.13e+06\n",
      "x39         5.968e+05   2.43e+06      0.245      0.806   -4.17e+06    5.37e+06\n",
      "x40        -7.044e+04   1.97e+06     -0.036      0.972   -3.94e+06     3.8e+06\n",
      "x41         6.528e+06   1.77e+06      3.679      0.000    3.05e+06       1e+07\n",
      "x42         1.868e+05   1.93e+06      0.097      0.923    -3.6e+06    3.97e+06\n",
      "x43         7.325e+05   2.34e+06      0.313      0.755   -3.86e+06    5.33e+06\n",
      "x44         5.803e+05   4.28e+06      0.136      0.892   -7.82e+06    8.98e+06\n",
      "x45          1.05e+06   4.29e+06      0.245      0.807   -7.36e+06    9.46e+06\n",
      "x46          1.07e+06   2.91e+05      3.679      0.000    4.99e+05    1.64e+06\n",
      "x47        -7.701e+05   2.28e+05     -3.384      0.001   -1.22e+06   -3.24e+05\n",
      "x48         5.337e+05    2.3e+05      2.320      0.021    8.24e+04    9.85e+05\n",
      "x49        -2049.5686   4360.503     -0.470      0.638   -1.06e+04    6504.776\n",
      "==============================================================================\n",
      "Omnibus:                     1730.066   Durbin-Watson:                   2.033\n",
      "Prob(Omnibus):                  0.000   Jarque-Bera (JB):           253200.083\n",
      "Skew:                           6.792   Prob(JB):                         0.00\n",
      "Kurtosis:                      68.500   Cond. No.                     6.83e+03\n",
      "==============================================================================\n",
      "\n",
      "Warnings:\n",
      "[1] Standard Errors assume that the covariance matrix of the errors is correctly specified.\n",
      "[2] The condition number is large, 6.83e+03. This might indicate that there are\n",
      "strong multicollinearity or other numerical problems.\n"
     ]
    }
   ],
   "source": [
    "print(ols.summary())"
   ]
  },
  {
   "cell_type": "code",
   "execution_count": null,
   "metadata": {},
   "outputs": [],
   "source": []
  }
 ],
 "metadata": {
  "kernelspec": {
   "display_name": "Python 3",
   "language": "python",
   "name": "python3"
  },
  "language_info": {
   "codemirror_mode": {
    "name": "ipython",
    "version": 3
   },
   "file_extension": ".py",
   "mimetype": "text/x-python",
   "name": "python",
   "nbconvert_exporter": "python",
   "pygments_lexer": "ipython3",
   "version": "3.5.3"
  }
 },
 "nbformat": 4,
 "nbformat_minor": 2
}
