{
  "nbformat": 4,
  "nbformat_minor": 0,
  "metadata": {
    "colab": {
      "name": "unidade1_intro-opencv.ipynb",
      "provenance": [],
      "collapsed_sections": []
    },
    "kernelspec": {
      "name": "python3",
      "display_name": "Python 3"
    }
  },
  "cells": [
    {
      "cell_type": "markdown",
      "metadata": {
        "id": "9Xy3WeUGV5M4"
      },
      "source": [
        "**Conceitos básicos com OpenCV**"
      ]
    },
    {
      "cell_type": "markdown",
      "metadata": {
        "id": "6bX4YiZ0VJYE"
      },
      "source": [
        "Lendo uma imagem de um diretório: "
      ]
    },
    {
      "cell_type": "code",
      "metadata": {
        "id": "0tbZJJfSDuk8"
      },
      "source": [
        "import numpy as np\n",
        "import cv2\n",
        "from google.colab.patches import cv2_imshow"
      ],
      "execution_count": null,
      "outputs": []
    },
    {
      "cell_type": "code",
      "metadata": {
        "id": "-hKJ0WgXVT6a"
      },
      "source": [
        "img = cv2.imread('lena.png',0)"
      ],
      "execution_count": null,
      "outputs": []
    },
    {
      "cell_type": "markdown",
      "metadata": {
        "id": "XPc2GT4KVtFk"
      },
      "source": [
        "Exibindo uma imagem"
      ]
    },
    {
      "cell_type": "code",
      "metadata": {
        "id": "TZOt6cUgVgCB"
      },
      "source": [
        "cv2_imshow(img)\n",
        "# cv2.imshow(img)\n",
        "# cv2.waitKey(0)\n",
        "# cv2.destroyAllWindows()"
      ],
      "execution_count": null,
      "outputs": []
    },
    {
      "cell_type": "markdown",
      "metadata": {
        "id": "rxPbimnvVvn6"
      },
      "source": [
        "Salvando uma imagem em disco"
      ]
    },
    {
      "cell_type": "code",
      "metadata": {
        "id": "qEd1Ye96Vncs"
      },
      "source": [
        "cv2.imwrite('lena_gray.png',img)"
      ],
      "execution_count": null,
      "outputs": []
    },
    {
      "cell_type": "markdown",
      "metadata": {
        "id": "Bvg6mpBwV-JU"
      },
      "source": [
        "\n",
        "\n",
        "---\n",
        "\n",
        "\n",
        "**Operações básicas: modificando o valor de um pixel**\n",
        "\n",
        "Uma imagem é uma matriz. No OpenCV, cada pixel (posição da matriz) de uma imagem colorida está no formato BGR (Blue, Green, Red). Execute o código e veja a saída na tela. \n",
        "\n",
        "Uma imagem é uma matriz. No OpenCV, cada pixel (posição da matriz) de uma imagem colorida está no formato BGR (Blue, Green, Red). Execute o código e veja a saída na tela. "
      ]
    },
    {
      "cell_type": "code",
      "metadata": {
        "id": "og9TxOfqWNFw"
      },
      "source": [
        "# carregando a imagem em BGR\n",
        "img = cv2.imread('lena.png')\n",
        "\n",
        "px = img[50,50]\n",
        "print(px)"
      ],
      "execution_count": null,
      "outputs": []
    },
    {
      "cell_type": "markdown",
      "metadata": {
        "id": "DTzxqRrbWaHt"
      },
      "source": [
        "Acessando apenas o canal “blue” do pixel"
      ]
    },
    {
      "cell_type": "code",
      "metadata": {
        "id": "z153LahDWbWw"
      },
      "source": [
        "blue = img[50,50, 0]\n",
        "print(blue)"
      ],
      "execution_count": null,
      "outputs": []
    },
    {
      "cell_type": "markdown",
      "metadata": {
        "id": "3QCCjg38WmjH"
      },
      "source": [
        "Acessando apenas o canal “red” do pixel"
      ]
    },
    {
      "cell_type": "code",
      "metadata": {
        "id": "SEl-vZY0WrGn"
      },
      "source": [
        "red = img[50,50, 2]\n",
        "print(red)"
      ],
      "execution_count": null,
      "outputs": []
    },
    {
      "cell_type": "markdown",
      "metadata": {
        "id": "zW4daJARWvDP"
      },
      "source": [
        "Modificando o valor de um único pixel"
      ]
    },
    {
      "cell_type": "code",
      "metadata": {
        "id": "S8eGGHfQWwCt"
      },
      "source": [
        "img[50,50] = [255, 255, 255]\n",
        "print(img[50,50])"
      ],
      "execution_count": null,
      "outputs": []
    },
    {
      "cell_type": "markdown",
      "metadata": {
        "id": "_AdloR_vW0MK"
      },
      "source": [
        "Forma otimizada de acessar pixel de uma imagem usando numpy"
      ]
    },
    {
      "cell_type": "code",
      "metadata": {
        "id": "VYdUuI_pW3eJ"
      },
      "source": [
        "red = img.item(50,50,2)\n",
        "print(red)"
      ],
      "execution_count": null,
      "outputs": []
    },
    {
      "cell_type": "markdown",
      "metadata": {
        "id": "sSK4qd4ZW-zN"
      },
      "source": [
        "Modificando a intensidade do canal Red do pixel usando numpy\n"
      ]
    },
    {
      "cell_type": "code",
      "metadata": {
        "id": "ZYnqsNz1W9_o"
      },
      "source": [
        "img.itemset((50,50,2),100)\n",
        "red = img.item(50,50,2)\n",
        "print(red)"
      ],
      "execution_count": null,
      "outputs": []
    },
    {
      "cell_type": "markdown",
      "metadata": {
        "id": "Ym24KKtEXLBT"
      },
      "source": [
        "Retornando uma tupla de linha, coluna e número de canais de cores da imagem"
      ]
    },
    {
      "cell_type": "code",
      "metadata": {
        "id": "QNbM9kuRXN5n"
      },
      "source": [
        "print(img.shape)"
      ],
      "execution_count": null,
      "outputs": []
    },
    {
      "cell_type": "markdown",
      "metadata": {
        "id": "eEKTdb_zXPLD"
      },
      "source": [
        "Retorna o número de pixel"
      ]
    },
    {
      "cell_type": "code",
      "metadata": {
        "id": "gKK_-ssFXRcr"
      },
      "source": [
        "print(img.size)"
      ],
      "execution_count": null,
      "outputs": []
    },
    {
      "cell_type": "markdown",
      "metadata": {
        "id": "Ud3EXOl-XUEZ"
      },
      "source": [
        "Imprimindo apenas o canal Red\n"
      ]
    },
    {
      "cell_type": "code",
      "metadata": {
        "id": "FylD3QIWXXGH"
      },
      "source": [
        "b,g,r = cv2.split(img)\n",
        "print(g)"
      ],
      "execution_count": null,
      "outputs": []
    },
    {
      "cell_type": "markdown",
      "metadata": {
        "id": "RpN5XyWKXbhm"
      },
      "source": [
        "Modificando apenas o canal Red para 0"
      ]
    },
    {
      "cell_type": "code",
      "metadata": {
        "id": "51v0No7yXeUd"
      },
      "source": [
        "img[:,:,2] = 0\n",
        "cv2.imwrite(\"lena_red.png\", img)"
      ],
      "execution_count": null,
      "outputs": []
    },
    {
      "cell_type": "code",
      "metadata": {
        "id": "6rf1RNr1Ok8K"
      },
      "source": [
        "img_red = cv2.imread(\"lena_red.png\")\n",
        "cv2_imshow(img_red)"
      ],
      "execution_count": null,
      "outputs": []
    },
    {
      "cell_type": "markdown",
      "metadata": {
        "id": "zmDhhWQTfBC2"
      },
      "source": [
        "Rotacionando a imagem em 180 graus"
      ]
    },
    {
      "cell_type": "code",
      "metadata": {
        "id": "ZGirSWUUfLkL"
      },
      "source": [
        "import imutils"
      ],
      "execution_count": null,
      "outputs": []
    },
    {
      "cell_type": "code",
      "metadata": {
        "id": "17lDvqv-fEvW"
      },
      "source": [
        "# rotate image 180° \n",
        "rotated = imutils.rotate(img, 180)\n",
        "cv2_imshow(rotated)"
      ],
      "execution_count": null,
      "outputs": []
    },
    {
      "cell_type": "markdown",
      "metadata": {
        "id": "I-jKDliHfd9y"
      },
      "source": [
        "Redimensionando a imagem"
      ]
    },
    {
      "cell_type": "code",
      "metadata": {
        "id": "SyhW-BqKfgE5"
      },
      "source": [
        "resized = cv2.resize(img, (800, 800), interpolation=cv2.INTER_CUBIC)\n",
        "cv2_imshow(resized)"
      ],
      "execution_count": null,
      "outputs": []
    },
    {
      "cell_type": "markdown",
      "metadata": {
        "id": "1UJX_ph1gHAh"
      },
      "source": [
        "**Funções de desenho**\n",
        "\n",
        "Desenhando uma linha\n",
        "\n",
        "Para desenhar uma linha, você precisa passar as coordenadas inicial e final da linha. \n",
        "\n",
        "Criando uma imagem preta e desenhando uma linha azul nos cantos superior esquerdo e inferior direito."
      ]
    },
    {
      "cell_type": "code",
      "metadata": {
        "id": "zWITyWZ7gPGA"
      },
      "source": [
        "# Create a black image\n",
        "img = np.zeros((512,512,3), np.uint8)\n",
        "\n",
        "# Draw a diagonal blue line with thickness of 5 px\n",
        "img = cv2.line(img,(0,0),(511,511),(255,0,0),5)\n",
        "\n",
        "cv2_imshow(img)"
      ],
      "execution_count": null,
      "outputs": []
    },
    {
      "cell_type": "markdown",
      "metadata": {
        "id": "xmh1rca0g_6K"
      },
      "source": [
        "Desenhando um retângulo\n",
        "\n",
        "Especificamos o canto superior esquerdo e o canto inferior direito do retângulo. "
      ]
    },
    {
      "cell_type": "code",
      "metadata": {
        "id": "YERhc8lshCGv"
      },
      "source": [
        "img = cv2.rectangle(img,(384,0),(510,128),(0,255,0),3)\n",
        "\n",
        "cv2_imshow(img)"
      ],
      "execution_count": null,
      "outputs": []
    },
    {
      "cell_type": "markdown",
      "metadata": {
        "id": "PCwKSQLChbbj"
      },
      "source": [
        "**Adicionado texto em uma imagem**"
      ]
    },
    {
      "cell_type": "code",
      "metadata": {
        "id": "bASMf7OAhi9D"
      },
      "source": [
        "# Create a black image\n",
        "img = np.zeros((512,512,3), np.uint8)\n",
        "\n",
        "font = cv2.FONT_HERSHEY_DUPLEX\n",
        "cv2.putText(img,'OpenCV',(10,500), font, 4,(255,255,255),2,cv2.LINE_AA)\n",
        "\n",
        "cv2_imshow(img)"
      ],
      "execution_count": null,
      "outputs": []
    },
    {
      "cell_type": "markdown",
      "metadata": {
        "id": "XLv_6tz2kEXh"
      },
      "source": [
        "**Trabalhando com vídes**\n",
        "\n",
        "Abrindo um vídeo de um arquivo"
      ]
    },
    {
      "cell_type": "code",
      "metadata": {
        "id": "baDq4_WdoQXC"
      },
      "source": [
        "import os\n",
        "import os.path"
      ],
      "execution_count": null,
      "outputs": []
    },
    {
      "cell_type": "code",
      "metadata": {
        "id": "zGnvWOCbn5pG"
      },
      "source": [
        "frames_dir = \"frame/\"\n",
        "\n",
        "if not os.path.exists(frames_dir):\n",
        "    os.makedirs(frames_dir)  "
      ],
      "execution_count": null,
      "outputs": []
    },
    {
      "cell_type": "code",
      "metadata": {
        "id": "auTMtJxrkMvs"
      },
      "source": [
        "cap = cv2.VideoCapture('cars.mp4')\n",
        "\n",
        "# frame id\n",
        "id_frame = 0\n",
        "\n",
        "ret = True\n",
        "while ret:\n",
        "    # capture frame by frame\n",
        "    ret, frame = cap.read()\n",
        "\n",
        "    if ret:\n",
        "        gray = cv2.cvtColor(frame, cv2.COLOR_BGR2GRAY)\n",
        "\n",
        "        frame_path = os.path.join(frames_dir, str(id_frame) + \".jpg\")\n",
        "\n",
        "        # salva a imagem (frame) no disco\n",
        "        cv2.imwrite(frame_path, gray)\n",
        "\n",
        "        id_frame += 1\n",
        "    \n",
        "cap.release()"
      ],
      "execution_count": null,
      "outputs": []
    },
    {
      "cell_type": "markdown",
      "metadata": {
        "id": "AigWYXMjrMo1"
      },
      "source": [
        "**Referências**\n",
        "\n",
        "[OpenCV-Python Tutorials](https://opencv-python-tutroals.readthedocs.io/en/latest/py_tutorials/py_tutorials.html)"
      ]
    }
  ]
}