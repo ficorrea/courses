{
 "cells": [
  {
   "cell_type": "markdown",
   "metadata": {},
   "source": [
    "# <font color='#045FB4'>Cálculo do IMC - Índice de Massa Corporal</font>\n",
    "\n",
    "O IMC é calculado através da equação $ IMC = \\frac{peso}{altura^2} $.\n",
    "\n",
    "Após o cálculo do índice, podemos verificar a situação da pessoa através da tabela abaixo.\n",
    "\n",
    "|         IMC        |         Situação        |\n",
    "|:------------------:|:-----------------------:|\n",
    "| Abaixo de 20       | Abaixo do peso          |\n",
    "| Entre 20 e 24,99   | Peso normal             |\n",
    "| Acima de 25        | Acima do peso           |\n"
   ]
  },
  {
   "cell_type": "code",
   "execution_count": null,
   "metadata": {
    "collapsed": true
   },
   "outputs": [],
   "source": [
    "peso = float(input(\"Digite seu peso: \"))\n",
    "altura = float(input(\"Digite sua altura: \"))\n",
    "imc = peso / altura ** 2\n",
    "if imc < 20:\n",
    "    print(\"Seu peso está abaixo do ideal. Seu IMC = {}.\".format(imc))\n",
    "else:\n",
    "    if imc >= 20 and imc<=25:\n",
    "        print(\"Seu peso está dentro da faixa ideal. Seu IMC = {}.\".format(imc))\n",
    "    else:\n",
    "        print(\"Seu peso está acima do ideal. Seu IMC = {}.\".format(imc))"
   ]
  },
  {
   "cell_type": "code",
   "execution_count": null,
   "metadata": {
    "collapsed": true
   },
   "outputs": [],
   "source": []
  }
 ],
 "metadata": {
  "kernelspec": {
   "display_name": "Python 3",
   "language": "python",
   "name": "python3"
  },
  "language_info": {
   "codemirror_mode": {
    "name": "ipython",
    "version": 3
   },
   "file_extension": ".py",
   "mimetype": "text/x-python",
   "name": "python",
   "nbconvert_exporter": "python",
   "pygments_lexer": "ipython3",
   "version": "3.6.3"
  }
 },
 "nbformat": 4,
 "nbformat_minor": 2
}
