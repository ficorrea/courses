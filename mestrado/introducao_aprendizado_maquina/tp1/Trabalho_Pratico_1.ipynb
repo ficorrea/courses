{
  "cells": [
    {
      "cell_type": "markdown",
      "id": "6b79a395-bf67-464a-b4f0-b5cd5b0d9a81",
      "metadata": {
        "tags": [],
        "id": "6b79a395-bf67-464a-b4f0-b5cd5b0d9a81"
      },
      "source": [
        "\n",
        "# <center> Programa de Pós-Graduação em Modelagem Computacional e Sistemas (PPGMCS)</center>\n",
        "# <center> Unimontes</center>\n",
        "# <center> Introdução à Aprendizagem de Máquina</center>\n",
        "\n",
        "# <center>Trabalho Prático 1</center>\n",
        "# <center>Prof. Honovan Rocha - honovan.rocha@ufvjm.edu.br</center>"
      ]
    },
    {
      "cell_type": "markdown",
      "id": "e9689b29-d81c-46f4-972a-df8f6962f077",
      "metadata": {
        "id": "e9689b29-d81c-46f4-972a-df8f6962f077"
      },
      "source": [
        "O objetivo deste trabalho é fazer com que o estudante consolide os conhecimentos vistos nas primeiras aulas da disciplina. Para obter os resultados desejados é importante trabalhar na implementação de todos os métodos vistos: Regressão Linear Simples, Regressão Linear com Múltiplas variáveis, Feature Scaling e Feature Engineering, Regressão Polinomial, Regressão Logística, Regularização e Seleção de Modelos."
      ]
    },
    {
      "cell_type": "markdown",
      "id": "39093ab2-a7f4-4d14-8032-62c46b0f74e1",
      "metadata": {
        "id": "39093ab2-a7f4-4d14-8032-62c46b0f74e1"
      },
      "source": [
        "Seguem os pacotes necessários às implementações:"
      ]
    },
    {
      "cell_type": "code",
      "execution_count": 1,
      "id": "a6ea5913-f0a5-4dc3-8c50-129c6bfc5403",
      "metadata": {
        "tags": [],
        "id": "a6ea5913-f0a5-4dc3-8c50-129c6bfc5403"
      },
      "outputs": [],
      "source": [
        "import numpy as np\n",
        "import pandas as pd\n",
        "import matplotlib.pylab as plt\n",
        "%matplotlib inline"
      ]
    },
    {
      "cell_type": "markdown",
      "id": "22ebcb70-1953-42a2-bd81-9edc99a19df5",
      "metadata": {
        "tags": [],
        "id": "22ebcb70-1953-42a2-bd81-9edc99a19df5"
      },
      "source": [
        "## 1 - Regressão Linear Simples\n",
        "Implemente o algoritmo para Regressão Linear para predizer o lucro para uma empresa de food truck. Essa empresa já possui diversas filiais e\n",
        "pretende iniciar uma pesquisa de mercado para abertura de novas unidades. Para obter um bom modelo preditivo serão utilizados dados relativos às franquias já existentes, estes dados contêm o lucro e a população das cidades.\n",
        "O arquivo ex1data1.txt contém os dados que deverão ser utilizados. Cada linha do arquivo é uma cidade; a primeira coluna contem a população e a segunda o lucro, da cidade correspondente.\n",
        "\n",
        "Visualização das primeiras linhas da base de dados:"
      ]
    },
    {
      "cell_type": "code",
      "source": [
        "from google.colab import drive\n",
        "drive.mount('/content/drive')"
      ],
      "metadata": {
        "colab": {
          "base_uri": "https://localhost:8080/"
        },
        "id": "UdGydy1augmE",
        "outputId": "56215684-fcbc-46ce-ce2c-b5a048603924"
      },
      "id": "UdGydy1augmE",
      "execution_count": 2,
      "outputs": [
        {
          "output_type": "stream",
          "name": "stdout",
          "text": [
            "Drive already mounted at /content/drive; to attempt to forcibly remount, call drive.mount(\"/content/drive\", force_remount=True).\n"
          ]
        }
      ]
    },
    {
      "cell_type": "code",
      "source": [
        "# Main path\n",
        "drive_path = '/content/drive/MyDrive/Mestrado/Intro - Aprendizado Máquina'"
      ],
      "metadata": {
        "id": "4p2rO6KGvHa_"
      },
      "id": "4p2rO6KGvHa_",
      "execution_count": 3,
      "outputs": []
    },
    {
      "cell_type": "code",
      "execution_count": null,
      "id": "52b858e0-f7eb-43bb-b32a-f4c5fc1f2d3e",
      "metadata": {
        "tags": [],
        "colab": {
          "base_uri": "https://localhost:8080/",
          "height": 206
        },
        "id": "52b858e0-f7eb-43bb-b32a-f4c5fc1f2d3e",
        "outputId": "8ba3dbc3-5ae8-4556-b74c-eb5ace443a1b"
      },
      "outputs": [
        {
          "output_type": "execute_result",
          "data": {
            "text/plain": [
              "   População    Lucro\n",
              "0     6.1101  17.5920\n",
              "1     5.5277   9.1302\n",
              "2     8.5186  13.6620\n",
              "3     7.0032  11.8540\n",
              "4     5.8598   6.8233"
            ],
            "text/html": [
              "\n",
              "  <div id=\"df-29ab7dd7-e3be-4a33-bce9-4f371c804568\" class=\"colab-df-container\">\n",
              "    <div>\n",
              "<style scoped>\n",
              "    .dataframe tbody tr th:only-of-type {\n",
              "        vertical-align: middle;\n",
              "    }\n",
              "\n",
              "    .dataframe tbody tr th {\n",
              "        vertical-align: top;\n",
              "    }\n",
              "\n",
              "    .dataframe thead th {\n",
              "        text-align: right;\n",
              "    }\n",
              "</style>\n",
              "<table border=\"1\" class=\"dataframe\">\n",
              "  <thead>\n",
              "    <tr style=\"text-align: right;\">\n",
              "      <th></th>\n",
              "      <th>População</th>\n",
              "      <th>Lucro</th>\n",
              "    </tr>\n",
              "  </thead>\n",
              "  <tbody>\n",
              "    <tr>\n",
              "      <th>0</th>\n",
              "      <td>6.1101</td>\n",
              "      <td>17.5920</td>\n",
              "    </tr>\n",
              "    <tr>\n",
              "      <th>1</th>\n",
              "      <td>5.5277</td>\n",
              "      <td>9.1302</td>\n",
              "    </tr>\n",
              "    <tr>\n",
              "      <th>2</th>\n",
              "      <td>8.5186</td>\n",
              "      <td>13.6620</td>\n",
              "    </tr>\n",
              "    <tr>\n",
              "      <th>3</th>\n",
              "      <td>7.0032</td>\n",
              "      <td>11.8540</td>\n",
              "    </tr>\n",
              "    <tr>\n",
              "      <th>4</th>\n",
              "      <td>5.8598</td>\n",
              "      <td>6.8233</td>\n",
              "    </tr>\n",
              "  </tbody>\n",
              "</table>\n",
              "</div>\n",
              "    <div class=\"colab-df-buttons\">\n",
              "\n",
              "  <div class=\"colab-df-container\">\n",
              "    <button class=\"colab-df-convert\" onclick=\"convertToInteractive('df-29ab7dd7-e3be-4a33-bce9-4f371c804568')\"\n",
              "            title=\"Convert this dataframe to an interactive table.\"\n",
              "            style=\"display:none;\">\n",
              "\n",
              "  <svg xmlns=\"http://www.w3.org/2000/svg\" height=\"24px\" viewBox=\"0 -960 960 960\">\n",
              "    <path d=\"M120-120v-720h720v720H120Zm60-500h600v-160H180v160Zm220 220h160v-160H400v160Zm0 220h160v-160H400v160ZM180-400h160v-160H180v160Zm440 0h160v-160H620v160ZM180-180h160v-160H180v160Zm440 0h160v-160H620v160Z\"/>\n",
              "  </svg>\n",
              "    </button>\n",
              "\n",
              "  <style>\n",
              "    .colab-df-container {\n",
              "      display:flex;\n",
              "      gap: 12px;\n",
              "    }\n",
              "\n",
              "    .colab-df-convert {\n",
              "      background-color: #E8F0FE;\n",
              "      border: none;\n",
              "      border-radius: 50%;\n",
              "      cursor: pointer;\n",
              "      display: none;\n",
              "      fill: #1967D2;\n",
              "      height: 32px;\n",
              "      padding: 0 0 0 0;\n",
              "      width: 32px;\n",
              "    }\n",
              "\n",
              "    .colab-df-convert:hover {\n",
              "      background-color: #E2EBFA;\n",
              "      box-shadow: 0px 1px 2px rgba(60, 64, 67, 0.3), 0px 1px 3px 1px rgba(60, 64, 67, 0.15);\n",
              "      fill: #174EA6;\n",
              "    }\n",
              "\n",
              "    .colab-df-buttons div {\n",
              "      margin-bottom: 4px;\n",
              "    }\n",
              "\n",
              "    [theme=dark] .colab-df-convert {\n",
              "      background-color: #3B4455;\n",
              "      fill: #D2E3FC;\n",
              "    }\n",
              "\n",
              "    [theme=dark] .colab-df-convert:hover {\n",
              "      background-color: #434B5C;\n",
              "      box-shadow: 0px 1px 3px 1px rgba(0, 0, 0, 0.15);\n",
              "      filter: drop-shadow(0px 1px 2px rgba(0, 0, 0, 0.3));\n",
              "      fill: #FFFFFF;\n",
              "    }\n",
              "  </style>\n",
              "\n",
              "    <script>\n",
              "      const buttonEl =\n",
              "        document.querySelector('#df-29ab7dd7-e3be-4a33-bce9-4f371c804568 button.colab-df-convert');\n",
              "      buttonEl.style.display =\n",
              "        google.colab.kernel.accessAllowed ? 'block' : 'none';\n",
              "\n",
              "      async function convertToInteractive(key) {\n",
              "        const element = document.querySelector('#df-29ab7dd7-e3be-4a33-bce9-4f371c804568');\n",
              "        const dataTable =\n",
              "          await google.colab.kernel.invokeFunction('convertToInteractive',\n",
              "                                                    [key], {});\n",
              "        if (!dataTable) return;\n",
              "\n",
              "        const docLinkHtml = 'Like what you see? Visit the ' +\n",
              "          '<a target=\"_blank\" href=https://colab.research.google.com/notebooks/data_table.ipynb>data table notebook</a>'\n",
              "          + ' to learn more about interactive tables.';\n",
              "        element.innerHTML = '';\n",
              "        dataTable['output_type'] = 'display_data';\n",
              "        await google.colab.output.renderOutput(dataTable, element);\n",
              "        const docLink = document.createElement('div');\n",
              "        docLink.innerHTML = docLinkHtml;\n",
              "        element.appendChild(docLink);\n",
              "      }\n",
              "    </script>\n",
              "  </div>\n",
              "\n",
              "\n",
              "<div id=\"df-29f4f5f8-8f78-4465-a7e8-f1a940e9253c\">\n",
              "  <button class=\"colab-df-quickchart\" onclick=\"quickchart('df-29f4f5f8-8f78-4465-a7e8-f1a940e9253c')\"\n",
              "            title=\"Suggest charts.\"\n",
              "            style=\"display:none;\">\n",
              "\n",
              "<svg xmlns=\"http://www.w3.org/2000/svg\" height=\"24px\"viewBox=\"0 0 24 24\"\n",
              "     width=\"24px\">\n",
              "    <g>\n",
              "        <path d=\"M19 3H5c-1.1 0-2 .9-2 2v14c0 1.1.9 2 2 2h14c1.1 0 2-.9 2-2V5c0-1.1-.9-2-2-2zM9 17H7v-7h2v7zm4 0h-2V7h2v10zm4 0h-2v-4h2v4z\"/>\n",
              "    </g>\n",
              "</svg>\n",
              "  </button>\n",
              "\n",
              "<style>\n",
              "  .colab-df-quickchart {\n",
              "      --bg-color: #E8F0FE;\n",
              "      --fill-color: #1967D2;\n",
              "      --hover-bg-color: #E2EBFA;\n",
              "      --hover-fill-color: #174EA6;\n",
              "      --disabled-fill-color: #AAA;\n",
              "      --disabled-bg-color: #DDD;\n",
              "  }\n",
              "\n",
              "  [theme=dark] .colab-df-quickchart {\n",
              "      --bg-color: #3B4455;\n",
              "      --fill-color: #D2E3FC;\n",
              "      --hover-bg-color: #434B5C;\n",
              "      --hover-fill-color: #FFFFFF;\n",
              "      --disabled-bg-color: #3B4455;\n",
              "      --disabled-fill-color: #666;\n",
              "  }\n",
              "\n",
              "  .colab-df-quickchart {\n",
              "    background-color: var(--bg-color);\n",
              "    border: none;\n",
              "    border-radius: 50%;\n",
              "    cursor: pointer;\n",
              "    display: none;\n",
              "    fill: var(--fill-color);\n",
              "    height: 32px;\n",
              "    padding: 0;\n",
              "    width: 32px;\n",
              "  }\n",
              "\n",
              "  .colab-df-quickchart:hover {\n",
              "    background-color: var(--hover-bg-color);\n",
              "    box-shadow: 0 1px 2px rgba(60, 64, 67, 0.3), 0 1px 3px 1px rgba(60, 64, 67, 0.15);\n",
              "    fill: var(--button-hover-fill-color);\n",
              "  }\n",
              "\n",
              "  .colab-df-quickchart-complete:disabled,\n",
              "  .colab-df-quickchart-complete:disabled:hover {\n",
              "    background-color: var(--disabled-bg-color);\n",
              "    fill: var(--disabled-fill-color);\n",
              "    box-shadow: none;\n",
              "  }\n",
              "\n",
              "  .colab-df-spinner {\n",
              "    border: 2px solid var(--fill-color);\n",
              "    border-color: transparent;\n",
              "    border-bottom-color: var(--fill-color);\n",
              "    animation:\n",
              "      spin 1s steps(1) infinite;\n",
              "  }\n",
              "\n",
              "  @keyframes spin {\n",
              "    0% {\n",
              "      border-color: transparent;\n",
              "      border-bottom-color: var(--fill-color);\n",
              "      border-left-color: var(--fill-color);\n",
              "    }\n",
              "    20% {\n",
              "      border-color: transparent;\n",
              "      border-left-color: var(--fill-color);\n",
              "      border-top-color: var(--fill-color);\n",
              "    }\n",
              "    30% {\n",
              "      border-color: transparent;\n",
              "      border-left-color: var(--fill-color);\n",
              "      border-top-color: var(--fill-color);\n",
              "      border-right-color: var(--fill-color);\n",
              "    }\n",
              "    40% {\n",
              "      border-color: transparent;\n",
              "      border-right-color: var(--fill-color);\n",
              "      border-top-color: var(--fill-color);\n",
              "    }\n",
              "    60% {\n",
              "      border-color: transparent;\n",
              "      border-right-color: var(--fill-color);\n",
              "    }\n",
              "    80% {\n",
              "      border-color: transparent;\n",
              "      border-right-color: var(--fill-color);\n",
              "      border-bottom-color: var(--fill-color);\n",
              "    }\n",
              "    90% {\n",
              "      border-color: transparent;\n",
              "      border-bottom-color: var(--fill-color);\n",
              "    }\n",
              "  }\n",
              "</style>\n",
              "\n",
              "  <script>\n",
              "    async function quickchart(key) {\n",
              "      const quickchartButtonEl =\n",
              "        document.querySelector('#' + key + ' button');\n",
              "      quickchartButtonEl.disabled = true;  // To prevent multiple clicks.\n",
              "      quickchartButtonEl.classList.add('colab-df-spinner');\n",
              "      try {\n",
              "        const charts = await google.colab.kernel.invokeFunction(\n",
              "            'suggestCharts', [key], {});\n",
              "      } catch (error) {\n",
              "        console.error('Error during call to suggestCharts:', error);\n",
              "      }\n",
              "      quickchartButtonEl.classList.remove('colab-df-spinner');\n",
              "      quickchartButtonEl.classList.add('colab-df-quickchart-complete');\n",
              "    }\n",
              "    (() => {\n",
              "      let quickchartButtonEl =\n",
              "        document.querySelector('#df-29f4f5f8-8f78-4465-a7e8-f1a940e9253c button');\n",
              "      quickchartButtonEl.style.display =\n",
              "        google.colab.kernel.accessAllowed ? 'block' : 'none';\n",
              "    })();\n",
              "  </script>\n",
              "</div>\n",
              "    </div>\n",
              "  </div>\n"
            ]
          },
          "metadata": {},
          "execution_count": 6
        }
      ],
      "source": [
        "# Carregando os dados\n",
        "data = pd.read_csv(f'{drive_path}/ex1data1.txt', header=None, names=['População', 'Lucro'])\n",
        "\n",
        "# Inicializando algumas variáveis\n",
        "m = len(data) # Número de amostras de treinamento\n",
        "X = np.append(np.ones((m, 1)), np.array(data[\"População\"]).reshape((m,1)), axis=1) # Adicione x0, um vetor de 1's, em X.\n",
        "y = np.array(data[\"Lucro\"]).reshape(m, 1)\n",
        "\n",
        "data.head()"
      ]
    },
    {
      "cell_type": "markdown",
      "id": "df2dbf3c-a1b7-4829-8ed4-44ea18213000",
      "metadata": {
        "id": "df2dbf3c-a1b7-4829-8ed4-44ea18213000"
      },
      "source": [
        "### 1.1 - Plotando os Dados"
      ]
    },
    {
      "cell_type": "markdown",
      "id": "1d70241f-83bd-4bb0-915f-aa47fe030473",
      "metadata": {
        "id": "1d70241f-83bd-4bb0-915f-aa47fe030473"
      },
      "source": [
        "Plotar os dados nos dá um idéia de como é a distribuição espacial dos dados:"
      ]
    },
    {
      "cell_type": "code",
      "execution_count": null,
      "id": "a516d8c6-5c3b-4b69-80d3-c5a0f31a37c9",
      "metadata": {
        "tags": [],
        "colab": {
          "base_uri": "https://localhost:8080/",
          "height": 489
        },
        "id": "a516d8c6-5c3b-4b69-80d3-c5a0f31a37c9",
        "outputId": "e2c0971b-1149-4ff3-aa2f-c3168ef58662"
      },
      "outputs": [
        {
          "output_type": "execute_result",
          "data": {
            "text/plain": [
              "Text(0.5, 1.0, 'Relação entre Lucro e População')"
            ]
          },
          "metadata": {},
          "execution_count": 5
        },
        {
          "output_type": "display_data",
          "data": {
            "text/plain": [
              "<Figure size 640x480 with 1 Axes>"
            ],
            "image/png": "[encoded data removed]"
          },
          "metadata": {}
        }
      ],
      "source": [
        "plt.scatter(data['População'], data['Lucro'], marker='x', c='red')\n",
        "plt.xlabel('População em 10,000')\n",
        "plt.ylabel('Lucro em $10,000')\n",
        "plt.title('Relação entre Lucro e População')"
      ]
    },
    {
      "cell_type": "markdown",
      "id": "29a26e8c-5d0b-40bc-b4d8-e7a40cc4311d",
      "metadata": {
        "id": "29a26e8c-5d0b-40bc-b4d8-e7a40cc4311d"
      },
      "source": [
        "### 1.2 - Implementação do Gradiente Descendente"
      ]
    },
    {
      "cell_type": "markdown",
      "id": "ae9f11b5-7957-4e91-b114-c4a00bc470d7",
      "metadata": {
        "id": "ae9f11b5-7957-4e91-b114-c4a00bc470d7"
      },
      "source": [
        "Nesta seção você deverá implementar a versão Batch do algoritmo Gradiente Descendente para encontrar os parâmetros $\\vec{\\theta}$ do modelo de regressão Linear: $y= h_\\theta(x)= \\theta_0 + \\theta_1x$. Inicialilze $\\vec{\\theta}$ com valores zero e defina a taxa de aprendizado $\\alpha=0.01$. Em seguida, implemente o código faltante para a função de custo $$J(\\theta) = \\frac{1}{2m} \\displaystyle\\sum_{i = 0}^{m}(h_θ(x^{(i)}) - y^{(i)})^2$$ completando o código a seguir:e na regressão linear regularizada\n",
        "A derivada parcial do gradiente da funç"
      ]
    },
    {
      "cell_type": "code",
      "execution_count": null,
      "id": "df0eda24-91d4-4dc8-8e36-cd9d5ce1af8f",
      "metadata": {
        "tags": [],
        "id": "df0eda24-91d4-4dc8-8e36-cd9d5ce1af8f"
      },
      "outputs": [],
      "source": [
        "def cost_function(X, y, theta):\n",
        "    \"\"\" Implemente a função de custo para um dado vetor de parâmetros para ajustar a regressão linear aos dados em X e y. \"\"\"\n",
        "    \"\"\"X é a matriz contendo todas as amostras da base de dados exceto o valor de y\"\"\"\n",
        "    \"\"\"É aconselhável usar vetorização na sua implementação\"\"\"\n",
        "    hx = sum(theta[0], sum(X.T * theta[1]))\n",
        "    se = 1 / (2 * X.shape[0]) * np.sum((hx - y.T) ** 2)\n",
        "    return se"
      ]
    },
    {
      "cell_type": "markdown",
      "id": "4574e1f7-19b7-41eb-89cb-29b8ca23e2b9",
      "metadata": {
        "id": "4574e1f7-19b7-41eb-89cb-29b8ca23e2b9"
      },
      "source": [
        "Ao testar esta função como o vetor $\\vec{\\theta} = \\begin{bmatrix}0 & 0\\end{bmatrix}$, $J(\\theta)$ deve retornar um valor de aproximadamente  32.07."
      ]
    },
    {
      "cell_type": "code",
      "execution_count": null,
      "id": "eda746cd-fb4b-4812-b802-2712e205f282",
      "metadata": {
        "tags": [],
        "colab": {
          "base_uri": "https://localhost:8080/"
        },
        "id": "eda746cd-fb4b-4812-b802-2712e205f282",
        "outputId": "18e5b0f9-b6a9-439e-92b4-f8e30f860f70"
      },
      "outputs": [
        {
          "output_type": "stream",
          "name": "stdout",
          "text": [
            "32.072733877455676\n"
          ]
        }
      ],
      "source": [
        "initial_theta = np.zeros((2,1))\n",
        "print(cost_function(X, y, initial_theta))"
      ]
    },
    {
      "cell_type": "markdown",
      "id": "6e2c088f-1c73-4ddb-8116-1c5244174e95",
      "metadata": {
        "id": "6e2c088f-1c73-4ddb-8116-1c5244174e95"
      },
      "source": [
        "Após testar a função \"cost_function\" e garantir que ela está funcionando corretamente, você deve implementar o algoritmo do Gradiente Descendente, cuja definição formal é: $repeat \\ \\{ \\\\ \\enspace \\theta_j := \\theta_j - \\alpha \\frac{1}{m}\\displaystyle\\sum_{i = 1}^{m}(h_\\theta(x^{(i)})-y^{(i)})x_j^{(i)}\\\\\\}$\n",
        "\n",
        "Para implementá-lo, complete a função a seguir:"
      ]
    },
    {
      "cell_type": "code",
      "execution_count": null,
      "id": "f68546f4-0a47-49c4-8e17-4ef2b1d4dade",
      "metadata": {
        "tags": [],
        "id": "f68546f4-0a47-49c4-8e17-4ef2b1d4dade"
      },
      "outputs": [],
      "source": [
        "def gradient_descent(X, y, theta, alpha, iterations):\n",
        "    \"\"\" Implemente aqui o gradiente descendente para aprender o vetor theta.\n",
        "    Retorne o valor encontrado para theta e os valores da função de custo para cada iteração(J_history).\n",
        "    \"\"\"\n",
        "    J_history = []\n",
        "    for i in range(iterations):\n",
        "        hx = sum(theta[0], sum(X.T * theta[1]))\n",
        "        theta[0] = theta[0] - (alpha / X.shape[0]) * np.sum(hx - y.T)\n",
        "        theta[1] = theta[1] - (alpha / X.shape[0]) * np.sum((hx - y.T) * X.T)\n",
        "        J_history.append(cost_function(X, y, theta))\n",
        "    return theta, J_history"
      ]
    },
    {
      "cell_type": "markdown",
      "id": "a37cf7d6-81cc-48e4-a7b6-f1cd83288675",
      "metadata": {
        "id": "a37cf7d6-81cc-48e4-a7b6-f1cd83288675"
      },
      "source": [
        "Após a convergência, o Gradiente Descendente deve produzir aproximadamente o seguinte vetor de parâmetros: $\\vec{\\theta} = \\begin{bmatrix}-3.6303\\\\1.1664\\end{bmatrix}$"
      ]
    },
    {
      "cell_type": "markdown",
      "id": "6b3b68fb-a5f4-4b2d-980b-8e7fe301ffd8",
      "metadata": {
        "id": "6b3b68fb-a5f4-4b2d-980b-8e7fe301ffd8"
      },
      "source": [
        "Agora, altere os parâmetros do Algoritmo para analisar o seu comportamento, e verifique as mudanças na curva do erro ($J(\\theta)$ a cada iteração) e no vetor $\\vec{\\theta}$. Exemplo de alterações:"
      ]
    },
    {
      "cell_type": "code",
      "execution_count": null,
      "id": "1c638d57-5e45-4a4b-a337-660ba2dc79b9",
      "metadata": {
        "tags": [],
        "id": "1c638d57-5e45-4a4b-a337-660ba2dc79b9",
        "outputId": "518e5660-602f-4837-9dfa-34c761750f89",
        "colab": {
          "base_uri": "https://localhost:8080/"
        }
      },
      "outputs": [
        {
          "output_type": "execute_result",
          "data": {
            "text/plain": [
              "array([[-4.82675982],\n",
              "       [ 1.16868288]])"
            ]
          },
          "metadata": {},
          "execution_count": 128
        }
      ],
      "source": [
        "alpha = 0.01\n",
        "iterations = 2000\n",
        "\n",
        "theta, J_history = gradient_descent(X, y, initial_theta, alpha, iterations)\n",
        "theta"
      ]
    },
    {
      "cell_type": "code",
      "execution_count": null,
      "id": "ec61fe24-78b5-4a94-9017-15f477952019",
      "metadata": {
        "tags": [],
        "id": "ec61fe24-78b5-4a94-9017-15f477952019",
        "outputId": "4a54401d-5199-49b8-ff92-e4a12b21bb12",
        "colab": {
          "base_uri": "https://localhost:8080/",
          "height": 447
        }
      },
      "outputs": [
        {
          "output_type": "execute_result",
          "data": {
            "text/plain": [
              "[<matplotlib.lines.Line2D at 0x7bf642a70c10>]"
            ]
          },
          "metadata": {},
          "execution_count": 129
        },
        {
          "output_type": "display_data",
          "data": {
            "text/plain": [
              "<Figure size 640x480 with 1 Axes>"
            ],
            "image/png": "[encoded data removed]"
          },
          "metadata": {}
        }
      ],
      "source": [
        "#Verificando a curva de erro a cada iteração\n",
        "plt.plot(J_history)"
      ]
    },
    {
      "cell_type": "markdown",
      "id": "9df0c092-461d-4b9c-8174-cdfdff2429c4",
      "metadata": {
        "id": "9df0c092-461d-4b9c-8174-cdfdff2429c4"
      },
      "source": [
        "Verifique a reta obtida após o aprendizado dos parâmetros, utilizando o script a seguir:"
      ]
    },
    {
      "cell_type": "code",
      "execution_count": null,
      "id": "bf83f125-df36-49fc-b591-9473211607f9",
      "metadata": {
        "tags": [],
        "id": "bf83f125-df36-49fc-b591-9473211607f9",
        "outputId": "934ef6cb-d8b0-473f-db5d-fc1b25b88156",
        "colab": {
          "base_uri": "https://localhost:8080/",
          "height": 447
        }
      },
      "outputs": [
        {
          "output_type": "execute_result",
          "data": {
            "text/plain": [
              "[<matplotlib.lines.Line2D at 0x7bf642afe3b0>]"
            ]
          },
          "metadata": {},
          "execution_count": 130
        },
        {
          "output_type": "display_data",
          "data": {
            "text/plain": [
              "<Figure size 640x480 with 1 Axes>"
            ],
            "image/png": "[encoded data removed]"
          },
          "metadata": {}
        }
      ],
      "source": [
        "plt.plot(X[:,1], y, 'rx', label='Dados de Treinamento')\n",
        "plt.plot(X[:,1], X.dot(theta), label='Regressão Linear')"
      ]
    },
    {
      "cell_type": "markdown",
      "id": "e74755ad-5c40-4c0a-8c1f-0b4e33f239db",
      "metadata": {
        "id": "e74755ad-5c40-4c0a-8c1f-0b4e33f239db"
      },
      "source": [
        "Para finalizar esta parte do trabalho, faça uma predição usando o modelo aprendido pelo algoritmo. Considere 2 cidades com populações de 35000 e 100000 habitantes respectivamente, qual o lucro predito para estas cidades????"
      ]
    },
    {
      "cell_type": "code",
      "execution_count": null,
      "id": "fdb2b4d4-d0b4-4cac-abe1-caf0bc045eb6",
      "metadata": {
        "tags": [],
        "id": "fdb2b4d4-d0b4-4cac-abe1-caf0bc045eb6",
        "colab": {
          "base_uri": "https://localhost:8080/"
        },
        "outputId": "5bc17e4e-2dc5-4446-d704-55f6de5f71ac"
      },
      "outputs": [
        {
          "output_type": "stream",
          "name": "stdout",
          "text": [
            "Lucro primeira cidade: [40899.07421217]\n",
            "Lucro segunda cidade: [116863.46173159]\n"
          ]
        }
      ],
      "source": [
        "#Faça aqui o código para predição do lucro nas 2 novas cidades\n",
        "print(f'Lucro primeira cidade: {theta[0] + theta[1] * 35000}')\n",
        "print(f'Lucro segunda cidade: {theta[0] + theta[1] * 100000}')"
      ]
    },
    {
      "cell_type": "markdown",
      "id": "83167374-f442-4e74-bc9e-c4617767b58e",
      "metadata": {
        "id": "83167374-f442-4e74-bc9e-c4617767b58e"
      },
      "source": [
        "## 2 - Regressão Linear Múltipla"
      ]
    },
    {
      "cell_type": "markdown",
      "id": "58ca9f19-772b-49ca-86d6-57bc2447c803",
      "metadata": {
        "id": "58ca9f19-772b-49ca-86d6-57bc2447c803"
      },
      "source": [
        "Nesta seção do trabalho voçê deverá implementar um algoritmo para Regressão Linear com Múltiplas Variáveis para predição do preço de venda de imóveis. O arquivo ex1data2.txt contém as informações dos imóveis. A coluna 1 corresponde ao tamanho do imóvel (em pés quadrados), na coluna 2 está a quantidade de quartos do imóvel, e a terceira coluna corresponde ao preço do imóvel.\n",
        "Obs: 1 pé corresponde a 0.3048 metros.\n",
        "\n",
        "O código a seguir mostra as primeiras linhas do arquivo ex1data2.txt:"
      ]
    },
    {
      "cell_type": "code",
      "execution_count": null,
      "id": "56350421-fe3f-414a-ab3c-ce2709b22f27",
      "metadata": {
        "tags": [],
        "id": "56350421-fe3f-414a-ab3c-ce2709b22f27",
        "outputId": "3b025640-f9e6-4183-dcfb-d5b9ac69b300",
        "colab": {
          "base_uri": "https://localhost:8080/",
          "height": 206
        }
      },
      "outputs": [
        {
          "output_type": "execute_result",
          "data": {
            "text/plain": [
              "   Size  Bedrooms   Price\n",
              "0  2104         3  399900\n",
              "1  1600         3  329900\n",
              "2  2400         3  369000\n",
              "3  1416         2  232000\n",
              "4  3000         4  539900"
            ],
            "text/html": [
              "\n",
              "  <div id=\"df-cfde0d66-2cbb-4aaa-89d2-3973507c5fc0\" class=\"colab-df-container\">\n",
              "    <div>\n",
              "<style scoped>\n",
              "    .dataframe tbody tr th:only-of-type {\n",
              "        vertical-align: middle;\n",
              "    }\n",
              "\n",
              "    .dataframe tbody tr th {\n",
              "        vertical-align: top;\n",
              "    }\n",
              "\n",
              "    .dataframe thead th {\n",
              "        text-align: right;\n",
              "    }\n",
              "</style>\n",
              "<table border=\"1\" class=\"dataframe\">\n",
              "  <thead>\n",
              "    <tr style=\"text-align: right;\">\n",
              "      <th></th>\n",
              "      <th>Size</th>\n",
              "      <th>Bedrooms</th>\n",
              "      <th>Price</th>\n",
              "    </tr>\n",
              "  </thead>\n",
              "  <tbody>\n",
              "    <tr>\n",
              "      <th>0</th>\n",
              "      <td>2104</td>\n",
              "      <td>3</td>\n",
              "      <td>399900</td>\n",
              "    </tr>\n",
              "    <tr>\n",
              "      <th>1</th>\n",
              "      <td>1600</td>\n",
              "      <td>3</td>\n",
              "      <td>329900</td>\n",
              "    </tr>\n",
              "    <tr>\n",
              "      <th>2</th>\n",
              "      <td>2400</td>\n",
              "      <td>3</td>\n",
              "      <td>369000</td>\n",
              "    </tr>\n",
              "    <tr>\n",
              "      <th>3</th>\n",
              "      <td>1416</td>\n",
              "      <td>2</td>\n",
              "      <td>232000</td>\n",
              "    </tr>\n",
              "    <tr>\n",
              "      <th>4</th>\n",
              "      <td>3000</td>\n",
              "      <td>4</td>\n",
              "      <td>539900</td>\n",
              "    </tr>\n",
              "  </tbody>\n",
              "</table>\n",
              "</div>\n",
              "    <div class=\"colab-df-buttons\">\n",
              "\n",
              "  <div class=\"colab-df-container\">\n",
              "    <button class=\"colab-df-convert\" onclick=\"convertToInteractive('df-cfde0d66-2cbb-4aaa-89d2-3973507c5fc0')\"\n",
              "            title=\"Convert this dataframe to an interactive table.\"\n",
              "            style=\"display:none;\">\n",
              "\n",
              "  <svg xmlns=\"http://www.w3.org/2000/svg\" height=\"24px\" viewBox=\"0 -960 960 960\">\n",
              "    <path d=\"M120-120v-720h720v720H120Zm60-500h600v-160H180v160Zm220 220h160v-160H400v160Zm0 220h160v-160H400v160ZM180-400h160v-160H180v160Zm440 0h160v-160H620v160ZM180-180h160v-160H180v160Zm440 0h160v-160H620v160Z\"/>\n",
              "  </svg>\n",
              "    </button>\n",
              "\n",
              "  <style>\n",
              "    .colab-df-container {\n",
              "      display:flex;\n",
              "      gap: 12px;\n",
              "    }\n",
              "\n",
              "    .colab-df-convert {\n",
              "      background-color: #E8F0FE;\n",
              "      border: none;\n",
              "      border-radius: 50%;\n",
              "      cursor: pointer;\n",
              "      display: none;\n",
              "      fill: #1967D2;\n",
              "      height: 32px;\n",
              "      padding: 0 0 0 0;\n",
              "      width: 32px;\n",
              "    }\n",
              "\n",
              "    .colab-df-convert:hover {\n",
              "      background-color: #E2EBFA;\n",
              "      box-shadow: 0px 1px 2px rgba(60, 64, 67, 0.3), 0px 1px 3px 1px rgba(60, 64, 67, 0.15);\n",
              "      fill: #174EA6;\n",
              "    }\n",
              "\n",
              "    .colab-df-buttons div {\n",
              "      margin-bottom: 4px;\n",
              "    }\n",
              "\n",
              "    [theme=dark] .colab-df-convert {\n",
              "      background-color: #3B4455;\n",
              "      fill: #D2E3FC;\n",
              "    }\n",
              "\n",
              "    [theme=dark] .colab-df-convert:hover {\n",
              "      background-color: #434B5C;\n",
              "      box-shadow: 0px 1px 3px 1px rgba(0, 0, 0, 0.15);\n",
              "      filter: drop-shadow(0px 1px 2px rgba(0, 0, 0, 0.3));\n",
              "      fill: #FFFFFF;\n",
              "    }\n",
              "  </style>\n",
              "\n",
              "    <script>\n",
              "      const buttonEl =\n",
              "        document.querySelector('#df-cfde0d66-2cbb-4aaa-89d2-3973507c5fc0 button.colab-df-convert');\n",
              "      buttonEl.style.display =\n",
              "        google.colab.kernel.accessAllowed ? 'block' : 'none';\n",
              "\n",
              "      async function convertToInteractive(key) {\n",
              "        const element = document.querySelector('#df-cfde0d66-2cbb-4aaa-89d2-3973507c5fc0');\n",
              "        const dataTable =\n",
              "          await google.colab.kernel.invokeFunction('convertToInteractive',\n",
              "                                                    [key], {});\n",
              "        if (!dataTable) return;\n",
              "\n",
              "        const docLinkHtml = 'Like what you see? Visit the ' +\n",
              "          '<a target=\"_blank\" href=https://colab.research.google.com/notebooks/data_table.ipynb>data table notebook</a>'\n",
              "          + ' to learn more about interactive tables.';\n",
              "        element.innerHTML = '';\n",
              "        dataTable['output_type'] = 'display_data';\n",
              "        await google.colab.output.renderOutput(dataTable, element);\n",
              "        const docLink = document.createElement('div');\n",
              "        docLink.innerHTML = docLinkHtml;\n",
              "        element.appendChild(docLink);\n",
              "      }\n",
              "    </script>\n",
              "  </div>\n",
              "\n",
              "\n",
              "<div id=\"df-c198719b-f1a3-4151-8fb8-b1bbcb2fd28d\">\n",
              "  <button class=\"colab-df-quickchart\" onclick=\"quickchart('df-c198719b-f1a3-4151-8fb8-b1bbcb2fd28d')\"\n",
              "            title=\"Suggest charts.\"\n",
              "            style=\"display:none;\">\n",
              "\n",
              "<svg xmlns=\"http://www.w3.org/2000/svg\" height=\"24px\"viewBox=\"0 0 24 24\"\n",
              "     width=\"24px\">\n",
              "    <g>\n",
              "        <path d=\"M19 3H5c-1.1 0-2 .9-2 2v14c0 1.1.9 2 2 2h14c1.1 0 2-.9 2-2V5c0-1.1-.9-2-2-2zM9 17H7v-7h2v7zm4 0h-2V7h2v10zm4 0h-2v-4h2v4z\"/>\n",
              "    </g>\n",
              "</svg>\n",
              "  </button>\n",
              "\n",
              "<style>\n",
              "  .colab-df-quickchart {\n",
              "      --bg-color: #E8F0FE;\n",
              "      --fill-color: #1967D2;\n",
              "      --hover-bg-color: #E2EBFA;\n",
              "      --hover-fill-color: #174EA6;\n",
              "      --disabled-fill-color: #AAA;\n",
              "      --disabled-bg-color: #DDD;\n",
              "  }\n",
              "\n",
              "  [theme=dark] .colab-df-quickchart {\n",
              "      --bg-color: #3B4455;\n",
              "      --fill-color: #D2E3FC;\n",
              "      --hover-bg-color: #434B5C;\n",
              "      --hover-fill-color: #FFFFFF;\n",
              "      --disabled-bg-color: #3B4455;\n",
              "      --disabled-fill-color: #666;\n",
              "  }\n",
              "\n",
              "  .colab-df-quickchart {\n",
              "    background-color: var(--bg-color);\n",
              "    border: none;\n",
              "    border-radius: 50%;\n",
              "    cursor: pointer;\n",
              "    display: none;\n",
              "    fill: var(--fill-color);\n",
              "    height: 32px;\n",
              "    padding: 0;\n",
              "    width: 32px;\n",
              "  }\n",
              "\n",
              "  .colab-df-quickchart:hover {\n",
              "    background-color: var(--hover-bg-color);\n",
              "    box-shadow: 0 1px 2px rgba(60, 64, 67, 0.3), 0 1px 3px 1px rgba(60, 64, 67, 0.15);\n",
              "    fill: var(--button-hover-fill-color);\n",
              "  }\n",
              "\n",
              "  .colab-df-quickchart-complete:disabled,\n",
              "  .colab-df-quickchart-complete:disabled:hover {\n",
              "    background-color: var(--disabled-bg-color);\n",
              "    fill: var(--disabled-fill-color);\n",
              "    box-shadow: none;\n",
              "  }\n",
              "\n",
              "  .colab-df-spinner {\n",
              "    border: 2px solid var(--fill-color);\n",
              "    border-color: transparent;\n",
              "    border-bottom-color: var(--fill-color);\n",
              "    animation:\n",
              "      spin 1s steps(1) infinite;\n",
              "  }\n",
              "\n",
              "  @keyframes spin {\n",
              "    0% {\n",
              "      border-color: transparent;\n",
              "      border-bottom-color: var(--fill-color);\n",
              "      border-left-color: var(--fill-color);\n",
              "    }\n",
              "    20% {\n",
              "      border-color: transparent;\n",
              "      border-left-color: var(--fill-color);\n",
              "      border-top-color: var(--fill-color);\n",
              "    }\n",
              "    30% {\n",
              "      border-color: transparent;\n",
              "      border-left-color: var(--fill-color);\n",
              "      border-top-color: var(--fill-color);\n",
              "      border-right-color: var(--fill-color);\n",
              "    }\n",
              "    40% {\n",
              "      border-color: transparent;\n",
              "      border-right-color: var(--fill-color);\n",
              "      border-top-color: var(--fill-color);\n",
              "    }\n",
              "    60% {\n",
              "      border-color: transparent;\n",
              "      border-right-color: var(--fill-color);\n",
              "    }\n",
              "    80% {\n",
              "      border-color: transparent;\n",
              "      border-right-color: var(--fill-color);\n",
              "      border-bottom-color: var(--fill-color);\n",
              "    }\n",
              "    90% {\n",
              "      border-color: transparent;\n",
              "      border-bottom-color: var(--fill-color);\n",
              "    }\n",
              "  }\n",
              "</style>\n",
              "\n",
              "  <script>\n",
              "    async function quickchart(key) {\n",
              "      const quickchartButtonEl =\n",
              "        document.querySelector('#' + key + ' button');\n",
              "      quickchartButtonEl.disabled = true;  // To prevent multiple clicks.\n",
              "      quickchartButtonEl.classList.add('colab-df-spinner');\n",
              "      try {\n",
              "        const charts = await google.colab.kernel.invokeFunction(\n",
              "            'suggestCharts', [key], {});\n",
              "      } catch (error) {\n",
              "        console.error('Error during call to suggestCharts:', error);\n",
              "      }\n",
              "      quickchartButtonEl.classList.remove('colab-df-spinner');\n",
              "      quickchartButtonEl.classList.add('colab-df-quickchart-complete');\n",
              "    }\n",
              "    (() => {\n",
              "      let quickchartButtonEl =\n",
              "        document.querySelector('#df-c198719b-f1a3-4151-8fb8-b1bbcb2fd28d button');\n",
              "      quickchartButtonEl.style.display =\n",
              "        google.colab.kernel.accessAllowed ? 'block' : 'none';\n",
              "    })();\n",
              "  </script>\n",
              "</div>\n",
              "    </div>\n",
              "  </div>\n"
            ]
          },
          "metadata": {},
          "execution_count": 199
        }
      ],
      "source": [
        "# Carregando os dados para a variável (data)\n",
        "data = pd.read_csv(f'{drive_path}/ex1data2.txt', header = None, names=[\"Size\", \"Bedrooms\",\"Price\"])\n",
        "m = len(data)\n",
        "\n",
        "# Inicializando X, y e o vetor de parâmetros (theta)\n",
        "x0 = np.ones(m)\n",
        "size = np.array((data[\"Size\"]))\n",
        "bedrooms = np.array((data[\"Bedrooms\"]))\n",
        "X = np.array([x0, size, bedrooms]).T\n",
        "y = np.array(data[\"Price\"]).reshape(len(data.index), 1)\n",
        "theta_init = np.zeros((3,1))\n",
        "\n",
        "data.head()"
      ]
    },
    {
      "cell_type": "markdown",
      "id": "217656d9-86c4-4d35-b749-bae0648bfbaf",
      "metadata": {
        "id": "217656d9-86c4-4d35-b749-bae0648bfbaf"
      },
      "source": [
        "### 2.1 Normalização das Features"
      ]
    },
    {
      "cell_type": "markdown",
      "id": "13f5bbc2-2abe-404c-ad92-a3943e9760c6",
      "metadata": {
        "id": "13f5bbc2-2abe-404c-ad92-a3943e9760c6"
      },
      "source": [
        "Quando as features tem grandes diferenças com relação à ordem de magnitude, algumas delas podem ter maior influência na direção de busca do gradiente, dominando o processo de busca em determinadas direções. Analisando-se a base de dados, podemos verificar que a coluna relativa ao tamanho dos imóveis tem valores aproximadamente 1000 vezes maiores que os valores da coluna que contém a quantidade de quartos. Desta forma, para aumentar a velocidade de convergência do algoritmo Gradiente Descendente, implemente a normalização das features (Feature Scaling) atualizando o valor de cada coluna de dados usando a seguinte formula: $x := \\frac{x - \\mu}{\\sigma}$, onde $\\mu$ é a média e $\\sigma$ é o desvio padrão. Complete a função a seguir para realizar a normalização. A função recebe a matriz de dados X como parâmetro e retorna o valor atualizado de X e os valores calculados de $\\mu$ e $\\sigma$.\n"
      ]
    },
    {
      "cell_type": "code",
      "execution_count": null,
      "id": "bfd4a091-2a88-4172-8f4e-ccdf488bcda1",
      "metadata": {
        "tags": [],
        "id": "bfd4a091-2a88-4172-8f4e-ccdf488bcda1",
        "outputId": "cf1d0541-8d2f-465d-f126-77f439efb713",
        "colab": {
          "base_uri": "https://localhost:8080/"
        }
      },
      "outputs": [
        {
          "output_type": "execute_result",
          "data": {
            "text/plain": [
              "array([[ 1.        ,  0.13141542, -0.22609337],\n",
              "       [ 1.        , -0.5096407 , -0.22609337],\n",
              "       [ 1.        ,  0.5079087 , -0.22609337],\n",
              "       [ 1.        , -0.74367706, -1.5543919 ],\n",
              "       [ 1.        ,  1.27107075,  1.10220517]])"
            ]
          },
          "metadata": {},
          "execution_count": 200
        }
      ],
      "source": [
        "# Função para realização da normalização\n",
        "def normalize(X):\n",
        "    \"\"\" Normaliza as features em X Retorna a versão normalizada de X onde a média de\n",
        "    cada feature é zero e o desvio padrão é 1. Lembre-se que cada linha de X tem as features de um determinado imóvel\n",
        "    e cada coluna de X contém uma feature específica (ex: qtde quartos) para todos os imóveis.\n",
        "    \"\"\"\n",
        "    mu = np.zeros(X.shape[1])\n",
        "    sigma = np.zeros(X.shape[1])\n",
        "\n",
        "    \"\"\"Faça aqui os passos necessários para a normalização ...\"\"\"\n",
        "    scale = lambda x: (x - X[:, 1].mean()) / X[:, 1].std()\n",
        "    X[:, 1] = scale(X[:, 1])\n",
        "\n",
        "    scale = lambda x: (x - X[:, 2].mean()) / X[:, 2].std()\n",
        "    X[:, 2] = scale(X[:, 2])\n",
        "\n",
        "    mu = [X[:, 0].mean(), X[:, 1].mean(), X[:, 2].mean()]\n",
        "    sigma = [X[:, 0].std(), X[:, 1].std(), X[:, 2].std()]\n",
        "\n",
        "    return X, mu, sigma\n",
        "\n",
        "X, mu, sigma = normalize(X)\n",
        "X[0:5]"
      ]
    },
    {
      "cell_type": "markdown",
      "id": "e7252d6c-3802-46b1-8b8c-fcd1d2217e3a",
      "metadata": {
        "id": "e7252d6c-3802-46b1-8b8c-fcd1d2217e3a"
      },
      "source": [
        "### Observação importante sobre a normalização:\n",
        "É importante armazenar os valores de $\\mu$ e $\\sigma$ calculados para cada variável, pois quando for testar o modelo aprendido para prever o valor de um novo imóvel, você deverá usar os valores armazenados (obtidos através dos dados de treinamento) para normalizar as features deste novo imóvel, antes de testar o modelo sobre o novo dado [area, qtde_quartos]."
      ]
    },
    {
      "cell_type": "markdown",
      "id": "37057690-3152-4110-acd5-ecb2ccd88e4e",
      "metadata": {
        "tags": [],
        "id": "37057690-3152-4110-acd5-ecb2ccd88e4e"
      },
      "source": [
        "### 2.2 - Gradiente Descendente"
      ]
    },
    {
      "cell_type": "markdown",
      "id": "03e25dd9-9d1c-479d-bf37-c13dc3ddf855",
      "metadata": {
        "id": "03e25dd9-9d1c-479d-bf37-c13dc3ddf855"
      },
      "source": [
        "Implemente o algoritmo Gradiente Descendente para realizar a regressão com múltiplas variáveis. Garanta que sua implementação seja na forma vetorial e genérica (suportando qualquer quantidade de features). Tome a função a seguir como base para sua implementação:"
      ]
    },
    {
      "cell_type": "code",
      "execution_count": null,
      "id": "0abcbd56-540d-4dfc-acbd-bb9b9248fd95",
      "metadata": {
        "tags": [],
        "id": "0abcbd56-540d-4dfc-acbd-bb9b9248fd95",
        "outputId": "aa9c6931-46f9-4acc-e5c2-743c051d8993",
        "colab": {
          "base_uri": "https://localhost:8080/"
        }
      },
      "outputs": [
        {
          "output_type": "execute_result",
          "data": {
            "text/plain": [
              "array([[3.40412660e+05],\n",
              "       [2.99134743e-11],\n",
              "       [7.91515823e-11]])"
            ]
          },
          "metadata": {},
          "execution_count": 201
        }
      ],
      "source": [
        "def gradient_descent_multi(X, y, theta, alpha, iterations):\n",
        "    J_history = []\n",
        "    \"\"\"Faça aqui os passos necessários...\"\"\"\n",
        "    for i in range(iterations):\n",
        "        error = np.dot(X, theta) - y\n",
        "        derivative = np.array([np.sum(error * X[:, j]) for j in range(X.shape[1])])\n",
        "        derivative /= X.shape[0]\n",
        "        theta = np.array([theta[z] - alpha * derivative[z] for z in range(X.shape[1])])\n",
        "        J_history.append(1 / X.shape[0] * np.sum((np.dot(X, theta) - y) ** 2))\n",
        "\n",
        "    return theta, J_history\n",
        "\n",
        "alpha = 0.01\n",
        "iterations = 2000\n",
        "initial_theta = np.zeros((3,1))\n",
        "theta, J_history = gradient_descent_multi(X, y, initial_theta, alpha, iterations)\n",
        "theta"
      ]
    },
    {
      "cell_type": "markdown",
      "id": "987edb2d-7d53-4fd9-814c-3b1664e1cd3b",
      "metadata": {
        "id": "987edb2d-7d53-4fd9-814c-3b1664e1cd3b"
      },
      "source": [
        "Analise a curva de erro para cada iteração do algoritmo, gerando um gráfico similar àquele obtido para regressão linear simples"
      ]
    },
    {
      "cell_type": "code",
      "execution_count": null,
      "id": "e650f364-df3d-4889-ad2a-a87bd7e507fe",
      "metadata": {
        "tags": [],
        "id": "e650f364-df3d-4889-ad2a-a87bd7e507fe",
        "outputId": "20568cc3-a5b5-462b-90e8-7334ce993f08",
        "colab": {
          "base_uri": "https://localhost:8080/",
          "height": 489
        }
      },
      "outputs": [
        {
          "output_type": "execute_result",
          "data": {
            "text/plain": [
              "Text(0, 0.5, 'custo')"
            ]
          },
          "metadata": {},
          "execution_count": 202
        },
        {
          "output_type": "display_data",
          "data": {
            "text/plain": [
              "<Figure size 640x480 with 1 Axes>"
            ],
            "image/png": "[encoded data removed]"
          },
          "metadata": {}
        }
      ],
      "source": [
        "plt.plot(J_history)\n",
        "plt.title('J por iteração')\n",
        "plt.xlabel('iteração')\n",
        "plt.ylabel('custo')"
      ]
    },
    {
      "cell_type": "markdown",
      "id": "d65d5ba9-0b6d-4ecc-bd5a-63bd59b64554",
      "metadata": {
        "id": "d65d5ba9-0b6d-4ecc-bd5a-63bd59b64554"
      },
      "source": [
        "Para finalizar esta parte do trabalho, faça uma predição usando o modelo aprendido pelo algoritmo. Considere 1 imóvel com 1650 pés quadrados e 3 quartos. Qual o preço predito para este imóvel?"
      ]
    },
    {
      "cell_type": "code",
      "execution_count": null,
      "id": "e5851e24-4ae2-48b6-a9f3-21d4abc14657",
      "metadata": {
        "tags": [],
        "id": "e5851e24-4ae2-48b6-a9f3-21d4abc14657",
        "colab": {
          "base_uri": "https://localhost:8080/"
        },
        "outputId": "d5831d74-4fd4-4cf7-e5a8-6188aff4d070"
      },
      "outputs": [
        {
          "output_type": "execute_result",
          "data": {
            "text/plain": [
              "array([340412.65957442])"
            ]
          },
          "metadata": {},
          "execution_count": 188
        }
      ],
      "source": [
        "#Faça a predição aqui...\n",
        "theta[0] + (((mu[1] - 1650) / sigma[1]) * theta[1]) + (((mu[2] - 3) / sigma[2]) * theta[2])"
      ]
    },
    {
      "cell_type": "markdown",
      "id": "8a13ff4f-22f7-422d-84d0-853cad81d930",
      "metadata": {
        "id": "8a13ff4f-22f7-422d-84d0-853cad81d930"
      },
      "source": [
        "## 3 - Regressão Logística"
      ]
    },
    {
      "cell_type": "markdown",
      "id": "585677e5-1ed5-4f60-a791-01c84c78dda9",
      "metadata": {
        "id": "585677e5-1ed5-4f60-a791-01c84c78dda9"
      },
      "source": [
        "O objetivo da Regressão Logística é predizer a que categoria(classe) uma certa amostra pertence. Considerando-se classificação bináia, existem apenas 2 possíveis classes: $y \\in \\{0,1\\}$.\n",
        "\n",
        "Nesta Seção, com o objetivo de fixar o conteúdo, você deverá implementar o algoritmo de Regressão Logística e aplicá-lo a uma base de dados para predição de aprovação de um estudante com base nos resultados de 2 avaliações realizadas por ele. A base de dados(arquivo ex2data1.txt) contem dados históricos referentes a avaliações passadas, onde as colunas da base são: Avaliação 1, Avaliação 2 e resultado(aprovado ou reprovado)."
      ]
    },
    {
      "cell_type": "markdown",
      "id": "2d7e6c08-a0b3-4e8c-b2c0-96255ddc20a9",
      "metadata": {
        "id": "2d7e6c08-a0b3-4e8c-b2c0-96255ddc20a9"
      },
      "source": [
        "### 3.1 - Visualização da Base de Dados"
      ]
    },
    {
      "cell_type": "markdown",
      "id": "7e3d7502-c692-4f5c-ad4a-67222c9d5f62",
      "metadata": {
        "id": "7e3d7502-c692-4f5c-ad4a-67222c9d5f62"
      },
      "source": [
        "O código a seguir mostra as primeiras linhas do arquivo ex2data1.txt:"
      ]
    },
    {
      "cell_type": "code",
      "execution_count": 87,
      "id": "82e85f00-94be-4979-a30d-1c3e8bfb6fd4",
      "metadata": {
        "tags": [],
        "id": "82e85f00-94be-4979-a30d-1c3e8bfb6fd4",
        "outputId": "001d9047-8328-4943-e843-c3d38889335b",
        "colab": {
          "base_uri": "https://localhost:8080/",
          "height": 362
        }
      },
      "outputs": [
        {
          "output_type": "stream",
          "name": "stdout",
          "text": [
            "Matriz X:\n",
            " [[ 1.         34.62365962 78.02469282]\n",
            " [ 1.         30.28671077 43.89499752]\n",
            " [ 1.         35.84740877 72.90219803]\n",
            " [ 1.         60.18259939 86.3085521 ]\n",
            " [ 1.         79.03273605 75.34437644]]\n",
            "\n",
            "\n",
            "Dados brutos: \n"
          ]
        },
        {
          "output_type": "execute_result",
          "data": {
            "text/plain": [
              "   Avaliacao 1  Avaliacao 2  Aprovado\n",
              "0    34.623660    78.024693         0\n",
              "1    30.286711    43.894998         0\n",
              "2    35.847409    72.902198         0\n",
              "3    60.182599    86.308552         1\n",
              "4    79.032736    75.344376         1"
            ],
            "text/html": [
              "\n",
              "  <div id=\"df-c20cdba7-2740-49ff-b49d-b1491b256b17\" class=\"colab-df-container\">\n",
              "    <div>\n",
              "<style scoped>\n",
              "    .dataframe tbody tr th:only-of-type {\n",
              "        vertical-align: middle;\n",
              "    }\n",
              "\n",
              "    .dataframe tbody tr th {\n",
              "        vertical-align: top;\n",
              "    }\n",
              "\n",
              "    .dataframe thead th {\n",
              "        text-align: right;\n",
              "    }\n",
              "</style>\n",
              "<table border=\"1\" class=\"dataframe\">\n",
              "  <thead>\n",
              "    <tr style=\"text-align: right;\">\n",
              "      <th></th>\n",
              "      <th>Avaliacao 1</th>\n",
              "      <th>Avaliacao 2</th>\n",
              "      <th>Aprovado</th>\n",
              "    </tr>\n",
              "  </thead>\n",
              "  <tbody>\n",
              "    <tr>\n",
              "      <th>0</th>\n",
              "      <td>34.623660</td>\n",
              "      <td>78.024693</td>\n",
              "      <td>0</td>\n",
              "    </tr>\n",
              "    <tr>\n",
              "      <th>1</th>\n",
              "      <td>30.286711</td>\n",
              "      <td>43.894998</td>\n",
              "      <td>0</td>\n",
              "    </tr>\n",
              "    <tr>\n",
              "      <th>2</th>\n",
              "      <td>35.847409</td>\n",
              "      <td>72.902198</td>\n",
              "      <td>0</td>\n",
              "    </tr>\n",
              "    <tr>\n",
              "      <th>3</th>\n",
              "      <td>60.182599</td>\n",
              "      <td>86.308552</td>\n",
              "      <td>1</td>\n",
              "    </tr>\n",
              "    <tr>\n",
              "      <th>4</th>\n",
              "      <td>79.032736</td>\n",
              "      <td>75.344376</td>\n",
              "      <td>1</td>\n",
              "    </tr>\n",
              "  </tbody>\n",
              "</table>\n",
              "</div>\n",
              "    <div class=\"colab-df-buttons\">\n",
              "\n",
              "  <div class=\"colab-df-container\">\n",
              "    <button class=\"colab-df-convert\" onclick=\"convertToInteractive('df-c20cdba7-2740-49ff-b49d-b1491b256b17')\"\n",
              "            title=\"Convert this dataframe to an interactive table.\"\n",
              "            style=\"display:none;\">\n",
              "\n",
              "  <svg xmlns=\"http://www.w3.org/2000/svg\" height=\"24px\" viewBox=\"0 -960 960 960\">\n",
              "    <path d=\"M120-120v-720h720v720H120Zm60-500h600v-160H180v160Zm220 220h160v-160H400v160Zm0 220h160v-160H400v160ZM180-400h160v-160H180v160Zm440 0h160v-160H620v160ZM180-180h160v-160H180v160Zm440 0h160v-160H620v160Z\"/>\n",
              "  </svg>\n",
              "    </button>\n",
              "\n",
              "  <style>\n",
              "    .colab-df-container {\n",
              "      display:flex;\n",
              "      gap: 12px;\n",
              "    }\n",
              "\n",
              "    .colab-df-convert {\n",
              "      background-color: #E8F0FE;\n",
              "      border: none;\n",
              "      border-radius: 50%;\n",
              "      cursor: pointer;\n",
              "      display: none;\n",
              "      fill: #1967D2;\n",
              "      height: 32px;\n",
              "      padding: 0 0 0 0;\n",
              "      width: 32px;\n",
              "    }\n",
              "\n",
              "    .colab-df-convert:hover {\n",
              "      background-color: #E2EBFA;\n",
              "      box-shadow: 0px 1px 2px rgba(60, 64, 67, 0.3), 0px 1px 3px 1px rgba(60, 64, 67, 0.15);\n",
              "      fill: #174EA6;\n",
              "    }\n",
              "\n",
              "    .colab-df-buttons div {\n",
              "      margin-bottom: 4px;\n",
              "    }\n",
              "\n",
              "    [theme=dark] .colab-df-convert {\n",
              "      background-color: #3B4455;\n",
              "      fill: #D2E3FC;\n",
              "    }\n",
              "\n",
              "    [theme=dark] .colab-df-convert:hover {\n",
              "      background-color: #434B5C;\n",
              "      box-shadow: 0px 1px 3px 1px rgba(0, 0, 0, 0.15);\n",
              "      filter: drop-shadow(0px 1px 2px rgba(0, 0, 0, 0.3));\n",
              "      fill: #FFFFFF;\n",
              "    }\n",
              "  </style>\n",
              "\n",
              "    <script>\n",
              "      const buttonEl =\n",
              "        document.querySelector('#df-c20cdba7-2740-49ff-b49d-b1491b256b17 button.colab-df-convert');\n",
              "      buttonEl.style.display =\n",
              "        google.colab.kernel.accessAllowed ? 'block' : 'none';\n",
              "\n",
              "      async function convertToInteractive(key) {\n",
              "        const element = document.querySelector('#df-c20cdba7-2740-49ff-b49d-b1491b256b17');\n",
              "        const dataTable =\n",
              "          await google.colab.kernel.invokeFunction('convertToInteractive',\n",
              "                                                    [key], {});\n",
              "        if (!dataTable) return;\n",
              "\n",
              "        const docLinkHtml = 'Like what you see? Visit the ' +\n",
              "          '<a target=\"_blank\" href=https://colab.research.google.com/notebooks/data_table.ipynb>data table notebook</a>'\n",
              "          + ' to learn more about interactive tables.';\n",
              "        element.innerHTML = '';\n",
              "        dataTable['output_type'] = 'display_data';\n",
              "        await google.colab.output.renderOutput(dataTable, element);\n",
              "        const docLink = document.createElement('div');\n",
              "        docLink.innerHTML = docLinkHtml;\n",
              "        element.appendChild(docLink);\n",
              "      }\n",
              "    </script>\n",
              "  </div>\n",
              "\n",
              "\n",
              "<div id=\"df-fc22bbc8-3012-4ccf-b1f1-b953a9b394bc\">\n",
              "  <button class=\"colab-df-quickchart\" onclick=\"quickchart('df-fc22bbc8-3012-4ccf-b1f1-b953a9b394bc')\"\n",
              "            title=\"Suggest charts.\"\n",
              "            style=\"display:none;\">\n",
              "\n",
              "<svg xmlns=\"http://www.w3.org/2000/svg\" height=\"24px\"viewBox=\"0 0 24 24\"\n",
              "     width=\"24px\">\n",
              "    <g>\n",
              "        <path d=\"M19 3H5c-1.1 0-2 .9-2 2v14c0 1.1.9 2 2 2h14c1.1 0 2-.9 2-2V5c0-1.1-.9-2-2-2zM9 17H7v-7h2v7zm4 0h-2V7h2v10zm4 0h-2v-4h2v4z\"/>\n",
              "    </g>\n",
              "</svg>\n",
              "  </button>\n",
              "\n",
              "<style>\n",
              "  .colab-df-quickchart {\n",
              "      --bg-color: #E8F0FE;\n",
              "      --fill-color: #1967D2;\n",
              "      --hover-bg-color: #E2EBFA;\n",
              "      --hover-fill-color: #174EA6;\n",
              "      --disabled-fill-color: #AAA;\n",
              "      --disabled-bg-color: #DDD;\n",
              "  }\n",
              "\n",
              "  [theme=dark] .colab-df-quickchart {\n",
              "      --bg-color: #3B4455;\n",
              "      --fill-color: #D2E3FC;\n",
              "      --hover-bg-color: #434B5C;\n",
              "      --hover-fill-color: #FFFFFF;\n",
              "      --disabled-bg-color: #3B4455;\n",
              "      --disabled-fill-color: #666;\n",
              "  }\n",
              "\n",
              "  .colab-df-quickchart {\n",
              "    background-color: var(--bg-color);\n",
              "    border: none;\n",
              "    border-radius: 50%;\n",
              "    cursor: pointer;\n",
              "    display: none;\n",
              "    fill: var(--fill-color);\n",
              "    height: 32px;\n",
              "    padding: 0;\n",
              "    width: 32px;\n",
              "  }\n",
              "\n",
              "  .colab-df-quickchart:hover {\n",
              "    background-color: var(--hover-bg-color);\n",
              "    box-shadow: 0 1px 2px rgba(60, 64, 67, 0.3), 0 1px 3px 1px rgba(60, 64, 67, 0.15);\n",
              "    fill: var(--button-hover-fill-color);\n",
              "  }\n",
              "\n",
              "  .colab-df-quickchart-complete:disabled,\n",
              "  .colab-df-quickchart-complete:disabled:hover {\n",
              "    background-color: var(--disabled-bg-color);\n",
              "    fill: var(--disabled-fill-color);\n",
              "    box-shadow: none;\n",
              "  }\n",
              "\n",
              "  .colab-df-spinner {\n",
              "    border: 2px solid var(--fill-color);\n",
              "    border-color: transparent;\n",
              "    border-bottom-color: var(--fill-color);\n",
              "    animation:\n",
              "      spin 1s steps(1) infinite;\n",
              "  }\n",
              "\n",
              "  @keyframes spin {\n",
              "    0% {\n",
              "      border-color: transparent;\n",
              "      border-bottom-color: var(--fill-color);\n",
              "      border-left-color: var(--fill-color);\n",
              "    }\n",
              "    20% {\n",
              "      border-color: transparent;\n",
              "      border-left-color: var(--fill-color);\n",
              "      border-top-color: var(--fill-color);\n",
              "    }\n",
              "    30% {\n",
              "      border-color: transparent;\n",
              "      border-left-color: var(--fill-color);\n",
              "      border-top-color: var(--fill-color);\n",
              "      border-right-color: var(--fill-color);\n",
              "    }\n",
              "    40% {\n",
              "      border-color: transparent;\n",
              "      border-right-color: var(--fill-color);\n",
              "      border-top-color: var(--fill-color);\n",
              "    }\n",
              "    60% {\n",
              "      border-color: transparent;\n",
              "      border-right-color: var(--fill-color);\n",
              "    }\n",
              "    80% {\n",
              "      border-color: transparent;\n",
              "      border-right-color: var(--fill-color);\n",
              "      border-bottom-color: var(--fill-color);\n",
              "    }\n",
              "    90% {\n",
              "      border-color: transparent;\n",
              "      border-bottom-color: var(--fill-color);\n",
              "    }\n",
              "  }\n",
              "</style>\n",
              "\n",
              "  <script>\n",
              "    async function quickchart(key) {\n",
              "      const quickchartButtonEl =\n",
              "        document.querySelector('#' + key + ' button');\n",
              "      quickchartButtonEl.disabled = true;  // To prevent multiple clicks.\n",
              "      quickchartButtonEl.classList.add('colab-df-spinner');\n",
              "      try {\n",
              "        const charts = await google.colab.kernel.invokeFunction(\n",
              "            'suggestCharts', [key], {});\n",
              "      } catch (error) {\n",
              "        console.error('Error during call to suggestCharts:', error);\n",
              "      }\n",
              "      quickchartButtonEl.classList.remove('colab-df-spinner');\n",
              "      quickchartButtonEl.classList.add('colab-df-quickchart-complete');\n",
              "    }\n",
              "    (() => {\n",
              "      let quickchartButtonEl =\n",
              "        document.querySelector('#df-fc22bbc8-3012-4ccf-b1f1-b953a9b394bc button');\n",
              "      quickchartButtonEl.style.display =\n",
              "        google.colab.kernel.accessAllowed ? 'block' : 'none';\n",
              "    })();\n",
              "  </script>\n",
              "</div>\n",
              "    </div>\n",
              "  </div>\n"
            ]
          },
          "metadata": {},
          "execution_count": 87
        }
      ],
      "source": [
        "# Carregando os dados para a variável \"data\"\n",
        "data = pd.read_csv(f'{drive_path}/ex2data1.txt', header = None, names = [\"Avaliacao 1\", \"Avaliacao 2\", \"Aprovado\"])\n",
        "\n",
        "# Inicializando Variáveis\n",
        "m = len(data[\"Aprovado\"])\n",
        "x0 = np.ones(m)\n",
        "avaliacao_1 = np.array((data[\"Avaliacao 1\"]))\n",
        "avaliacao_2 = np.array((data[\"Avaliacao 2\"]))\n",
        "X = np.array([x0, avaliacao_1, avaliacao_2]).T\n",
        "y = np.array(data[\"Aprovado\"]).reshape((m,1))\n",
        "m, n = X.shape\n",
        "\n",
        "print(\"Matriz X:\\n\",X[:5])\n",
        "print(\"\\n\\nDados brutos: \")\n",
        "data.head()"
      ]
    },
    {
      "cell_type": "markdown",
      "id": "b74d48eb-44c3-47ea-be40-d60dc8147fd4",
      "metadata": {
        "id": "b74d48eb-44c3-47ea-be40-d60dc8147fd4"
      },
      "source": [
        "Plotando os dados - As cores diferenciam aprovados e reprovados:"
      ]
    },
    {
      "cell_type": "code",
      "execution_count": null,
      "id": "2682f2f4-3071-4ae9-a392-c7490f00c40d",
      "metadata": {
        "tags": [],
        "id": "2682f2f4-3071-4ae9-a392-c7490f00c40d",
        "outputId": "c5c2aeda-7aa0-40dc-b1a2-b4592e68916e",
        "colab": {
          "base_uri": "https://localhost:8080/",
          "height": 430
        }
      },
      "outputs": [
        {
          "output_type": "display_data",
          "data": {
            "text/plain": [
              "<Figure size 640x480 with 1 Axes>"
            ],
            "image/png": "[encoded data removed]"
          },
          "metadata": {}
        }
      ],
      "source": [
        "# Encontrando os indíces das classes positiva(Aprovado) e negativa(reprovado)\n",
        "pos = np.where(y==1)[0]\n",
        "neg = np.where(y==0)[0]\n",
        "\n",
        "# Plotando as amostras\n",
        "plt.plot(X[pos, 1], X[pos, 2], 'b+', label='Aprovado')\n",
        "plt.plot(X[neg, 1], X[neg, 2], 'yo', label='Reprovado')\n",
        "plt.legend()\n",
        "plt.show()"
      ]
    },
    {
      "cell_type": "markdown",
      "id": "18c31f5d-4fc0-4994-9e66-f1474bac8a25",
      "metadata": {
        "id": "18c31f5d-4fc0-4994-9e66-f1474bac8a25"
      },
      "source": [
        "### 3.2 - Implementação do Algoritmo de Aprendizado"
      ]
    },
    {
      "cell_type": "markdown",
      "id": "067e395d-c157-420e-a64c-48ea66bcb93e",
      "metadata": {
        "id": "067e395d-c157-420e-a64c-48ea66bcb93e"
      },
      "source": [
        "A primeira etapa para implementação do algoritmo para regressão logística é a definição da função sigmoid. Ao utilizar esta função, a hipótese passa a ter a seguinte forma: $h_\\theta(x) = g(z) = g(\\theta^Tx) = \\frac{1}{1+ e^{-z}} = \\frac{1}{1+ e^{-\\theta^Tx}}$."
      ]
    },
    {
      "cell_type": "code",
      "execution_count": null,
      "id": "8f3b557f-135b-4c9c-a315-14d0184545b8",
      "metadata": {
        "tags": [],
        "id": "8f3b557f-135b-4c9c-a315-14d0184545b8",
        "outputId": "930d5e6a-625c-4ad2-b030-aa2d065c1198",
        "colab": {
          "base_uri": "https://localhost:8080/",
          "height": 473
        }
      },
      "outputs": [
        {
          "output_type": "display_data",
          "data": {
            "text/plain": [
              "<Figure size 640x480 with 1 Axes>"
            ],
            "image/png": "[encoded data removed]"
          },
          "metadata": {}
        }
      ],
      "source": [
        "sigmoid = lambda z: 1/(1+np.exp(-z))\n",
        "\n",
        "def plot_sigmoid():\n",
        "  plt.grid()\n",
        "  plt.xlim([-10.0, 10.0])\n",
        "  plt.ylim([-0.1, 1.1])\n",
        "  x = np.arange(-10, 10, 0.001)\n",
        "  plt.xlabel(r'$z = \\theta^Tx$', size=10)\n",
        "  plt.ylabel('$g(z)$', size=10)\n",
        "  plt.title('Função Sigmoid', size=10)\n",
        "  plt.plot(x, sigmoid(x), label=r'$g(z)= \\frac{1}{1+e^{-z}}$')\n",
        "  plt.legend(loc='lower right', fontsize=15)\n",
        "\n",
        "plot_sigmoid()"
      ]
    },
    {
      "cell_type": "markdown",
      "id": "90d13c0f-5e93-463c-b514-06b3ed54bad3",
      "metadata": {
        "tags": [],
        "id": "90d13c0f-5e93-463c-b514-06b3ed54bad3"
      },
      "source": [
        "Teste a função sigmóide antes de partir para a implementação da função de custo e do gradiente. Ela deve retornar $\\frac{1}{2}$ caso você passe o valor $0$ como parâmetro, retornar $1$ caso você passe um valor grande positivo e retornar $0$ caso você passe um valor grande e negativo."
      ]
    },
    {
      "cell_type": "code",
      "execution_count": null,
      "id": "d441a20c-04dd-4176-9226-7aff535dfbdd",
      "metadata": {
        "tags": [],
        "id": "d441a20c-04dd-4176-9226-7aff535dfbdd",
        "outputId": "17cbfd51-6ada-4b46-fe86-3a5937bffc7c",
        "colab": {
          "base_uri": "https://localhost:8080/"
        }
      },
      "outputs": [
        {
          "output_type": "stream",
          "name": "stdout",
          "text": [
            "g(0.0) = 0.500\n",
            "g(0.0) = 1.000\n",
            "g(0.0) = 0.000\n"
          ]
        }
      ],
      "source": [
        "print('g(0.0) = %.3f' % sigmoid(0.0))\n",
        "\"\"\"...Teste com outros valores...\"\"\"\n",
        "print('g(0.0) = %.3f' % sigmoid(12.0))\n",
        "print('g(0.0) = %.3f' % sigmoid(-12.0))"
      ]
    },
    {
      "cell_type": "markdown",
      "id": "c180ef00-fa08-41c5-b6c4-954293b4ebed",
      "metadata": {
        "id": "c180ef00-fa08-41c5-b6c4-954293b4ebed"
      },
      "source": [
        "Implemente agora a função de custo para regressão logística. Lembre-se que ela tem um formato diferente da regressão linear: $$J(\\theta) = - \\begin{bmatrix}\\frac{1}{m}\\displaystyle\\sum_{i=1}^{m}-y^{(i)}\\log h(x^{(i)}-(1-y^{(i)})\\log(1-h_\\theta(x^{(i)}))\\end{bmatrix}$$"
      ]
    },
    {
      "cell_type": "markdown",
      "id": "dffb819d-404f-46fb-9926-0dfb63fbfa5c",
      "metadata": {
        "id": "dffb819d-404f-46fb-9926-0dfb63fbfa5c"
      },
      "source": [
        "Implemente a função de custo utilizando vetorização: $$J(\\theta) = \\frac{1}{m} ⋅(−y^T \\log(h)−(1−y)^T \\log(1−h))$$\n",
        "\n",
        "Você pode definir a função de custo completando a função abaixo:"
      ]
    },
    {
      "cell_type": "code",
      "execution_count": null,
      "id": "3a262fa7-524e-416d-a52b-9bcec9a2169c",
      "metadata": {
        "tags": [],
        "id": "3a262fa7-524e-416d-a52b-9bcec9a2169c"
      },
      "outputs": [],
      "source": [
        "def compute_cost(theta, X, y):\n",
        "    \"\"\"Implementação...\"\"\"\n",
        "    cost = np.sum([-y[i] * np.log(1 / (1 + np.exp(-np.dot(X[i, :], theta.T)))) - (1 - y[i]) * np.log(1 - (1 / (1 + np.exp(-np.dot(X[i, :], theta.T))))) for i in range(X.shape[0])])\n",
        "    return cost / X.shape[0]"
      ]
    },
    {
      "cell_type": "markdown",
      "id": "c7a2bedd-9892-4541-8cd0-91ca6a453301",
      "metadata": {
        "id": "c7a2bedd-9892-4541-8cd0-91ca6a453301"
      },
      "source": [
        "Agora, você deve implementar um função para calcular o vetor gradiente $\\nabla(\\theta)$, contendo as derivadas parciais da função de custo com relação a cada parâmetro $\\frac{\\delta}{\\delta\\theta_J}$:\n",
        "$$\\frac{\\delta}{\\delta\\theta_J} = \\frac{1}{m}\\displaystyle\\sum_{i = 1}^{m} \\begin{bmatrix}(h_\\theta(x^{(i)}) - y^{(i)}\\end{bmatrix}x_j^{(i)}$$\n",
        "Perceba que esta é uma etapa interemediária que utilizamos para implementar o algoritmo do Gradiente Descendente. Entretanto, desta vez é importante implementar esta função intermediária de forma genérica, uma vez que o vetor $\\nabla(\\theta)$ pode ser utilizado em outros algoritmos de aprendizado baseados em direção de busca. Complete a função a seguir para computar o vetor gradiente:"
      ]
    },
    {
      "cell_type": "code",
      "execution_count": null,
      "id": "15136ab8-0b9a-41b5-a5fe-b27f9184080d",
      "metadata": {
        "id": "15136ab8-0b9a-41b5-a5fe-b27f9184080d"
      },
      "outputs": [],
      "source": [
        "def compute_gradient(theta, X, y):\n",
        "    grad = np.zeros(len(theta))\n",
        "    for z in range(n):\n",
        "        temp = np.sum([(np.log(1 / (1 + np.exp(-np.dot(X[j, :], theta.T)))) - y[j]) * X[j][z] for j in range(X.shape[0])])\n",
        "        grad[z] = temp / X.shape[0]\n",
        "    return grad"
      ]
    },
    {
      "cell_type": "markdown",
      "id": "9f8f6cab-565e-4d6e-b5cf-6b0419fab8d2",
      "metadata": {
        "id": "9f8f6cab-565e-4d6e-b5cf-6b0419fab8d2"
      },
      "source": [
        "Teste a função de custo e o gradiente. Inicializando $\\vec{\\theta}$ com zeros, você deve obter $J(\\theta) \\approx 0.693$ e $\\frac{\\delta}{\\delta\\theta_J} \\approx \\begin{bmatrix}-0.1000 & -12.0092 & -11.2628 \\end{bmatrix}$"
      ]
    },
    {
      "cell_type": "code",
      "execution_count": null,
      "id": "443e1e1b-a8e3-43a9-bd5a-4a13bfe86ade",
      "metadata": {
        "tags": [],
        "id": "443e1e1b-a8e3-43a9-bd5a-4a13bfe86ade",
        "outputId": "6cf87d27-a32a-4e84-bfb2-a9c2e826d601",
        "colab": {
          "base_uri": "https://localhost:8080/"
        }
      },
      "outputs": [
        {
          "output_type": "stream",
          "name": "stdout",
          "text": [
            "Cost: \n",
            "0.6931471805599453\n",
            "\n",
            "Gradient: \n",
            "[ -1.29314718 -90.3324971  -90.27543252]\n"
          ]
        }
      ],
      "source": [
        "initial_theta = np.zeros(n)\n",
        "print('Cost: \\n{}\\n'.format(compute_cost(initial_theta, X, y)))\n",
        "print('Gradient: \\n{}'.format(compute_gradient(initial_theta, X, y)))"
      ]
    },
    {
      "cell_type": "markdown",
      "id": "35b52f0e-99bc-40ce-a440-028f856c9634",
      "metadata": {
        "id": "35b52f0e-99bc-40ce-a440-028f856c9634"
      },
      "source": [
        "Diferente de como fizemos nas partes iniciais deste trabalho, onde usamos o algoritmo Gradiente Descendente para aprender os parâmetros $\\vec{\\theta}$, utilizaremos agora um outro algoritmo de aprendizado, o Gradiente Conjugado. A implementação deste algoritmo não é escopo deste trabalho, caso tenha interesse em estudar mais sobre ele, pode pesquisar  [aqui](https://en.wikipedia.org/wiki/Conjugate_gradient_method). Para utilizá-lo, vamos precisar da biblioteca de otimização scipy.optimize, que fornece a função minimize para realizarmos o processo de minimização de $J(\\theta)$. Para utilizá-la temos que fornecer nossa função de custo (compute_cost), nossa função para obtenção de $\\nabla(\\theta)$(compute_gradient), e os valores iniciais de $\\vec(\\theta)$.\n",
        "\n",
        "Antes de utilizar o algoritmo, leia a documentação da função ([minimize](https://docs.scipy.org/doc/scipy/reference/generated/scipy.optimize.minimize.html)) e faça um pequeno resumo(cerca 10 linhas) sobre o funcionamento e principais parâmetros permitidos na função."
      ]
    },
    {
      "cell_type": "markdown",
      "id": "eac07ce5-44c2-44bc-8add-896396fd1df0",
      "metadata": {
        "id": "eac07ce5-44c2-44bc-8add-896396fd1df0"
      },
      "source": [
        "#### Resuma a função minimize aqui ..."
      ]
    },
    {
      "cell_type": "code",
      "execution_count": null,
      "id": "eef6c9f1-0426-454f-92eb-103d23e8ab3f",
      "metadata": {
        "tags": [],
        "id": "eef6c9f1-0426-454f-92eb-103d23e8ab3f",
        "outputId": "36ce9fc3-b858-4b1f-fa86-82ea37125252",
        "colab": {
          "base_uri": "https://localhost:8080/",
          "height": 721
        }
      },
      "outputs": [
        {
          "output_type": "stream",
          "name": "stderr",
          "text": [
            "<ipython-input-135-b0d7330d5033>:3: RuntimeWarning: divide by zero encountered in log\n",
            "  cost = np.sum([-y[i] * np.log(1 / (1 + np.exp(-np.dot(X[i, :], theta.T)))) - (1 - y[i]) * np.log(1 - (1 / (1 + np.exp(-np.dot(X[i, :], theta.T))))) for i in range(X.shape[0])])\n",
            "<ipython-input-135-b0d7330d5033>:3: RuntimeWarning: invalid value encountered in multiply\n",
            "  cost = np.sum([-y[i] * np.log(1 / (1 + np.exp(-np.dot(X[i, :], theta.T)))) - (1 - y[i]) * np.log(1 - (1 / (1 + np.exp(-np.dot(X[i, :], theta.T))))) for i in range(X.shape[0])])\n",
            "<ipython-input-135-b0d7330d5033>:3: RuntimeWarning: divide by zero encountered in log\n",
            "  cost = np.sum([-y[i] * np.log(1 / (1 + np.exp(-np.dot(X[i, :], theta.T)))) - (1 - y[i]) * np.log(1 - (1 / (1 + np.exp(-np.dot(X[i, :], theta.T))))) for i in range(X.shape[0])])\n",
            "<ipython-input-135-b0d7330d5033>:3: RuntimeWarning: invalid value encountered in multiply\n",
            "  cost = np.sum([-y[i] * np.log(1 / (1 + np.exp(-np.dot(X[i, :], theta.T)))) - (1 - y[i]) * np.log(1 - (1 / (1 + np.exp(-np.dot(X[i, :], theta.T))))) for i in range(X.shape[0])])\n",
            "<ipython-input-135-b0d7330d5033>:3: RuntimeWarning: divide by zero encountered in log\n",
            "  cost = np.sum([-y[i] * np.log(1 / (1 + np.exp(-np.dot(X[i, :], theta.T)))) - (1 - y[i]) * np.log(1 - (1 / (1 + np.exp(-np.dot(X[i, :], theta.T))))) for i in range(X.shape[0])])\n",
            "<ipython-input-135-b0d7330d5033>:3: RuntimeWarning: invalid value encountered in multiply\n",
            "  cost = np.sum([-y[i] * np.log(1 / (1 + np.exp(-np.dot(X[i, :], theta.T)))) - (1 - y[i]) * np.log(1 - (1 / (1 + np.exp(-np.dot(X[i, :], theta.T))))) for i in range(X.shape[0])])\n",
            "<ipython-input-135-b0d7330d5033>:3: RuntimeWarning: divide by zero encountered in log\n",
            "  cost = np.sum([-y[i] * np.log(1 / (1 + np.exp(-np.dot(X[i, :], theta.T)))) - (1 - y[i]) * np.log(1 - (1 / (1 + np.exp(-np.dot(X[i, :], theta.T))))) for i in range(X.shape[0])])\n",
            "<ipython-input-135-b0d7330d5033>:3: RuntimeWarning: invalid value encountered in multiply\n",
            "  cost = np.sum([-y[i] * np.log(1 / (1 + np.exp(-np.dot(X[i, :], theta.T)))) - (1 - y[i]) * np.log(1 - (1 / (1 + np.exp(-np.dot(X[i, :], theta.T))))) for i in range(X.shape[0])])\n",
            "<ipython-input-135-b0d7330d5033>:3: RuntimeWarning: divide by zero encountered in log\n",
            "  cost = np.sum([-y[i] * np.log(1 / (1 + np.exp(-np.dot(X[i, :], theta.T)))) - (1 - y[i]) * np.log(1 - (1 / (1 + np.exp(-np.dot(X[i, :], theta.T))))) for i in range(X.shape[0])])\n",
            "<ipython-input-135-b0d7330d5033>:3: RuntimeWarning: invalid value encountered in multiply\n",
            "  cost = np.sum([-y[i] * np.log(1 / (1 + np.exp(-np.dot(X[i, :], theta.T)))) - (1 - y[i]) * np.log(1 - (1 / (1 + np.exp(-np.dot(X[i, :], theta.T))))) for i in range(X.shape[0])])\n"
          ]
        },
        {
          "output_type": "error",
          "ename": "KeyboardInterrupt",
          "evalue": "ignored",
          "traceback": [
            "\u001b[0;31m---------------------------------------------------------------------------\u001b[0m",
            "\u001b[0;31mKeyboardInterrupt\u001b[0m                         Traceback (most recent call last)",
            "\u001b[0;32m<ipython-input-140-0f35b17aa66d>\u001b[0m in \u001b[0;36m<cell line: 2>\u001b[0;34m()\u001b[0m\n\u001b[1;32m      1\u001b[0m \u001b[0;32mfrom\u001b[0m \u001b[0mscipy\u001b[0m\u001b[0;34m.\u001b[0m\u001b[0moptimize\u001b[0m \u001b[0;32mimport\u001b[0m \u001b[0mminimize\u001b[0m\u001b[0;34m\u001b[0m\u001b[0;34m\u001b[0m\u001b[0m\n\u001b[0;32m----> 2\u001b[0;31m result = minimize(compute_cost, initial_theta, args = (X, y),\n\u001b[0m\u001b[1;32m      3\u001b[0m                    \u001b[0mmethod\u001b[0m \u001b[0;34m=\u001b[0m \u001b[0;34m'CG'\u001b[0m\u001b[0;34m,\u001b[0m \u001b[0mjac\u001b[0m \u001b[0;34m=\u001b[0m \u001b[0mcompute_gradient\u001b[0m\u001b[0;34m,\u001b[0m\u001b[0;34m\u001b[0m\u001b[0;34m\u001b[0m\u001b[0m\n\u001b[1;32m      4\u001b[0m                    options = {\"maxiter\": 10, \"disp\" : 1})\n\u001b[1;32m      5\u001b[0m \u001b[0mtheta\u001b[0m \u001b[0;34m=\u001b[0m \u001b[0mresult\u001b[0m\u001b[0;34m.\u001b[0m\u001b[0mx\u001b[0m\u001b[0;34m\u001b[0m\u001b[0;34m\u001b[0m\u001b[0m\n",
            "\u001b[0;32m/usr/local/lib/python3.10/dist-packages/scipy/optimize/_minimize.py\u001b[0m in \u001b[0;36mminimize\u001b[0;34m(fun, x0, args, method, jac, hess, hessp, bounds, constraints, tol, callback, options)\u001b[0m\n\u001b[1;32m    701\u001b[0m         \u001b[0mres\u001b[0m \u001b[0;34m=\u001b[0m \u001b[0m_minimize_powell\u001b[0m\u001b[0;34m(\u001b[0m\u001b[0mfun\u001b[0m\u001b[0;34m,\u001b[0m \u001b[0mx0\u001b[0m\u001b[0;34m,\u001b[0m \u001b[0margs\u001b[0m\u001b[0;34m,\u001b[0m \u001b[0mcallback\u001b[0m\u001b[0;34m,\u001b[0m \u001b[0mbounds\u001b[0m\u001b[0;34m,\u001b[0m \u001b[0;34m**\u001b[0m\u001b[0moptions\u001b[0m\u001b[0;34m)\u001b[0m\u001b[0;34m\u001b[0m\u001b[0;34m\u001b[0m\u001b[0m\n\u001b[1;32m    702\u001b[0m     \u001b[0;32melif\u001b[0m \u001b[0mmeth\u001b[0m \u001b[0;34m==\u001b[0m \u001b[0;34m'cg'\u001b[0m\u001b[0;34m:\u001b[0m\u001b[0;34m\u001b[0m\u001b[0;34m\u001b[0m\u001b[0m\n\u001b[0;32m--> 703\u001b[0;31m         \u001b[0mres\u001b[0m \u001b[0;34m=\u001b[0m \u001b[0m_minimize_cg\u001b[0m\u001b[0;34m(\u001b[0m\u001b[0mfun\u001b[0m\u001b[0;34m,\u001b[0m \u001b[0mx0\u001b[0m\u001b[0;34m,\u001b[0m \u001b[0margs\u001b[0m\u001b[0;34m,\u001b[0m \u001b[0mjac\u001b[0m\u001b[0;34m,\u001b[0m \u001b[0mcallback\u001b[0m\u001b[0;34m,\u001b[0m \u001b[0;34m**\u001b[0m\u001b[0moptions\u001b[0m\u001b[0;34m)\u001b[0m\u001b[0;34m\u001b[0m\u001b[0;34m\u001b[0m\u001b[0m\n\u001b[0m\u001b[1;32m    704\u001b[0m     \u001b[0;32melif\u001b[0m \u001b[0mmeth\u001b[0m \u001b[0;34m==\u001b[0m \u001b[0;34m'bfgs'\u001b[0m\u001b[0;34m:\u001b[0m\u001b[0;34m\u001b[0m\u001b[0;34m\u001b[0m\u001b[0m\n\u001b[1;32m    705\u001b[0m         \u001b[0mres\u001b[0m \u001b[0;34m=\u001b[0m \u001b[0m_minimize_bfgs\u001b[0m\u001b[0;34m(\u001b[0m\u001b[0mfun\u001b[0m\u001b[0;34m,\u001b[0m \u001b[0mx0\u001b[0m\u001b[0;34m,\u001b[0m \u001b[0margs\u001b[0m\u001b[0;34m,\u001b[0m \u001b[0mjac\u001b[0m\u001b[0;34m,\u001b[0m \u001b[0mcallback\u001b[0m\u001b[0;34m,\u001b[0m \u001b[0;34m**\u001b[0m\u001b[0moptions\u001b[0m\u001b[0;34m)\u001b[0m\u001b[0;34m\u001b[0m\u001b[0;34m\u001b[0m\u001b[0m\n",
            "\u001b[0;32m/usr/local/lib/python3.10/dist-packages/scipy/optimize/_optimize.py\u001b[0m in \u001b[0;36m_minimize_cg\u001b[0;34m(fun, x0, args, jac, callback, gtol, norm, eps, maxiter, disp, return_all, finite_diff_rel_step, **unknown_options)\u001b[0m\n\u001b[1;32m   1807\u001b[0m         \u001b[0;32mtry\u001b[0m\u001b[0;34m:\u001b[0m\u001b[0;34m\u001b[0m\u001b[0;34m\u001b[0m\u001b[0m\n\u001b[1;32m   1808\u001b[0m             \u001b[0malpha_k\u001b[0m\u001b[0;34m,\u001b[0m \u001b[0mfc\u001b[0m\u001b[0;34m,\u001b[0m \u001b[0mgc\u001b[0m\u001b[0;34m,\u001b[0m \u001b[0mold_fval\u001b[0m\u001b[0;34m,\u001b[0m \u001b[0mold_old_fval\u001b[0m\u001b[0;34m,\u001b[0m \u001b[0mgfkp1\u001b[0m \u001b[0;34m=\u001b[0m\u001b[0;31m \u001b[0m\u001b[0;31m\\\u001b[0m\u001b[0;34m\u001b[0m\u001b[0;34m\u001b[0m\u001b[0m\n\u001b[0;32m-> 1809\u001b[0;31m                      _line_search_wolfe12(f, myfprime, xk, pk, gfk, old_fval,\n\u001b[0m\u001b[1;32m   1810\u001b[0m                                           \u001b[0mold_old_fval\u001b[0m\u001b[0;34m,\u001b[0m \u001b[0mc2\u001b[0m\u001b[0;34m=\u001b[0m\u001b[0;36m0.4\u001b[0m\u001b[0;34m,\u001b[0m \u001b[0mamin\u001b[0m\u001b[0;34m=\u001b[0m\u001b[0;36m1e-100\u001b[0m\u001b[0;34m,\u001b[0m \u001b[0mamax\u001b[0m\u001b[0;34m=\u001b[0m\u001b[0;36m1e100\u001b[0m\u001b[0;34m,\u001b[0m\u001b[0;34m\u001b[0m\u001b[0;34m\u001b[0m\u001b[0m\n\u001b[1;32m   1811\u001b[0m                                           extra_condition=descent_condition)\n",
            "\u001b[0;32m/usr/local/lib/python3.10/dist-packages/scipy/optimize/_optimize.py\u001b[0m in \u001b[0;36m_line_search_wolfe12\u001b[0;34m(f, fprime, xk, pk, gfk, old_fval, old_old_fval, **kwargs)\u001b[0m\n\u001b[1;32m   1213\u001b[0m     \u001b[0mextra_condition\u001b[0m \u001b[0;34m=\u001b[0m \u001b[0mkwargs\u001b[0m\u001b[0;34m.\u001b[0m\u001b[0mpop\u001b[0m\u001b[0;34m(\u001b[0m\u001b[0;34m'extra_condition'\u001b[0m\u001b[0;34m,\u001b[0m \u001b[0;32mNone\u001b[0m\u001b[0;34m)\u001b[0m\u001b[0;34m\u001b[0m\u001b[0;34m\u001b[0m\u001b[0m\n\u001b[1;32m   1214\u001b[0m \u001b[0;34m\u001b[0m\u001b[0m\n\u001b[0;32m-> 1215\u001b[0;31m     ret = line_search_wolfe1(f, fprime, xk, pk, gfk,\n\u001b[0m\u001b[1;32m   1216\u001b[0m                              \u001b[0mold_fval\u001b[0m\u001b[0;34m,\u001b[0m \u001b[0mold_old_fval\u001b[0m\u001b[0;34m,\u001b[0m\u001b[0;34m\u001b[0m\u001b[0;34m\u001b[0m\u001b[0m\n\u001b[1;32m   1217\u001b[0m                              **kwargs)\n",
            "\u001b[0;32m/usr/local/lib/python3.10/dist-packages/scipy/optimize/_linesearch.py\u001b[0m in \u001b[0;36mline_search_wolfe1\u001b[0;34m(f, fprime, xk, pk, gfk, old_fval, old_old_fval, args, c1, c2, amax, amin, xtol)\u001b[0m\n\u001b[1;32m     82\u001b[0m     \u001b[0mderphi0\u001b[0m \u001b[0;34m=\u001b[0m \u001b[0mnp\u001b[0m\u001b[0;34m.\u001b[0m\u001b[0mdot\u001b[0m\u001b[0;34m(\u001b[0m\u001b[0mgfk\u001b[0m\u001b[0;34m,\u001b[0m \u001b[0mpk\u001b[0m\u001b[0;34m)\u001b[0m\u001b[0;34m\u001b[0m\u001b[0;34m\u001b[0m\u001b[0m\n\u001b[1;32m     83\u001b[0m \u001b[0;34m\u001b[0m\u001b[0m\n\u001b[0;32m---> 84\u001b[0;31m     stp, fval, old_fval = scalar_search_wolfe1(\n\u001b[0m\u001b[1;32m     85\u001b[0m             \u001b[0mphi\u001b[0m\u001b[0;34m,\u001b[0m \u001b[0mderphi\u001b[0m\u001b[0;34m,\u001b[0m \u001b[0mold_fval\u001b[0m\u001b[0;34m,\u001b[0m \u001b[0mold_old_fval\u001b[0m\u001b[0;34m,\u001b[0m \u001b[0mderphi0\u001b[0m\u001b[0;34m,\u001b[0m\u001b[0;34m\u001b[0m\u001b[0;34m\u001b[0m\u001b[0m\n\u001b[1;32m     86\u001b[0m             c1=c1, c2=c2, amax=amax, amin=amin, xtol=xtol)\n",
            "\u001b[0;32m/usr/local/lib/python3.10/dist-packages/scipy/optimize/_linesearch.py\u001b[0m in \u001b[0;36mscalar_search_wolfe1\u001b[0;34m(phi, derphi, phi0, old_phi0, derphi0, c1, c2, amax, amin, xtol)\u001b[0m\n\u001b[1;32m    158\u001b[0m         \u001b[0;32mif\u001b[0m \u001b[0mtask\u001b[0m\u001b[0;34m[\u001b[0m\u001b[0;34m:\u001b[0m\u001b[0;36m2\u001b[0m\u001b[0;34m]\u001b[0m \u001b[0;34m==\u001b[0m \u001b[0;34mb'FG'\u001b[0m\u001b[0;34m:\u001b[0m\u001b[0;34m\u001b[0m\u001b[0;34m\u001b[0m\u001b[0m\n\u001b[1;32m    159\u001b[0m             \u001b[0malpha1\u001b[0m \u001b[0;34m=\u001b[0m \u001b[0mstp\u001b[0m\u001b[0;34m\u001b[0m\u001b[0;34m\u001b[0m\u001b[0m\n\u001b[0;32m--> 160\u001b[0;31m             \u001b[0mphi1\u001b[0m \u001b[0;34m=\u001b[0m \u001b[0mphi\u001b[0m\u001b[0;34m(\u001b[0m\u001b[0mstp\u001b[0m\u001b[0;34m)\u001b[0m\u001b[0;34m\u001b[0m\u001b[0;34m\u001b[0m\u001b[0m\n\u001b[0m\u001b[1;32m    161\u001b[0m             \u001b[0mderphi1\u001b[0m \u001b[0;34m=\u001b[0m \u001b[0mderphi\u001b[0m\u001b[0;34m(\u001b[0m\u001b[0mstp\u001b[0m\u001b[0;34m)\u001b[0m\u001b[0;34m\u001b[0m\u001b[0;34m\u001b[0m\u001b[0m\n\u001b[1;32m    162\u001b[0m         \u001b[0;32melse\u001b[0m\u001b[0;34m:\u001b[0m\u001b[0;34m\u001b[0m\u001b[0;34m\u001b[0m\u001b[0m\n",
            "\u001b[0;32m/usr/local/lib/python3.10/dist-packages/scipy/optimize/_linesearch.py\u001b[0m in \u001b[0;36mphi\u001b[0;34m(s)\u001b[0m\n\u001b[1;32m     73\u001b[0m     \u001b[0;32mdef\u001b[0m \u001b[0mphi\u001b[0m\u001b[0;34m(\u001b[0m\u001b[0ms\u001b[0m\u001b[0;34m)\u001b[0m\u001b[0;34m:\u001b[0m\u001b[0;34m\u001b[0m\u001b[0;34m\u001b[0m\u001b[0m\n\u001b[1;32m     74\u001b[0m         \u001b[0mfc\u001b[0m\u001b[0;34m[\u001b[0m\u001b[0;36m0\u001b[0m\u001b[0;34m]\u001b[0m \u001b[0;34m+=\u001b[0m \u001b[0;36m1\u001b[0m\u001b[0;34m\u001b[0m\u001b[0;34m\u001b[0m\u001b[0m\n\u001b[0;32m---> 75\u001b[0;31m         \u001b[0;32mreturn\u001b[0m \u001b[0mf\u001b[0m\u001b[0;34m(\u001b[0m\u001b[0mxk\u001b[0m \u001b[0;34m+\u001b[0m \u001b[0ms\u001b[0m\u001b[0;34m*\u001b[0m\u001b[0mpk\u001b[0m\u001b[0;34m,\u001b[0m \u001b[0;34m*\u001b[0m\u001b[0margs\u001b[0m\u001b[0;34m)\u001b[0m\u001b[0;34m\u001b[0m\u001b[0;34m\u001b[0m\u001b[0m\n\u001b[0m\u001b[1;32m     76\u001b[0m \u001b[0;34m\u001b[0m\u001b[0m\n\u001b[1;32m     77\u001b[0m     \u001b[0;32mdef\u001b[0m \u001b[0mderphi\u001b[0m\u001b[0;34m(\u001b[0m\u001b[0ms\u001b[0m\u001b[0;34m)\u001b[0m\u001b[0;34m:\u001b[0m\u001b[0;34m\u001b[0m\u001b[0;34m\u001b[0m\u001b[0m\n",
            "\u001b[0;32m/usr/local/lib/python3.10/dist-packages/scipy/optimize/_differentiable_functions.py\u001b[0m in \u001b[0;36mfun\u001b[0;34m(self, x)\u001b[0m\n\u001b[1;32m    265\u001b[0m         \u001b[0;32mif\u001b[0m \u001b[0;32mnot\u001b[0m \u001b[0mnp\u001b[0m\u001b[0;34m.\u001b[0m\u001b[0marray_equal\u001b[0m\u001b[0;34m(\u001b[0m\u001b[0mx\u001b[0m\u001b[0;34m,\u001b[0m \u001b[0mself\u001b[0m\u001b[0;34m.\u001b[0m\u001b[0mx\u001b[0m\u001b[0;34m)\u001b[0m\u001b[0;34m:\u001b[0m\u001b[0;34m\u001b[0m\u001b[0;34m\u001b[0m\u001b[0m\n\u001b[1;32m    266\u001b[0m             \u001b[0mself\u001b[0m\u001b[0;34m.\u001b[0m\u001b[0m_update_x_impl\u001b[0m\u001b[0;34m(\u001b[0m\u001b[0mx\u001b[0m\u001b[0;34m)\u001b[0m\u001b[0;34m\u001b[0m\u001b[0;34m\u001b[0m\u001b[0m\n\u001b[0;32m--> 267\u001b[0;31m         \u001b[0mself\u001b[0m\u001b[0;34m.\u001b[0m\u001b[0m_update_fun\u001b[0m\u001b[0;34m(\u001b[0m\u001b[0;34m)\u001b[0m\u001b[0;34m\u001b[0m\u001b[0;34m\u001b[0m\u001b[0m\n\u001b[0m\u001b[1;32m    268\u001b[0m         \u001b[0;32mreturn\u001b[0m \u001b[0mself\u001b[0m\u001b[0;34m.\u001b[0m\u001b[0mf\u001b[0m\u001b[0;34m\u001b[0m\u001b[0;34m\u001b[0m\u001b[0m\n\u001b[1;32m    269\u001b[0m \u001b[0;34m\u001b[0m\u001b[0m\n",
            "\u001b[0;32m/usr/local/lib/python3.10/dist-packages/scipy/optimize/_differentiable_functions.py\u001b[0m in \u001b[0;36m_update_fun\u001b[0;34m(self)\u001b[0m\n\u001b[1;32m    249\u001b[0m     \u001b[0;32mdef\u001b[0m \u001b[0m_update_fun\u001b[0m\u001b[0;34m(\u001b[0m\u001b[0mself\u001b[0m\u001b[0;34m)\u001b[0m\u001b[0;34m:\u001b[0m\u001b[0;34m\u001b[0m\u001b[0;34m\u001b[0m\u001b[0m\n\u001b[1;32m    250\u001b[0m         \u001b[0;32mif\u001b[0m \u001b[0;32mnot\u001b[0m \u001b[0mself\u001b[0m\u001b[0;34m.\u001b[0m\u001b[0mf_updated\u001b[0m\u001b[0;34m:\u001b[0m\u001b[0;34m\u001b[0m\u001b[0;34m\u001b[0m\u001b[0m\n\u001b[0;32m--> 251\u001b[0;31m             \u001b[0mself\u001b[0m\u001b[0;34m.\u001b[0m\u001b[0m_update_fun_impl\u001b[0m\u001b[0;34m(\u001b[0m\u001b[0;34m)\u001b[0m\u001b[0;34m\u001b[0m\u001b[0;34m\u001b[0m\u001b[0m\n\u001b[0m\u001b[1;32m    252\u001b[0m             \u001b[0mself\u001b[0m\u001b[0;34m.\u001b[0m\u001b[0mf_updated\u001b[0m \u001b[0;34m=\u001b[0m \u001b[0;32mTrue\u001b[0m\u001b[0;34m\u001b[0m\u001b[0;34m\u001b[0m\u001b[0m\n\u001b[1;32m    253\u001b[0m \u001b[0;34m\u001b[0m\u001b[0m\n",
            "\u001b[0;32m/usr/local/lib/python3.10/dist-packages/scipy/optimize/_differentiable_functions.py\u001b[0m in \u001b[0;36mupdate_fun\u001b[0;34m()\u001b[0m\n\u001b[1;32m    153\u001b[0m \u001b[0;34m\u001b[0m\u001b[0m\n\u001b[1;32m    154\u001b[0m         \u001b[0;32mdef\u001b[0m \u001b[0mupdate_fun\u001b[0m\u001b[0;34m(\u001b[0m\u001b[0;34m)\u001b[0m\u001b[0;34m:\u001b[0m\u001b[0;34m\u001b[0m\u001b[0;34m\u001b[0m\u001b[0m\n\u001b[0;32m--> 155\u001b[0;31m             \u001b[0mself\u001b[0m\u001b[0;34m.\u001b[0m\u001b[0mf\u001b[0m \u001b[0;34m=\u001b[0m \u001b[0mfun_wrapped\u001b[0m\u001b[0;34m(\u001b[0m\u001b[0mself\u001b[0m\u001b[0;34m.\u001b[0m\u001b[0mx\u001b[0m\u001b[0;34m)\u001b[0m\u001b[0;34m\u001b[0m\u001b[0;34m\u001b[0m\u001b[0m\n\u001b[0m\u001b[1;32m    156\u001b[0m \u001b[0;34m\u001b[0m\u001b[0m\n\u001b[1;32m    157\u001b[0m         \u001b[0mself\u001b[0m\u001b[0;34m.\u001b[0m\u001b[0m_update_fun_impl\u001b[0m \u001b[0;34m=\u001b[0m \u001b[0mupdate_fun\u001b[0m\u001b[0;34m\u001b[0m\u001b[0;34m\u001b[0m\u001b[0m\n",
            "\u001b[0;32m/usr/local/lib/python3.10/dist-packages/scipy/optimize/_differentiable_functions.py\u001b[0m in \u001b[0;36mfun_wrapped\u001b[0;34m(x)\u001b[0m\n\u001b[1;32m    135\u001b[0m             \u001b[0;31m# Overwriting results in undefined behaviour because\u001b[0m\u001b[0;34m\u001b[0m\u001b[0;34m\u001b[0m\u001b[0m\n\u001b[1;32m    136\u001b[0m             \u001b[0;31m# fun(self.x) will change self.x, with the two no longer linked.\u001b[0m\u001b[0;34m\u001b[0m\u001b[0;34m\u001b[0m\u001b[0m\n\u001b[0;32m--> 137\u001b[0;31m             \u001b[0mfx\u001b[0m \u001b[0;34m=\u001b[0m \u001b[0mfun\u001b[0m\u001b[0;34m(\u001b[0m\u001b[0mnp\u001b[0m\u001b[0;34m.\u001b[0m\u001b[0mcopy\u001b[0m\u001b[0;34m(\u001b[0m\u001b[0mx\u001b[0m\u001b[0;34m)\u001b[0m\u001b[0;34m,\u001b[0m \u001b[0;34m*\u001b[0m\u001b[0margs\u001b[0m\u001b[0;34m)\u001b[0m\u001b[0;34m\u001b[0m\u001b[0;34m\u001b[0m\u001b[0m\n\u001b[0m\u001b[1;32m    138\u001b[0m             \u001b[0;31m# Make sure the function returns a true scalar\u001b[0m\u001b[0;34m\u001b[0m\u001b[0;34m\u001b[0m\u001b[0m\n\u001b[1;32m    139\u001b[0m             \u001b[0;32mif\u001b[0m \u001b[0;32mnot\u001b[0m \u001b[0mnp\u001b[0m\u001b[0;34m.\u001b[0m\u001b[0misscalar\u001b[0m\u001b[0;34m(\u001b[0m\u001b[0mfx\u001b[0m\u001b[0;34m)\u001b[0m\u001b[0;34m:\u001b[0m\u001b[0;34m\u001b[0m\u001b[0;34m\u001b[0m\u001b[0m\n",
            "\u001b[0;32m<ipython-input-135-b0d7330d5033>\u001b[0m in \u001b[0;36mcompute_cost\u001b[0;34m(theta, X, y)\u001b[0m\n\u001b[1;32m      1\u001b[0m \u001b[0;32mdef\u001b[0m \u001b[0mcompute_cost\u001b[0m\u001b[0;34m(\u001b[0m\u001b[0mtheta\u001b[0m\u001b[0;34m,\u001b[0m \u001b[0mX\u001b[0m\u001b[0;34m,\u001b[0m \u001b[0my\u001b[0m\u001b[0;34m)\u001b[0m\u001b[0;34m:\u001b[0m\u001b[0;34m\u001b[0m\u001b[0;34m\u001b[0m\u001b[0m\n\u001b[1;32m      2\u001b[0m     \u001b[0;34m\"\"\"Implementação...\"\"\"\u001b[0m\u001b[0;34m\u001b[0m\u001b[0;34m\u001b[0m\u001b[0m\n\u001b[0;32m----> 3\u001b[0;31m     \u001b[0mcost\u001b[0m \u001b[0;34m=\u001b[0m \u001b[0mnp\u001b[0m\u001b[0;34m.\u001b[0m\u001b[0msum\u001b[0m\u001b[0;34m(\u001b[0m\u001b[0;34m[\u001b[0m\u001b[0;34m-\u001b[0m\u001b[0my\u001b[0m\u001b[0;34m[\u001b[0m\u001b[0mi\u001b[0m\u001b[0;34m]\u001b[0m \u001b[0;34m*\u001b[0m \u001b[0mnp\u001b[0m\u001b[0;34m.\u001b[0m\u001b[0mlog\u001b[0m\u001b[0;34m(\u001b[0m\u001b[0;36m1\u001b[0m \u001b[0;34m/\u001b[0m \u001b[0;34m(\u001b[0m\u001b[0;36m1\u001b[0m \u001b[0;34m+\u001b[0m \u001b[0mnp\u001b[0m\u001b[0;34m.\u001b[0m\u001b[0mexp\u001b[0m\u001b[0;34m(\u001b[0m\u001b[0;34m-\u001b[0m\u001b[0mnp\u001b[0m\u001b[0;34m.\u001b[0m\u001b[0mdot\u001b[0m\u001b[0;34m(\u001b[0m\u001b[0mX\u001b[0m\u001b[0;34m[\u001b[0m\u001b[0mi\u001b[0m\u001b[0;34m,\u001b[0m \u001b[0;34m:\u001b[0m\u001b[0;34m]\u001b[0m\u001b[0;34m,\u001b[0m \u001b[0mtheta\u001b[0m\u001b[0;34m.\u001b[0m\u001b[0mT\u001b[0m\u001b[0;34m)\u001b[0m\u001b[0;34m)\u001b[0m\u001b[0;34m)\u001b[0m\u001b[0;34m)\u001b[0m \u001b[0;34m-\u001b[0m \u001b[0;34m(\u001b[0m\u001b[0;36m1\u001b[0m \u001b[0;34m-\u001b[0m \u001b[0my\u001b[0m\u001b[0;34m[\u001b[0m\u001b[0mi\u001b[0m\u001b[0;34m]\u001b[0m\u001b[0;34m)\u001b[0m \u001b[0;34m*\u001b[0m \u001b[0mnp\u001b[0m\u001b[0;34m.\u001b[0m\u001b[0mlog\u001b[0m\u001b[0;34m(\u001b[0m\u001b[0;36m1\u001b[0m \u001b[0;34m-\u001b[0m \u001b[0;34m(\u001b[0m\u001b[0;36m1\u001b[0m \u001b[0;34m/\u001b[0m \u001b[0;34m(\u001b[0m\u001b[0;36m1\u001b[0m \u001b[0;34m+\u001b[0m \u001b[0mnp\u001b[0m\u001b[0;34m.\u001b[0m\u001b[0mexp\u001b[0m\u001b[0;34m(\u001b[0m\u001b[0;34m-\u001b[0m\u001b[0mnp\u001b[0m\u001b[0;34m.\u001b[0m\u001b[0mdot\u001b[0m\u001b[0;34m(\u001b[0m\u001b[0mX\u001b[0m\u001b[0;34m[\u001b[0m\u001b[0mi\u001b[0m\u001b[0;34m,\u001b[0m \u001b[0;34m:\u001b[0m\u001b[0;34m]\u001b[0m\u001b[0;34m,\u001b[0m \u001b[0mtheta\u001b[0m\u001b[0;34m.\u001b[0m\u001b[0mT\u001b[0m\u001b[0;34m)\u001b[0m\u001b[0;34m)\u001b[0m\u001b[0;34m)\u001b[0m\u001b[0;34m)\u001b[0m\u001b[0;34m)\u001b[0m \u001b[0;32mfor\u001b[0m \u001b[0mi\u001b[0m \u001b[0;32min\u001b[0m \u001b[0mrange\u001b[0m\u001b[0;34m(\u001b[0m\u001b[0mX\u001b[0m\u001b[0;34m.\u001b[0m\u001b[0mshape\u001b[0m\u001b[0;34m[\u001b[0m\u001b[0;36m0\u001b[0m\u001b[0;34m]\u001b[0m\u001b[0;34m)\u001b[0m\u001b[0;34m]\u001b[0m\u001b[0;34m)\u001b[0m\u001b[0;34m\u001b[0m\u001b[0;34m\u001b[0m\u001b[0m\n\u001b[0m\u001b[1;32m      4\u001b[0m     \u001b[0;32mreturn\u001b[0m \u001b[0mcost\u001b[0m \u001b[0;34m/\u001b[0m \u001b[0mX\u001b[0m\u001b[0;34m.\u001b[0m\u001b[0mshape\u001b[0m\u001b[0;34m[\u001b[0m\u001b[0;36m0\u001b[0m\u001b[0;34m]\u001b[0m\u001b[0;34m\u001b[0m\u001b[0;34m\u001b[0m\u001b[0m\n",
            "\u001b[0;32m<ipython-input-135-b0d7330d5033>\u001b[0m in \u001b[0;36m<listcomp>\u001b[0;34m(.0)\u001b[0m\n\u001b[1;32m      1\u001b[0m \u001b[0;32mdef\u001b[0m \u001b[0mcompute_cost\u001b[0m\u001b[0;34m(\u001b[0m\u001b[0mtheta\u001b[0m\u001b[0;34m,\u001b[0m \u001b[0mX\u001b[0m\u001b[0;34m,\u001b[0m \u001b[0my\u001b[0m\u001b[0;34m)\u001b[0m\u001b[0;34m:\u001b[0m\u001b[0;34m\u001b[0m\u001b[0;34m\u001b[0m\u001b[0m\n\u001b[1;32m      2\u001b[0m     \u001b[0;34m\"\"\"Implementação...\"\"\"\u001b[0m\u001b[0;34m\u001b[0m\u001b[0;34m\u001b[0m\u001b[0m\n\u001b[0;32m----> 3\u001b[0;31m     \u001b[0mcost\u001b[0m \u001b[0;34m=\u001b[0m \u001b[0mnp\u001b[0m\u001b[0;34m.\u001b[0m\u001b[0msum\u001b[0m\u001b[0;34m(\u001b[0m\u001b[0;34m[\u001b[0m\u001b[0;34m-\u001b[0m\u001b[0my\u001b[0m\u001b[0;34m[\u001b[0m\u001b[0mi\u001b[0m\u001b[0;34m]\u001b[0m \u001b[0;34m*\u001b[0m \u001b[0mnp\u001b[0m\u001b[0;34m.\u001b[0m\u001b[0mlog\u001b[0m\u001b[0;34m(\u001b[0m\u001b[0;36m1\u001b[0m \u001b[0;34m/\u001b[0m \u001b[0;34m(\u001b[0m\u001b[0;36m1\u001b[0m \u001b[0;34m+\u001b[0m \u001b[0mnp\u001b[0m\u001b[0;34m.\u001b[0m\u001b[0mexp\u001b[0m\u001b[0;34m(\u001b[0m\u001b[0;34m-\u001b[0m\u001b[0mnp\u001b[0m\u001b[0;34m.\u001b[0m\u001b[0mdot\u001b[0m\u001b[0;34m(\u001b[0m\u001b[0mX\u001b[0m\u001b[0;34m[\u001b[0m\u001b[0mi\u001b[0m\u001b[0;34m,\u001b[0m \u001b[0;34m:\u001b[0m\u001b[0;34m]\u001b[0m\u001b[0;34m,\u001b[0m \u001b[0mtheta\u001b[0m\u001b[0;34m.\u001b[0m\u001b[0mT\u001b[0m\u001b[0;34m)\u001b[0m\u001b[0;34m)\u001b[0m\u001b[0;34m)\u001b[0m\u001b[0;34m)\u001b[0m \u001b[0;34m-\u001b[0m \u001b[0;34m(\u001b[0m\u001b[0;36m1\u001b[0m \u001b[0;34m-\u001b[0m \u001b[0my\u001b[0m\u001b[0;34m[\u001b[0m\u001b[0mi\u001b[0m\u001b[0;34m]\u001b[0m\u001b[0;34m)\u001b[0m \u001b[0;34m*\u001b[0m \u001b[0mnp\u001b[0m\u001b[0;34m.\u001b[0m\u001b[0mlog\u001b[0m\u001b[0;34m(\u001b[0m\u001b[0;36m1\u001b[0m \u001b[0;34m-\u001b[0m \u001b[0;34m(\u001b[0m\u001b[0;36m1\u001b[0m \u001b[0;34m/\u001b[0m \u001b[0;34m(\u001b[0m\u001b[0;36m1\u001b[0m \u001b[0;34m+\u001b[0m \u001b[0mnp\u001b[0m\u001b[0;34m.\u001b[0m\u001b[0mexp\u001b[0m\u001b[0;34m(\u001b[0m\u001b[0;34m-\u001b[0m\u001b[0mnp\u001b[0m\u001b[0;34m.\u001b[0m\u001b[0mdot\u001b[0m\u001b[0;34m(\u001b[0m\u001b[0mX\u001b[0m\u001b[0;34m[\u001b[0m\u001b[0mi\u001b[0m\u001b[0;34m,\u001b[0m \u001b[0;34m:\u001b[0m\u001b[0;34m]\u001b[0m\u001b[0;34m,\u001b[0m \u001b[0mtheta\u001b[0m\u001b[0;34m.\u001b[0m\u001b[0mT\u001b[0m\u001b[0;34m)\u001b[0m\u001b[0;34m)\u001b[0m\u001b[0;34m)\u001b[0m\u001b[0;34m)\u001b[0m\u001b[0;34m)\u001b[0m \u001b[0;32mfor\u001b[0m \u001b[0mi\u001b[0m \u001b[0;32min\u001b[0m \u001b[0mrange\u001b[0m\u001b[0;34m(\u001b[0m\u001b[0mX\u001b[0m\u001b[0;34m.\u001b[0m\u001b[0mshape\u001b[0m\u001b[0;34m[\u001b[0m\u001b[0;36m0\u001b[0m\u001b[0;34m]\u001b[0m\u001b[0;34m)\u001b[0m\u001b[0;34m]\u001b[0m\u001b[0;34m)\u001b[0m\u001b[0;34m\u001b[0m\u001b[0;34m\u001b[0m\u001b[0m\n\u001b[0m\u001b[1;32m      4\u001b[0m     \u001b[0;32mreturn\u001b[0m \u001b[0mcost\u001b[0m \u001b[0;34m/\u001b[0m \u001b[0mX\u001b[0m\u001b[0;34m.\u001b[0m\u001b[0mshape\u001b[0m\u001b[0;34m[\u001b[0m\u001b[0;36m0\u001b[0m\u001b[0;34m]\u001b[0m\u001b[0;34m\u001b[0m\u001b[0;34m\u001b[0m\u001b[0m\n",
            "\u001b[0;31mKeyboardInterrupt\u001b[0m: "
          ]
        }
      ],
      "source": [
        "from scipy.optimize import minimize\n",
        "result = minimize(compute_cost, initial_theta, args = (X, y),\n",
        "                   method = 'CG', jac = compute_gradient,\n",
        "                   options = {\"maxiter\": 10, \"disp\" : 1})\n",
        "theta = result.x\n",
        "print('O gradiente Conjugado encontrou os seguintes valores para theta: {}'.format(theta))"
      ]
    },
    {
      "cell_type": "markdown",
      "id": "e3c3a114-8b1d-4396-8897-f6da0ecece2f",
      "metadata": {
        "id": "e3c3a114-8b1d-4396-8897-f6da0ecece2f"
      },
      "source": [
        "### 3.3 - Superfície de Decisão"
      ]
    },
    {
      "cell_type": "markdown",
      "id": "85aa2f81-618f-4cc4-b806-2e3a5e146a58",
      "metadata": {
        "id": "85aa2f81-618f-4cc4-b806-2e3a5e146a58"
      },
      "source": [
        "A superfície de decisão será uma linha no caso desta base bidimensional, que separa as áreas onde o valor predito é y=1 e y=0."
      ]
    },
    {
      "cell_type": "code",
      "execution_count": null,
      "id": "1dc868dc-c5a2-4e49-b2b7-b636e0a1c2fe",
      "metadata": {
        "tags": [],
        "id": "1dc868dc-c5a2-4e49-b2b7-b636e0a1c2fe",
        "outputId": "4d98236e-cd75-482e-af2e-c1678fea0ff4",
        "colab": {
          "base_uri": "https://localhost:8080/",
          "height": 447
        }
      },
      "outputs": [
        {
          "output_type": "execute_result",
          "data": {
            "text/plain": [
              "<matplotlib.legend.Legend at 0x7e783ebd1ba0>"
            ]
          },
          "metadata": {},
          "execution_count": 153
        },
        {
          "output_type": "display_data",
          "data": {
            "text/plain": [
              "<Figure size 640x480 with 1 Axes>"
            ],
            "image/png": "[encoded data removed]"
          },
          "metadata": {}
        }
      ],
      "source": [
        "# Encontra os indíces de amostras positivas e negativas\n",
        "pos = np.where(y==1)[0]\n",
        "neg = np.where(y==0)[0]\n",
        "\n",
        "# Plota as amostras\n",
        "plt.scatter(X[pos, 1], X[pos, 2], c='blue', marker='+', label='Aprovado')\n",
        "plt.scatter(X[neg, 1], X[neg, 2], c='yellow', marker='o', label='Reprovado')\n",
        "plt.legend()\n",
        "\n",
        "#Não use este vetor theta a seguir\n",
        "#Este é o vetor ótimo que a sua implementação deve encontrar\n",
        "#theta = np.array([-25.15522426,0.20618292,0.20142209])\n",
        "\n",
        "# Plota a fronteira de decisão\n",
        "plot_x = np.array([min(X[:,1])-2,  max(X[:,1])+2])\n",
        "plot_y = (-1./theta[2]) * ((theta[1] * (plot_x) + theta[0]))\n",
        "\n",
        "plt.plot(plot_x, plot_y, label='Fronteira de Decisão')\n",
        "\n",
        "# Legend, specific for the exercise\n",
        "plt.legend()"
      ]
    },
    {
      "cell_type": "markdown",
      "id": "452f43c6-e115-4be4-84ee-c5521e3b74ed",
      "metadata": {
        "id": "452f43c6-e115-4be4-84ee-c5521e3b74ed"
      },
      "source": [
        "Após visualizar a fronteira de decisão, teste uma nova entrada para avaliar a probabilidade do candidato ser aprovado. Considerando-se um candidato com notas próximas de 45 e 85, na primeira e segunda avaliação, respectivamente, a probabiliade deve estar próxima de 0.8."
      ]
    },
    {
      "cell_type": "code",
      "execution_count": null,
      "id": "9b91ba46-cb7d-4e82-b935-0cca967d26fd",
      "metadata": {
        "tags": [],
        "id": "9b91ba46-cb7d-4e82-b935-0cca967d26fd",
        "colab": {
          "base_uri": "https://localhost:8080/"
        },
        "outputId": "d6546c2b-a4f4-4408-b6f5-e25d77457b63"
      },
      "outputs": [
        {
          "output_type": "execute_result",
          "data": {
            "text/plain": [
              "1.0"
            ]
          },
          "metadata": {},
          "execution_count": 160
        }
      ],
      "source": [
        "#Faça a predição aqui...\n",
        "sigmoid(theta[0] + theta[1]*45 + theta[2]*85)"
      ]
    },
    {
      "cell_type": "markdown",
      "id": "b4d61dec-b1f0-4348-9f07-021c28713c76",
      "metadata": {
        "id": "b4d61dec-b1f0-4348-9f07-021c28713c76"
      },
      "source": [
        "Agora, para predizer a quantidade de acertos que o seu modelo aprendido está obtendo nos dados de treinamento, complete a implementação das funções \"predict\" e \"accuracy\". A função \"predict\" retorna $1$(Aprovado) ou $0$(Reprovado) para todas as amostras da base de dados, enquanto a função \"accuracy\" utiliza a função \"predict\" para contabilizar a quantidade de acertos. Para este nosso conjunto de dados, é esperado que o modelo tenha cerca de 89% de acerto.\n",
        "\n",
        "Observe que em uma aplicação real, deveriamos considerar dividir a base de dados em dois conjuntos (treinamento e teste), onde o modelo deveria ser avaliado em dados que não foram vistos por ele durante o processo de treinamento."
      ]
    },
    {
      "cell_type": "code",
      "execution_count": null,
      "id": "3573a2c2-645a-4946-a1ae-cdcb13f66d3a",
      "metadata": {
        "tags": [],
        "id": "3573a2c2-645a-4946-a1ae-cdcb13f66d3a"
      },
      "outputs": [],
      "source": [
        "def predict(X, theta):\n",
        "    predicts = np.zeros(X.shape[0])\n",
        "    \"\"\"Implemente aqui...\"\"\"\n",
        "    predicts = [sigmoid(theta[0] + theta[1] * i[1] + theta[2] * i[2]) for i in X[:, :]]\n",
        "    return predicts\n",
        "\n",
        "def accuracy(X, y, theta):\n",
        "    y_hat = predict(X, theta)\n",
        "    acertos = 0\n",
        "    \"\"\"Implemente aqui\"\"\"\n",
        "    for i in range(len(y_hat)):\n",
        "        acertos += 1 if y_hat[i] == y[i] else 0\n",
        "    acertos = acertos / len(y_hat) * 100\n",
        "    return acertos"
      ]
    },
    {
      "cell_type": "code",
      "execution_count": null,
      "id": "d4c0582a-8a5a-4090-9b5b-19e707669624",
      "metadata": {
        "tags": [],
        "id": "d4c0582a-8a5a-4090-9b5b-19e707669624",
        "colab": {
          "base_uri": "https://localhost:8080/"
        },
        "outputId": "b7e04f57-3990-4aca-c9bb-70c6f9ca4d9f"
      },
      "outputs": [
        {
          "output_type": "stream",
          "name": "stdout",
          "text": [
            "60.0\n"
          ]
        }
      ],
      "source": [
        "#Teste as funções...\n",
        "predicts = predict(X, theta)\n",
        "print(accuracy(X, y, theta))"
      ]
    },
    {
      "cell_type": "markdown",
      "id": "4a5ce1f5-643e-4aa8-88c3-13025946fcf8",
      "metadata": {
        "id": "4a5ce1f5-643e-4aa8-88c3-13025946fcf8"
      },
      "source": [
        "## 4 - Regularização"
      ]
    },
    {
      "cell_type": "markdown",
      "id": "8bfe8967-d883-4eea-9b92-41cfdd0fcbb6",
      "metadata": {
        "id": "8bfe8967-d883-4eea-9b92-41cfdd0fcbb6"
      },
      "source": [
        "Regularização é um dos possíveis mecanismos que utilizamos para evitar o problema de overfitting. Lembrando que overfitting quer dizer que nosso modelo se ajustou de mais aos nossos dados de treinamento e aprendendo inclusive o ruído inerente ao processo de amostragem. Por outro lado, se utilizarmos a regularização de maneira incorreta podemos ter o problema de underfitting, que é gerado quando nosso modelo tem capacidade suficiente de aproximar os dados, devido a um treinamento ineficiente, poucos parâmetros ou mapeamento de features feito de forma incorreta.\n",
        "\n",
        "O problema a ser resolvido agora consiste na predição de se os microchips de uma usina de fabricação passam na garantia de qualidade (QA). Durante o processo de QA, cada microchip passa por vários testes visando assegurar o correto funcionamento.\n",
        "A base de dados que utilizaremos consiste no resultado de 2 testes realizados, e os correspondentes resultados, para alguns microchips. Desta forma, construiremos um modelo de regressão logística regularizado para predizer se novos microchips devem ser aceitos ou não. Os dados estão no arquivo \"ex2data2.txt\" e trecho de código a seguir mostra as primeiras linhas do arquivo."
      ]
    },
    {
      "cell_type": "code",
      "execution_count": 26,
      "id": "e00537b4-2d71-4143-8550-5863edd6b3a6",
      "metadata": {
        "id": "e00537b4-2d71-4143-8550-5863edd6b3a6",
        "outputId": "1ff20c5f-27cb-4012-8b61-624a2f8dd8dd",
        "colab": {
          "base_uri": "https://localhost:8080/",
          "height": 258
        }
      },
      "outputs": [
        {
          "output_type": "stream",
          "name": "stdout",
          "text": [
            "\n",
            "\n",
            "Dados: \n"
          ]
        },
        {
          "output_type": "execute_result",
          "data": {
            "text/plain": [
              "    Teste 1  Teste 2  Status\n",
              "0  0.051267  0.69956       1\n",
              "1 -0.092742  0.68494       1\n",
              "2 -0.213710  0.69225       1\n",
              "3 -0.375000  0.50219       1\n",
              "4 -0.513250  0.46564       1"
            ],
            "text/html": [
              "\n",
              "  <div id=\"df-1a47f3f5-8ec1-4883-9a15-eef1b58fdbc1\" class=\"colab-df-container\">\n",
              "    <div>\n",
              "<style scoped>\n",
              "    .dataframe tbody tr th:only-of-type {\n",
              "        vertical-align: middle;\n",
              "    }\n",
              "\n",
              "    .dataframe tbody tr th {\n",
              "        vertical-align: top;\n",
              "    }\n",
              "\n",
              "    .dataframe thead th {\n",
              "        text-align: right;\n",
              "    }\n",
              "</style>\n",
              "<table border=\"1\" class=\"dataframe\">\n",
              "  <thead>\n",
              "    <tr style=\"text-align: right;\">\n",
              "      <th></th>\n",
              "      <th>Teste 1</th>\n",
              "      <th>Teste 2</th>\n",
              "      <th>Status</th>\n",
              "    </tr>\n",
              "  </thead>\n",
              "  <tbody>\n",
              "    <tr>\n",
              "      <th>0</th>\n",
              "      <td>0.051267</td>\n",
              "      <td>0.69956</td>\n",
              "      <td>1</td>\n",
              "    </tr>\n",
              "    <tr>\n",
              "      <th>1</th>\n",
              "      <td>-0.092742</td>\n",
              "      <td>0.68494</td>\n",
              "      <td>1</td>\n",
              "    </tr>\n",
              "    <tr>\n",
              "      <th>2</th>\n",
              "      <td>-0.213710</td>\n",
              "      <td>0.69225</td>\n",
              "      <td>1</td>\n",
              "    </tr>\n",
              "    <tr>\n",
              "      <th>3</th>\n",
              "      <td>-0.375000</td>\n",
              "      <td>0.50219</td>\n",
              "      <td>1</td>\n",
              "    </tr>\n",
              "    <tr>\n",
              "      <th>4</th>\n",
              "      <td>-0.513250</td>\n",
              "      <td>0.46564</td>\n",
              "      <td>1</td>\n",
              "    </tr>\n",
              "  </tbody>\n",
              "</table>\n",
              "</div>\n",
              "    <div class=\"colab-df-buttons\">\n",
              "\n",
              "  <div class=\"colab-df-container\">\n",
              "    <button class=\"colab-df-convert\" onclick=\"convertToInteractive('df-1a47f3f5-8ec1-4883-9a15-eef1b58fdbc1')\"\n",
              "            title=\"Convert this dataframe to an interactive table.\"\n",
              "            style=\"display:none;\">\n",
              "\n",
              "  <svg xmlns=\"http://www.w3.org/2000/svg\" height=\"24px\" viewBox=\"0 -960 960 960\">\n",
              "    <path d=\"M120-120v-720h720v720H120Zm60-500h600v-160H180v160Zm220 220h160v-160H400v160Zm0 220h160v-160H400v160ZM180-400h160v-160H180v160Zm440 0h160v-160H620v160ZM180-180h160v-160H180v160Zm440 0h160v-160H620v160Z\"/>\n",
              "  </svg>\n",
              "    </button>\n",
              "\n",
              "  <style>\n",
              "    .colab-df-container {\n",
              "      display:flex;\n",
              "      gap: 12px;\n",
              "    }\n",
              "\n",
              "    .colab-df-convert {\n",
              "      background-color: #E8F0FE;\n",
              "      border: none;\n",
              "      border-radius: 50%;\n",
              "      cursor: pointer;\n",
              "      display: none;\n",
              "      fill: #1967D2;\n",
              "      height: 32px;\n",
              "      padding: 0 0 0 0;\n",
              "      width: 32px;\n",
              "    }\n",
              "\n",
              "    .colab-df-convert:hover {\n",
              "      background-color: #E2EBFA;\n",
              "      box-shadow: 0px 1px 2px rgba(60, 64, 67, 0.3), 0px 1px 3px 1px rgba(60, 64, 67, 0.15);\n",
              "      fill: #174EA6;\n",
              "    }\n",
              "\n",
              "    .colab-df-buttons div {\n",
              "      margin-bottom: 4px;\n",
              "    }\n",
              "\n",
              "    [theme=dark] .colab-df-convert {\n",
              "      background-color: #3B4455;\n",
              "      fill: #D2E3FC;\n",
              "    }\n",
              "\n",
              "    [theme=dark] .colab-df-convert:hover {\n",
              "      background-color: #434B5C;\n",
              "      box-shadow: 0px 1px 3px 1px rgba(0, 0, 0, 0.15);\n",
              "      filter: drop-shadow(0px 1px 2px rgba(0, 0, 0, 0.3));\n",
              "      fill: #FFFFFF;\n",
              "    }\n",
              "  </style>\n",
              "\n",
              "    <script>\n",
              "      const buttonEl =\n",
              "        document.querySelector('#df-1a47f3f5-8ec1-4883-9a15-eef1b58fdbc1 button.colab-df-convert');\n",
              "      buttonEl.style.display =\n",
              "        google.colab.kernel.accessAllowed ? 'block' : 'none';\n",
              "\n",
              "      async function convertToInteractive(key) {\n",
              "        const element = document.querySelector('#df-1a47f3f5-8ec1-4883-9a15-eef1b58fdbc1');\n",
              "        const dataTable =\n",
              "          await google.colab.kernel.invokeFunction('convertToInteractive',\n",
              "                                                    [key], {});\n",
              "        if (!dataTable) return;\n",
              "\n",
              "        const docLinkHtml = 'Like what you see? Visit the ' +\n",
              "          '<a target=\"_blank\" href=https://colab.research.google.com/notebooks/data_table.ipynb>data table notebook</a>'\n",
              "          + ' to learn more about interactive tables.';\n",
              "        element.innerHTML = '';\n",
              "        dataTable['output_type'] = 'display_data';\n",
              "        await google.colab.output.renderOutput(dataTable, element);\n",
              "        const docLink = document.createElement('div');\n",
              "        docLink.innerHTML = docLinkHtml;\n",
              "        element.appendChild(docLink);\n",
              "      }\n",
              "    </script>\n",
              "  </div>\n",
              "\n",
              "\n",
              "<div id=\"df-d1b60bdd-1687-4c6a-8ef2-243494663e2f\">\n",
              "  <button class=\"colab-df-quickchart\" onclick=\"quickchart('df-d1b60bdd-1687-4c6a-8ef2-243494663e2f')\"\n",
              "            title=\"Suggest charts.\"\n",
              "            style=\"display:none;\">\n",
              "\n",
              "<svg xmlns=\"http://www.w3.org/2000/svg\" height=\"24px\"viewBox=\"0 0 24 24\"\n",
              "     width=\"24px\">\n",
              "    <g>\n",
              "        <path d=\"M19 3H5c-1.1 0-2 .9-2 2v14c0 1.1.9 2 2 2h14c1.1 0 2-.9 2-2V5c0-1.1-.9-2-2-2zM9 17H7v-7h2v7zm4 0h-2V7h2v10zm4 0h-2v-4h2v4z\"/>\n",
              "    </g>\n",
              "</svg>\n",
              "  </button>\n",
              "\n",
              "<style>\n",
              "  .colab-df-quickchart {\n",
              "      --bg-color: #E8F0FE;\n",
              "      --fill-color: #1967D2;\n",
              "      --hover-bg-color: #E2EBFA;\n",
              "      --hover-fill-color: #174EA6;\n",
              "      --disabled-fill-color: #AAA;\n",
              "      --disabled-bg-color: #DDD;\n",
              "  }\n",
              "\n",
              "  [theme=dark] .colab-df-quickchart {\n",
              "      --bg-color: #3B4455;\n",
              "      --fill-color: #D2E3FC;\n",
              "      --hover-bg-color: #434B5C;\n",
              "      --hover-fill-color: #FFFFFF;\n",
              "      --disabled-bg-color: #3B4455;\n",
              "      --disabled-fill-color: #666;\n",
              "  }\n",
              "\n",
              "  .colab-df-quickchart {\n",
              "    background-color: var(--bg-color);\n",
              "    border: none;\n",
              "    border-radius: 50%;\n",
              "    cursor: pointer;\n",
              "    display: none;\n",
              "    fill: var(--fill-color);\n",
              "    height: 32px;\n",
              "    padding: 0;\n",
              "    width: 32px;\n",
              "  }\n",
              "\n",
              "  .colab-df-quickchart:hover {\n",
              "    background-color: var(--hover-bg-color);\n",
              "    box-shadow: 0 1px 2px rgba(60, 64, 67, 0.3), 0 1px 3px 1px rgba(60, 64, 67, 0.15);\n",
              "    fill: var(--button-hover-fill-color);\n",
              "  }\n",
              "\n",
              "  .colab-df-quickchart-complete:disabled,\n",
              "  .colab-df-quickchart-complete:disabled:hover {\n",
              "    background-color: var(--disabled-bg-color);\n",
              "    fill: var(--disabled-fill-color);\n",
              "    box-shadow: none;\n",
              "  }\n",
              "\n",
              "  .colab-df-spinner {\n",
              "    border: 2px solid var(--fill-color);\n",
              "    border-color: transparent;\n",
              "    border-bottom-color: var(--fill-color);\n",
              "    animation:\n",
              "      spin 1s steps(1) infinite;\n",
              "  }\n",
              "\n",
              "  @keyframes spin {\n",
              "    0% {\n",
              "      border-color: transparent;\n",
              "      border-bottom-color: var(--fill-color);\n",
              "      border-left-color: var(--fill-color);\n",
              "    }\n",
              "    20% {\n",
              "      border-color: transparent;\n",
              "      border-left-color: var(--fill-color);\n",
              "      border-top-color: var(--fill-color);\n",
              "    }\n",
              "    30% {\n",
              "      border-color: transparent;\n",
              "      border-left-color: var(--fill-color);\n",
              "      border-top-color: var(--fill-color);\n",
              "      border-right-color: var(--fill-color);\n",
              "    }\n",
              "    40% {\n",
              "      border-color: transparent;\n",
              "      border-right-color: var(--fill-color);\n",
              "      border-top-color: var(--fill-color);\n",
              "    }\n",
              "    60% {\n",
              "      border-color: transparent;\n",
              "      border-right-color: var(--fill-color);\n",
              "    }\n",
              "    80% {\n",
              "      border-color: transparent;\n",
              "      border-right-color: var(--fill-color);\n",
              "      border-bottom-color: var(--fill-color);\n",
              "    }\n",
              "    90% {\n",
              "      border-color: transparent;\n",
              "      border-bottom-color: var(--fill-color);\n",
              "    }\n",
              "  }\n",
              "</style>\n",
              "\n",
              "  <script>\n",
              "    async function quickchart(key) {\n",
              "      const quickchartButtonEl =\n",
              "        document.querySelector('#' + key + ' button');\n",
              "      quickchartButtonEl.disabled = true;  // To prevent multiple clicks.\n",
              "      quickchartButtonEl.classList.add('colab-df-spinner');\n",
              "      try {\n",
              "        const charts = await google.colab.kernel.invokeFunction(\n",
              "            'suggestCharts', [key], {});\n",
              "      } catch (error) {\n",
              "        console.error('Error during call to suggestCharts:', error);\n",
              "      }\n",
              "      quickchartButtonEl.classList.remove('colab-df-spinner');\n",
              "      quickchartButtonEl.classList.add('colab-df-quickchart-complete');\n",
              "    }\n",
              "    (() => {\n",
              "      let quickchartButtonEl =\n",
              "        document.querySelector('#df-d1b60bdd-1687-4c6a-8ef2-243494663e2f button');\n",
              "      quickchartButtonEl.style.display =\n",
              "        google.colab.kernel.accessAllowed ? 'block' : 'none';\n",
              "    })();\n",
              "  </script>\n",
              "</div>\n",
              "    </div>\n",
              "  </div>\n"
            ]
          },
          "metadata": {},
          "execution_count": 26
        }
      ],
      "source": [
        "# Carregando os dados\n",
        "data = pd.read_csv(f'{drive_path}/ex2data2.txt', header = None,\n",
        "                   names = [\"Teste 1\", \"Teste 2\", \"Status\"])\n",
        "\n",
        "# Inicializando variáveis\n",
        "m = len(data[\"Status\"])\n",
        "test_1 = np.array((data[\"Teste 1\"]))\n",
        "test_2 = np.array((data[\"Teste 2\"]))\n",
        "X = np.array([test_1, test_2]).T # a coluna com valores 1 ainda não será adicionada aqui.\n",
        "y = np.array(data[\"Status\"])\n",
        "\n",
        "print(\"\\n\\nDados: \")\n",
        "data.head()"
      ]
    },
    {
      "cell_type": "markdown",
      "id": "c8565bfc-e295-44a0-871d-78d5c8273f2e",
      "metadata": {
        "id": "c8565bfc-e295-44a0-871d-78d5c8273f2e"
      },
      "source": [
        "### 4.1 - Visualização dos Dados"
      ]
    },
    {
      "cell_type": "markdown",
      "id": "a3b57b47-8d9f-4801-8798-88e7a362dd78",
      "metadata": {
        "id": "a3b57b47-8d9f-4801-8798-88e7a362dd78"
      },
      "source": [
        "O trecho de código a seguir produz uma visualização da base de dados de Microchips:"
      ]
    },
    {
      "cell_type": "code",
      "execution_count": 27,
      "id": "b1b853a7-a5a5-4176-a864-9d407d173805",
      "metadata": {
        "tags": [],
        "id": "b1b853a7-a5a5-4176-a864-9d407d173805",
        "outputId": "cede6e9e-8085-41c8-8d4c-374ab191c304",
        "colab": {
          "base_uri": "https://localhost:8080/",
          "height": 449
        }
      },
      "outputs": [
        {
          "output_type": "display_data",
          "data": {
            "text/plain": [
              "<Figure size 640x480 with 1 Axes>"
            ],
            "image/png": "[encoded data removed]"
          },
          "metadata": {}
        }
      ],
      "source": [
        "# Encontrando os indíces das amostras positivas e negativas\n",
        "pos = np.where(y==1)[0]\n",
        "neg = np.where(y==0)[0]\n",
        "\n",
        "# Plotando as amostras\n",
        "plt.scatter(X[pos, 0], X[pos, 1], marker='+', c='red', label='Aceito')\n",
        "plt.scatter(X[neg, 0], X[neg, 1], marker='o', c='blue', label='rejeitado')\n",
        "plt.xlabel('Teste 1')\n",
        "plt.ylabel('Teste 2')\n",
        "plt.legend()\n",
        "plt.show()"
      ]
    },
    {
      "cell_type": "markdown",
      "id": "841863fa-8cb4-4ca1-b900-6127cc92d9a9",
      "metadata": {
        "id": "841863fa-8cb4-4ca1-b900-6127cc92d9a9"
      },
      "source": [
        "### 4.2 - Mapeamento de Atributos (Feature Mapping)"
      ]
    },
    {
      "cell_type": "markdown",
      "id": "9679717d-8932-4788-befe-f1717b76f017",
      "metadata": {
        "id": "9679717d-8932-4788-befe-f1717b76f017"
      },
      "source": [
        "Uma forma de obtermos uma curva não linear para os dados originais, utilizando o ferramental de regressão linear, é criando mais features a partir das já existentes. Para isso, implemente a função \"map_feature\" que recebe a base de dados com as features originais e retorna uma nova base de dados, com o mapeamento das features para todos os termos polinomiais de $x_1$ e $x_2$ até uma potência pré-estabelecida (ex: grau 6).\n",
        "$$Map\\_Features(X)= \\begin{bmatrix} 1 \\\\ x_1 \\\\ x_2 \\\\ x_1x_2 \\\\ x_1^2 \\\\ x_2^2 \\\\ x_1^3 \\\\ \\vdots \\\\ x_1x_2^5 \\\\ x_2^6 \\end{bmatrix}$$\n",
        "\n",
        "Considerando-se o exemplo com grau 6, cada amostra de treinamento que correspondia a um vetor de 2 atributos, será transformado em um vetor com 28 atributos. Desta maneira, o nosso modelo de regressão logística aprendido a partir deste novo vetor de atributos com maior dimensão, terá uma fronteira de decisão de maior complexidade, parecendo não-linear quando plotada no gráfico bidimensional relativo aos atributos originais da base.\n",
        "\n",
        "Este recurso nos permite construir um classificador mais eficiente para o ajuste de regiões complexas, entretanto, ele também está mais inclinado ao problema de overfitting."
      ]
    },
    {
      "cell_type": "code",
      "execution_count": 29,
      "id": "2d75ff11-f1c7-4699-abea-ed2c62264ae0",
      "metadata": {
        "tags": [],
        "id": "2d75ff11-f1c7-4699-abea-ed2c62264ae0"
      },
      "outputs": [],
      "source": [
        "from itertools import combinations_with_replacement\n",
        "\n",
        "def map_feature(X1, X2, degree):\n",
        "    \"\"\"Implemente aqui...\"\"\"\n",
        "    def calc_exp(degree):\n",
        "        max = degree + 1\n",
        "        inc = combinations_with_replacement(range(1, max), 2)\n",
        "        dec = combinations_with_replacement(reversed(range(1, max)), 2)\n",
        "        powers = list(set([i for i in list(inc) + list(dec) if sum(i) == degree] + [(degree, degree)]))\n",
        "        return sorted(powers)\n",
        "\n",
        "    new_X = []\n",
        "    for i in range(1, degree + 1):\n",
        "        powers = calc_exp(i)\n",
        "        for p1, p2 in powers:\n",
        "            if p1 and p2 == i:\n",
        "                new_X.append(X1 ** p1)\n",
        "                new_X.append(X2 ** p2)\n",
        "            else:\n",
        "                new_X.append((X1 ** p1) * (X2 ** p2))\n",
        "\n",
        "    new_X = np.array(new_X).T\n",
        "    new_X = np.insert(new_X, 0, 1, axis=1)\n",
        "    return new_X"
      ]
    },
    {
      "cell_type": "code",
      "source": [
        "new_features = map_feature(X[:, 0], X[:, 1], 6)\n",
        "new_features.shape"
      ],
      "metadata": {
        "colab": {
          "base_uri": "https://localhost:8080/"
        },
        "id": "m1--dwMEhceU",
        "outputId": "9efddad6-c422-4863-bd67-9c7ee600a547"
      },
      "id": "m1--dwMEhceU",
      "execution_count": 30,
      "outputs": [
        {
          "output_type": "execute_result",
          "data": {
            "text/plain": [
              "(118, 28)"
            ]
          },
          "metadata": {},
          "execution_count": 30
        }
      ]
    },
    {
      "cell_type": "markdown",
      "id": "6ff8966e-5f50-47db-a1cb-7236d7d2a306",
      "metadata": {
        "id": "6ff8966e-5f50-47db-a1cb-7236d7d2a306"
      },
      "source": [
        "### 4.3 - Função de custo e gradiente"
      ]
    },
    {
      "cell_type": "markdown",
      "id": "fd0169f7-b9ad-49c5-bcda-3e5f040904a5",
      "metadata": {
        "id": "fd0169f7-b9ad-49c5-bcda-3e5f040904a5"
      },
      "source": [
        "Recapitulando, regularização é realizada a partir da penalização de $\\vec{\\theta}$, com o objetivo de reduzir a magnitude dos parâmetros. Para isto, adicionamos um termos de regularização $\\frac{\\lambda}{m}\\displaystyle\\sum_{j=1}^{n}{\\theta_j}^2$ onde $\\lambda$ é o parâmetro de regularização. Para obtenção de um modelo de complexidade equivalente ao problema de aprendizado, é necessário encontrar o valor ideal de $\\lambda$, uma vez que $\\lambda=0$ elimina a regularização enquanto um valor muito grande para $\\lambda$ penaliza excessivamente $\\vec{\\theta}$ gerando um modelo com underfitting. A função de custo para regressão logística com regularização tem a seguinte forma:\n",
        "$$J(\\theta) = \\frac{1}{m}\\displaystyle\\sum_{i=1}^{m}-\\begin{bmatrix}y^{(i)}\\log h(x^{(i)}+(1-y^{(i)}\\log(1-h_\\theta(x^{(i)})) \\end{bmatrix} + \\frac{\\lambda}{m}\\displaystyle\\sum_{j=1}^{n}{\\theta_j}^2$$\n",
        "\n",
        "Implemente a função de custo regularizada:"
      ]
    },
    {
      "cell_type": "code",
      "execution_count": 31,
      "id": "08479f31-b4f9-4af4-8358-8920558a5577",
      "metadata": {
        "tags": [],
        "id": "08479f31-b4f9-4af4-8358-8920558a5577"
      },
      "outputs": [],
      "source": [
        "def compute_regularized_cost(theta, X, y, _lambda):\n",
        "    \"\"\"Implemente aqui...\"\"\"\n",
        "    cost = np.sum([-y[i] * np.log(1 / (1 + np.exp(-np.dot(X[i, :], theta)))) - (1 - y[i]) * np.log(1 - (1 / (1 + np.exp(-np.dot(X[i, :], theta))))) for i in range(X.shape[0])])\n",
        "    cost = cost / X.shape[0]\n",
        "    regularization = (_lambda / X.shape[0]) * np.sum(theta ** 2)\n",
        "    return cost + regularization"
      ]
    },
    {
      "cell_type": "markdown",
      "id": "6516323b-273f-4b84-ab4e-a4494b3ddaa9",
      "metadata": {
        "id": "6516323b-273f-4b84-ab4e-a4494b3ddaa9"
      },
      "source": [
        "O gradiente para a função regularizada também é modificado, sendo definido da seguinte forma:\n",
        "\n",
        "$$\\theta_0 = \\theta_0 - \\alpha \\frac{1}{m}\\sum_{i=1}^{m} (h_{\\theta}(\\vec{x}^{(i)}) - y^{(i)})x_0^{(i)}) \\qquad j =0\\\\\n",
        "\\theta_j = \\theta_j - \\alpha \\left[\\left(\\frac{1}{m}\\sum_{i=1}^{m} (h_{\\theta}(\\vec{x}^{(i)}) - y^{(i)})x_j^{(i)}\\right) + \\frac{\\lambda}{m}\\theta_j\\right] \\qquad j \\in \\{1, 2, \\dots, n\\}\n",
        "$$"
      ]
    },
    {
      "cell_type": "markdown",
      "id": "24c15686-fde3-402d-8d8d-e0264b7d8e65",
      "metadata": {
        "id": "24c15686-fde3-402d-8d8d-e0264b7d8e65"
      },
      "source": [
        "Observe que $\\theta_0$ não é penalizado."
      ]
    },
    {
      "cell_type": "markdown",
      "id": "d91c5f75-42d4-4aae-adba-d3ab105df114",
      "metadata": {
        "id": "d91c5f75-42d4-4aae-adba-d3ab105df114"
      },
      "source": [
        "Agora, implemente a função \"compute_regularized_gradient\" e teste com os parâmetros iniciais iguais a zero. Faça testes utilizando diferentes valores para $\\lambda$. Ex: $\\lambda=0, \\lambda=1, \\lambda=100$. Para $\\lambda=1$ a função de custo deve retornar um valor de aproximadamente $0.693$."
      ]
    },
    {
      "cell_type": "code",
      "execution_count": 32,
      "id": "959dd632-407e-4173-a0ba-7aace5ecd452",
      "metadata": {
        "tags": [],
        "id": "959dd632-407e-4173-a0ba-7aace5ecd452"
      },
      "outputs": [],
      "source": [
        "def compute_regularized_gradient(theta, X, y, _lambda):\n",
        "    alpha = 0.01\n",
        "    theta = np.array([theta[z] - alpha * compute_regularized_cost(theta, X, y, _lambda)  + (_lambda / X.shape[0] * theta[z]) for z in range(X.shape[1])])\n",
        "    return theta"
      ]
    },
    {
      "cell_type": "code",
      "execution_count": 33,
      "id": "f4a1a5ed-d813-45ee-b3a6-0b99517fa59d",
      "metadata": {
        "tags": [],
        "id": "f4a1a5ed-d813-45ee-b3a6-0b99517fa59d",
        "colab": {
          "base_uri": "https://localhost:8080/"
        },
        "outputId": "4d603dea-38f5-4bb7-ddcc-2b3361ff1055"
      },
      "outputs": [
        {
          "output_type": "stream",
          "name": "stdout",
          "text": [
            "0.6931471805599454 [[-0.00693147]\n",
            " [-0.00693147]\n",
            " [-0.00693147]]\n",
            "0.6931471805599454 [[-0.00693147]\n",
            " [-0.00693147]\n",
            " [-0.00693147]]\n",
            "0.6931471805599454 [[-0.00693147]\n",
            " [-0.00693147]\n",
            " [-0.00693147]]\n"
          ]
        }
      ],
      "source": [
        "#Testa a função aqui para alguns valores de _lambda\n",
        "theta = np.zeros((3,1))\n",
        "X = np.insert(X, 0, 1, axis=1)\n",
        "print(compute_regularized_cost(theta, X, y, 0), compute_regularized_gradient(theta, X, y, 0))\n",
        "print(compute_regularized_cost(theta, X, y, 1), compute_regularized_gradient(theta, X, y, 1))\n",
        "print(compute_regularized_cost(theta, X, y, 100), compute_regularized_gradient(theta, X, y, 100))"
      ]
    },
    {
      "cell_type": "markdown",
      "id": "dc897ea5-1ddd-4a3e-bc97-def0c5f56908",
      "metadata": {
        "id": "dc897ea5-1ddd-4a3e-bc97-def0c5f56908"
      },
      "source": [
        "Utilizando as funções que você criou (compute_regularized_cost e compute_regularized_gradient) utilize a função minimize do pacote scipy.optimize para encontrar os valores ótimos de $\\vec{\\theta}$."
      ]
    },
    {
      "cell_type": "code",
      "execution_count": 34,
      "id": "fbf43fe6-afa2-49c7-a010-6e8aca9ab9ec",
      "metadata": {
        "tags": [],
        "id": "fbf43fe6-afa2-49c7-a010-6e8aca9ab9ec",
        "colab": {
          "base_uri": "https://localhost:8080/"
        },
        "outputId": "c7bbd077-422d-42b5-cd14-083423880515"
      },
      "outputs": [
        {
          "output_type": "stream",
          "name": "stdout",
          "text": [
            "         Current function value: 0.693147\n",
            "         Iterations: 0\n",
            "         Function evaluations: 87\n",
            "         Gradient evaluations: 75\n",
            "[0. 0. 0.]\n"
          ]
        },
        {
          "output_type": "stream",
          "name": "stderr",
          "text": [
            "/usr/local/lib/python3.10/dist-packages/scipy/optimize/_minimize.py:703: OptimizeWarning: Desired error not necessarily achieved due to precision loss.\n",
            "  res = _minimize_cg(fun, x0, args, jac, callback, **options)\n"
          ]
        }
      ],
      "source": [
        "from scipy.optimize import minimize\n",
        "initial_theta = np.zeros(3)\n",
        "_lambda = 1\n",
        "result = minimize(compute_regularized_cost, initial_theta, args = (X, y, _lambda),\n",
        "                   method = 'CG', jac = compute_regularized_gradient,\n",
        "                   options = {\"maxiter\": 10, \"disp\" : 1})\n",
        "\n",
        "print(result.x)"
      ]
    },
    {
      "cell_type": "markdown",
      "id": "9b87296e-e5bd-424a-b429-e1d0dae61c25",
      "metadata": {
        "id": "9b87296e-e5bd-424a-b429-e1d0dae61c25"
      },
      "source": [
        "### 4.4 - Visualizando a Fronteira de Decisão"
      ]
    },
    {
      "cell_type": "markdown",
      "id": "7a095c7a-a43c-4812-b5d0-6fa0c3becd4e",
      "metadata": {
        "tags": [],
        "id": "7a095c7a-a43c-4812-b5d0-6fa0c3becd4e"
      },
      "source": [
        "Aqui, você deve plotar a superfície de decisão. Procure informações a respeito da função \"contour\" para ter auxílio nao plotagem da superfície."
      ]
    },
    {
      "cell_type": "code",
      "execution_count": 37,
      "id": "e60ac06f-8791-4df7-87f8-d5220395ce52",
      "metadata": {
        "tags": [],
        "id": "e60ac06f-8791-4df7-87f8-d5220395ce52",
        "colab": {
          "base_uri": "https://localhost:8080/",
          "height": 430
        },
        "outputId": "6ce66c8a-c009-46fa-a072-f43818e03006"
      },
      "outputs": [
        {
          "output_type": "display_data",
          "data": {
            "text/plain": [
              "<Figure size 640x480 with 1 Axes>"
            ],
            "image/png": "[encoded data removed]"
          },
          "metadata": {}
        }
      ],
      "source": [
        "#Implemente aqui o plot da fronteira de decisão...\n",
        "theta = [-0.00693147, -0.00693147, -0.00693147]\n",
        "\n",
        "pos = np.where(y==1)[0]\n",
        "neg = np.where(y==0)[0]\n",
        "plt.scatter(X[pos, 1], X[pos, 2], marker='+', c='red', label='Aceito')\n",
        "plt.scatter(X[neg, 1], X[neg, 2], marker='o', c='blue', label='rejeitado')\n",
        "plt.legend()\n",
        "plot_x = np.array([min(X[:,1])-2,  max(X[:,1])+2])\n",
        "plot_y = (-1./theta[2]) * ((theta[1] * (plot_x) + theta[0]))\n",
        "plt.plot(plot_x, plot_y)\n",
        "plt.show()"
      ]
    },
    {
      "cell_type": "markdown",
      "id": "75370f14-7b2d-44de-bbf1-1a8812f03e28",
      "metadata": {
        "id": "75370f14-7b2d-44de-bbf1-1a8812f03e28"
      },
      "source": [
        "A sua implementação deve plotar um gráfico semelhante ao apresentado a seguir:"
      ]
    },
    {
      "cell_type": "markdown",
      "id": "a0d29c23-c5a6-46e2-9e02-41ad198653b4",
      "metadata": {
        "id": "a0d29c23-c5a6-46e2-9e02-41ad198653b4"
      },
      "source": [
        " ![](fig_logistic_regularization.png)"
      ]
    },
    {
      "cell_type": "markdown",
      "id": "fa152413-eb1d-4f3d-94fb-739e3a453ecb",
      "metadata": {
        "id": "fa152413-eb1d-4f3d-94fb-739e3a453ecb"
      },
      "source": [
        "Agora que já é possível visualizar uma fronteira de separação para o problema, divida os dados em 2 partes (treinamento e teste) e realize o treinamento mais 10 vezes, alterando o valor de $\\lambda$ e plotando a fronteira de decisão obtida a cada valor testado. Aponte situações onde ocorrer underfitting e overfitting, além de mostrar qual valor de $\\lambda$ proporcionou o resultado com maior acurácia para os dados de teste. Lembre-se, o seu modelo será obtido através da aplicação do algoritmo de aprendizado apenas aos dados de treinamento. Os dados de teste serão utilizados apenas para verificar o desempenho do modelo obtido para um determinado valor de $\\lambda$."
      ]
    },
    {
      "cell_type": "code",
      "execution_count": 40,
      "id": "1edf10f3-355d-4d9f-9410-91298fbb2f41",
      "metadata": {
        "tags": [],
        "id": "1edf10f3-355d-4d9f-9410-91298fbb2f41",
        "colab": {
          "base_uri": "https://localhost:8080/"
        },
        "outputId": "dacec520-74e2-4ba6-da8d-2665a3c29888"
      },
      "outputs": [
        {
          "output_type": "stream",
          "name": "stdout",
          "text": [
            "         Current function value: 0.693147\n",
            "         Iterations: 0\n",
            "         Function evaluations: 89\n",
            "         Gradient evaluations: 77\n",
            "[0. 0. 0.]\n"
          ]
        },
        {
          "output_type": "stream",
          "name": "stderr",
          "text": [
            "/usr/local/lib/python3.10/dist-packages/scipy/optimize/_minimize.py:703: OptimizeWarning: Desired error not necessarily achieved due to precision loss.\n",
            "  res = _minimize_cg(fun, x0, args, jac, callback, **options)\n"
          ]
        }
      ],
      "source": [
        "#Realize aqui os testes...\n",
        "initial_theta = np.zeros(3)\n",
        "_lambda = 0.0001\n",
        "result = minimize(compute_regularized_cost, initial_theta, args = (X, y, _lambda),\n",
        "                   method = 'CG', jac = compute_regularized_gradient,\n",
        "                   options = {\"maxiter\": 10, \"disp\" : 1})\n",
        "\n",
        "print(result.x)"
      ]
    },
    {
      "cell_type": "markdown",
      "id": "a4257b98-5e19-4e8c-8bc9-e3fcba40690e",
      "metadata": {
        "id": "a4257b98-5e19-4e8c-8bc9-e3fcba40690e"
      },
      "source": [
        "O gráfico a seguir foi obtido utilizando-se $\\lambda = 0.0001$:"
      ]
    },
    {
      "cell_type": "markdown",
      "id": "429eba2c-6452-4429-8d30-f11aa73f7ec3",
      "metadata": {
        "id": "429eba2c-6452-4429-8d30-f11aa73f7ec3"
      },
      "source": [
        "![](fig_logistic_regularization_overfitting.png)"
      ]
    },
    {
      "cell_type": "markdown",
      "id": "353e9c47-6b0d-4bf3-b364-4c8114945a55",
      "metadata": {
        "tags": [],
        "id": "353e9c47-6b0d-4bf3-b364-4c8114945a55"
      },
      "source": [
        "## 5 - O que deve ser entregue"
      ]
    },
    {
      "cell_type": "markdown",
      "id": "2789f9a6-e61e-4fbb-b906-9ad9c5e156ef",
      "metadata": {
        "id": "2789f9a6-e61e-4fbb-b906-9ad9c5e156ef"
      },
      "source": [
        "Você deve entregar através do sistema, este notebook totalmente preenchido com o que se pede em cada item onde uma implementação é necessária. Caso esteja utilizando algum código ou imagem anexado ao notebook, envie junto, em um arquivo .zip.\n",
        "\n",
        "Adicionalmente, faça um relatório de 1 página(anexe ao .zip) para apresentar suas análises e conclusões sobre as diversas seções deste trabalho."
      ]
    },
    {
      "cell_type": "markdown",
      "id": "cafe48b6-0ff7-4e51-a3e5-2f556ba41510",
      "metadata": {
        "id": "cafe48b6-0ff7-4e51-a3e5-2f556ba41510"
      },
      "source": [
        "## 6 - Créditos"
      ]
    },
    {
      "cell_type": "markdown",
      "id": "813295b5-02fb-4827-829c-a809b925ddf6",
      "metadata": {
        "id": "813295b5-02fb-4827-829c-a809b925ddf6"
      },
      "source": [
        "Este trabalho é uma tradução/adaptação de parte dos trabalhos práticos do curso Stanford CS229 - Machine Learning, de autoria do prof. Andrew Ng."
      ]
    },
    {
      "cell_type": "code",
      "execution_count": null,
      "id": "a0787a3b-e244-46f5-a984-451c37c7078a",
      "metadata": {
        "id": "a0787a3b-e244-46f5-a984-451c37c7078a"
      },
      "outputs": [],
      "source": []
    }
  ],
  "metadata": {
    "kernelspec": {
      "display_name": "Python 3 (ipykernel)",
      "language": "python",
      "name": "python3"
    },
    "language_info": {
      "codemirror_mode": {
        "name": "ipython",
        "version": 3
      },
      "file_extension": ".py",
      "mimetype": "text/x-python",
      "name": "python",
      "nbconvert_exporter": "python",
      "pygments_lexer": "ipython3",
      "version": "3.10.12"
    },
    "colab": {
      "provenance": []
    }
  },
  "nbformat": 4,
  "nbformat_minor": 5
}