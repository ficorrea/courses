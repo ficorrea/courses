{
 "cells": [
  {
   "cell_type": "markdown",
   "metadata": {},
   "source": [
    "# Funções map(), reduce(), filter() e zip()"
   ]
  },
  {
   "cell_type": "markdown",
   "metadata": {},
   "source": [
    "### map() - Faz o mapeamento de uma entrada para uma saída. Recebe 2 argumentos: função e iterável."
   ]
  },
  {
   "cell_type": "code",
   "execution_count": null,
   "metadata": {},
   "outputs": [],
   "source": [
    "# Conversão temperaturas Celsius em Fahrenheit\n",
    "# 1a solução (usando função para conversão e percorrer lista com for)\n",
    "def fahrenheit(C):\n",
    "    return (9/5)*C+32"
   ]
  },
  {
   "cell_type": "code",
   "execution_count": null,
   "metadata": {},
   "outputs": [],
   "source": [
    "temp_Celsius = [9, 22, 38, 0, -10, 15, 27]"
   ]
  },
  {
   "cell_type": "code",
   "execution_count": null,
   "metadata": {},
   "outputs": [],
   "source": [
    "for temp in temp_Celsius:\n",
    "    print(\"{}°C\".format(temp).rjust(8)+\" = \"+\"{}°F\".format(fahrenheit(temp)).rjust(8))"
   ]
  },
  {
   "cell_type": "code",
   "execution_count": null,
   "metadata": {},
   "outputs": [],
   "source": [
    "# 2a solução (percorrer com for e usar função para gerar uma lista das temperaturas em F)\n",
    "temp_F = []\n",
    "for temp in temp_Celsius:\n",
    "    temp_F += [fahrenheit(temp)]\n",
    "temp_F"
   ]
  },
  {
   "cell_type": "code",
   "execution_count": null,
   "metadata": {},
   "outputs": [],
   "source": [
    "# 3a solução: usar função a função map() para iterar a lista das temperaturas em °C e gerar a lista em °F\n",
    "temp_F2 = list(map(fahrenheit, temp_Celsius))\n",
    "temp_F2"
   ]
  },
  {
   "cell_type": "code",
   "execution_count": null,
   "metadata": {},
   "outputs": [],
   "source": [
    "# 4a solução: usar função a função map() para iterar a lista das temperaturas em °C e gerar a lista em °F\n",
    "# Dessa vez vamos usar uma função lambda no lugar da função fahrenheit\n",
    "temp_F3 = list(map(lambda C: (9/5)*C+32, temp_Celsius))\n",
    "temp_F3"
   ]
  },
  {
   "cell_type": "markdown",
   "metadata": {},
   "source": [
    "### reduce() - Aplica uma função a todos os valores da estrutura de dados, dois a dois, de forma a agregá-los em um único valor. Recebe 2 argumentos: função e iterável.\n",
    "\n",
    "![Coloque a imagem reduce.png na mesma pasta que o notebook \"Aula map(), reduce(), filter(), zip().ipynb\"](reduce.png)"
   ]
  },
  {
   "cell_type": "code",
   "execution_count": null,
   "metadata": {},
   "outputs": [],
   "source": [
    "from functools import reduce # Anteriormente era uma função built in do Python"
   ]
  },
  {
   "cell_type": "code",
   "execution_count": null,
   "metadata": {},
   "outputs": [],
   "source": [
    "# Definindo a lista de números\n",
    "numeros = [4, 2, 7, 1, 5, 9]"
   ]
  },
  {
   "cell_type": "code",
   "execution_count": null,
   "metadata": {},
   "outputs": [],
   "source": [
    "# Definindo a função soma\n",
    "def soma(n1, n2):\n",
    "    \"\"\"\n",
    "    Retorna a soma entre os 2 números recebidos por parâmetro.\n",
    "    \"\"\"    \n",
    "    return n1 + n2"
   ]
  },
  {
   "cell_type": "code",
   "execution_count": null,
   "metadata": {},
   "outputs": [],
   "source": [
    "# Aplica a função soma em todos os valores da lista (dois a dois), retornando a soma de todos os elementos.\n",
    "print(reduce(soma, numeros))"
   ]
  },
  {
   "cell_type": "code",
   "execution_count": null,
   "metadata": {},
   "outputs": [],
   "source": [
    "# Aplica a função soma em todos os valores da lista (dois a dois), retornando a soma de todos os elementos.\n",
    "# Usa uma função lambda no lugar da função soma\n",
    "print(reduce(lambda n1, n2: n1+n2, numeros))"
   ]
  },
  {
   "cell_type": "code",
   "execution_count": null,
   "metadata": {},
   "outputs": [],
   "source": [
    "# Definindo a função menor\n",
    "def menor(n1, n2):\n",
    "    \"\"\"\n",
    "    Retorna o menor entre os 2 números recebidos por parâmetro.\n",
    "    \"\"\"\n",
    "    if n1 < n2:\n",
    "        return n1\n",
    "    else:\n",
    "        return n2"
   ]
  },
  {
   "cell_type": "code",
   "execution_count": null,
   "metadata": {},
   "outputs": [],
   "source": [
    "print(reduce(menor, numeros))"
   ]
  },
  {
   "cell_type": "code",
   "execution_count": null,
   "metadata": {},
   "outputs": [],
   "source": [
    "print(reduce(lambda n1, n2: n1 if n1 > n2 else n2, numeros))"
   ]
  },
  {
   "cell_type": "markdown",
   "metadata": {},
   "source": [
    "### filter() - Aplica um filtro na estrutura de dados, retornando apenas os elementos que passaram por esse filtro. Recebe 2 argumentos: função e iterável."
   ]
  },
  {
   "cell_type": "code",
   "execution_count": null,
   "metadata": {},
   "outputs": [],
   "source": [
    "def impar(num):\n",
    "    if num % 2 != 0:\n",
    "        return True\n",
    "    else:\n",
    "        return False"
   ]
  },
  {
   "cell_type": "code",
   "execution_count": null,
   "metadata": {},
   "outputs": [],
   "source": [
    "numeros = [4, 2, 7, 1, 5, 9]"
   ]
  },
  {
   "cell_type": "code",
   "execution_count": null,
   "metadata": {},
   "outputs": [],
   "source": [
    "impares = list(filter(impar, numeros))\n",
    "impares"
   ]
  },
  {
   "cell_type": "code",
   "execution_count": null,
   "metadata": {},
   "outputs": [],
   "source": [
    "pares = list(filter(lambda num: num%2 == 0, numeros))\n",
    "pares"
   ]
  },
  {
   "cell_type": "code",
   "execution_count": null,
   "metadata": {},
   "outputs": [],
   "source": [
    "numeros = [-4, 2, -7, 1, -5, 9]\n",
    "positivos = list(filter(lambda num: num >= 0, numeros))\n",
    "positivos"
   ]
  },
  {
   "cell_type": "markdown",
   "metadata": {},
   "source": [
    "### zip() - Combina dados de vários iteráveis, de forma que o i-ésimo elemento da tupla contenha o i-ésimo elemento de cada um dos iteráveis recebidos por parâmetro. A iteração é interrompida quando já tiver percorrido todos os elementos do menor dos iteráveis.\n"
   ]
  },
  {
   "cell_type": "code",
   "execution_count": null,
   "metadata": {},
   "outputs": [],
   "source": [
    "l1 = [1, 2, 3]\n",
    "l2 = [4, 5, 6]\n",
    "l3 = [7, 8, 9]\n",
    "l4 = [10,11,12,13]\n",
    "list(zip(l1, l2))"
   ]
  },
  {
   "cell_type": "code",
   "execution_count": null,
   "metadata": {},
   "outputs": [],
   "source": [
    "list(zip(l1, l2, l3))"
   ]
  },
  {
   "cell_type": "code",
   "execution_count": null,
   "metadata": {},
   "outputs": [],
   "source": [
    "list(zip(l1, l2, l3, l4))"
   ]
  },
  {
   "cell_type": "code",
   "execution_count": null,
   "metadata": {},
   "outputs": [],
   "source": [
    "nomes = [\"Raul\", \"Bia\", \"José\"]\n",
    "idades = [32, 25, 28]\n",
    "cidades = [\"Campinas\", \"BHte\", \"João Pessoa\"]\n",
    "dados = list(zip(nomes, idades, cidades))"
   ]
  },
  {
   "cell_type": "code",
   "execution_count": null,
   "metadata": {},
   "outputs": [],
   "source": [
    "dados"
   ]
  },
  {
   "cell_type": "code",
   "execution_count": null,
   "metadata": {},
   "outputs": [],
   "source": []
  }
 ],
 "metadata": {
  "kernelspec": {
   "display_name": "Python 3",
   "language": "python",
   "name": "python3"
  },
  "language_info": {
   "codemirror_mode": {
    "name": "ipython",
    "version": 3
   },
   "file_extension": ".py",
   "mimetype": "text/x-python",
   "name": "python",
   "nbconvert_exporter": "python",
   "pygments_lexer": "ipython3",
   "version": "3.7.3"
  }
 },
 "nbformat": 4,
 "nbformat_minor": 2
}
