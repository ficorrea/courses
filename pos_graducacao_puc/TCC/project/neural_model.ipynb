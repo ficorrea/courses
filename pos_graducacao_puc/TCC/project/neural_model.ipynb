{
  "cells": [
    {
      "cell_type": "code",
      "execution_count": null,
      "metadata": {
        "id": "tyle76ois-Xg"
      },
      "outputs": [],
      "source": [
        "import pandas as pd\n",
        "\n",
        "df_train = pd.read_csv('/content/drive/MyDrive/PosPuc/TCC/datasets/df_processeds/x_train.csv')\n",
        "y_train = pd.read_csv('/content/drive/MyDrive/PosPuc/TCC/datasets/df_processeds/y_train.csv')\n",
        "\n",
        "df_test = pd.read_csv('/content/drive/MyDrive/PosPuc/TCC/datasets/df_processeds/x_test.csv')\n",
        "y_test = pd.read_csv('/content/drive/MyDrive/PosPuc/TCC/datasets/df_processeds/y_test.csv')"
      ]
    },
    {
      "cell_type": "code",
      "source": [
        "# Encoding variables\n",
        "from sklearn.preprocessing import OneHotEncoder\n",
        "ohe = OneHotEncoder(handle_unknown='ignore').fit(df_train)\n",
        "\n",
        "# Encode train dataset\n",
        "x_train = ohe.transform(df_train).toarray()\n",
        "x_test = ohe.transform(df_test).toarray()"
      ],
      "metadata": {
        "id": "56ud3EW0qCNY"
      },
      "execution_count": null,
      "outputs": []
    },
    {
      "cell_type": "code",
      "source": [
        "# Change y_train values to float\n",
        "y_train = y_train.astype('float32')"
      ],
      "metadata": {
        "id": "MQJfRiUtqDtU"
      },
      "execution_count": null,
      "outputs": []
    },
    {
      "cell_type": "code",
      "source": [
        "# Checking GPU use\n",
        "import tensorflow as tf\n",
        "device_name = tf.test.gpu_device_name()\n",
        "if device_name != '/device:GPU:0':\n",
        "    print('GPU device not found')\n",
        "else:\n",
        "    print('Found GPU at: {}'.format(device_name))\n",
        "#   raise SystemError('GPU device not found')"
      ],
      "metadata": {
        "id": "EPlPHBDIqFT9",
        "colab": {
          "base_uri": "https://localhost:8080/"
        },
        "outputId": "53401af4-3be8-4673-e32e-679dece086b9"
      },
      "execution_count": null,
      "outputs": [
        {
          "output_type": "stream",
          "name": "stdout",
          "text": [
            "GPU device not found\n"
          ]
        }
      ]
    },
    {
      "cell_type": "code",
      "source": [
        "import tensorflow as tf\n",
        "from tensorflow.keras import Sequential\n",
        "from tensorflow.keras.layers import Dense, Dropout, Input\n",
        "from tensorflow.keras.optimizers import Adam, SGD\n",
        "\n",
        "\n",
        "def built_model(layers_size, layers, optimizer, activation):\n",
        "    \n",
        "    hidden = []\n",
        "\n",
        "    hidden.append(Input(shape=(x_train.shape[1],)))\n",
        "    for _ in range(layers):\n",
        "        hidden.append(Dense(layers_size, activation=activation))\n",
        "        hidden.append(Dropout(0.2))\n",
        "    \n",
        "    hidden += [Dense(layers_size // 2, activation=activation), Dropout(0.2), Dense(1)]\n",
        "\n",
        "    model = Sequential(hidden)\n",
        "    \n",
        "    model.compile(\n",
        "        loss='mse', \n",
        "        optimizer=optimizer,\n",
        "        metrics=[tf.keras.metrics.MeanAbsoluteError()])\n",
        "\n",
        "    return model"
      ],
      "metadata": {
        "id": "J4miMQb1qJA5"
      },
      "execution_count": null,
      "outputs": []
    },
    {
      "cell_type": "code",
      "source": [
        "# Grid to search bests hyperparameters\n",
        "results = []\n",
        "\n",
        "optimizers = [SGD()]\n",
        "layers_size = [32, 64, 128]\n",
        "layers = [2, 3, 4]\n",
        "epochs = [100, 200, 300]\n",
        "activation = ['relu', 'gelu']\n",
        "\n",
        "tf.random.set_seed(42)\n",
        "\n",
        "for opt in optimizers:\n",
        "    for lsize in layers_size:\n",
        "        for l in layers:\n",
        "            for act in activation:\n",
        "                model = built_model(lsize, l, opt, act)\n",
        "                for eph in epochs:\n",
        "                    model.fit(x_train, y_train.values.ravel(), epochs=eph, verbose=False)\n",
        "                    results.append(\n",
        "                        {'optimizer': opt.get_config()['name'], \n",
        "                         'layers_size': lsize, \n",
        "                         'layers': l, \n",
        "                         'epochs': eph, \n",
        "                         'activation': act, \n",
        "                         'loss': model.history.history['loss'][-1] if not tf.math.is_nan(model.history.history['loss'][-1]) else 'nan', \n",
        "                         'mae': model.history.history['mean_absolute_error'][-1] if not tf.math.is_nan(model.history.history['mean_absolute_error'][-1]) else 'nan'})\n",
        "                    results_nn = pd.DataFrame(results)\n",
        "                    results_nn.to_csv('/content/drive/MyDrive/PosPuc/TCC/datasets/acidentes_ocorrencia/results_sgd.csv', index=False, encoding='utf8')"
      ],
      "metadata": {
        "id": "fjfCdNnlqLBk"
      },
      "execution_count": null,
      "outputs": []
    },
    {
      "cell_type": "code",
      "source": [
        "Results\n",
        "results_nn = pd.DataFrame(results)\n",
        "results_nn.to_csv('/content/drive/MyDrive/PosPuc/TCC/datasets/df_processeds/results_nn.csv', index=False, encoding='utf8')"
      ],
      "metadata": {
        "id": "ryF0bG9KqNOV"
      },
      "execution_count": null,
      "outputs": []
    }
  ],
  "metadata": {
    "colab": {
      "provenance": [],
      "collapsed_sections": []
    },
    "kernelspec": {
      "display_name": "Python 3",
      "name": "python3"
    },
    "language_info": {
      "name": "python"
    },
    "gpuClass": "standard"
  },
  "nbformat": 4,
  "nbformat_minor": 0
}