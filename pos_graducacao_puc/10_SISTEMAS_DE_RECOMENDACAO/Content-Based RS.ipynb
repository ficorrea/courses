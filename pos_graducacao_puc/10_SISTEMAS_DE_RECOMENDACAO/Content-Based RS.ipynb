{
 "cells": [
  {
   "cell_type": "markdown",
   "metadata": {},
   "source": [
    "# Content-Based RS"
   ]
  },
  {
   "cell_type": "markdown",
   "metadata": {},
   "source": [
    "In this step we will implement the Rocchio model, a simple content-based RS. \n",
    "For this reason, you must do:\n",
    "\n",
    "- Read the train file extracted from the dataset \n",
    "- Read the 0-1 file related to the movies features\n",
    "- Create a sparse matrix to them\n",
    "- Implement the Rocchio model and save the items recommended"
   ]
  },
  {
   "cell_type": "code",
   "execution_count": null,
   "metadata": {},
   "outputs": [],
   "source": [
    "# import libs\n",
    "import operator\n",
    "import numpy as np\n",
    "import pandas as pd\n",
    "import matplotlib.pyplot as plt\n",
    "\n",
    "from scipy.sparse import csr_matrix\n",
    "from collections import OrderedDict\n",
    "from sklearn.metrics.pairwise import cosine_similarity\n",
    "\n",
    "# useful command\n",
    "from IPython.core.interactiveshell import InteractiveShell\n",
    "InteractiveShell.ast_node_interactivity = \"all\"\n",
    "\n",
    "plt.rcParams.update({'font.size': 14})"
   ]
  },
  {
   "cell_type": "markdown",
   "metadata": {},
   "source": [
    "## Reading train and items' features files"
   ]
  },
  {
   "cell_type": "markdown",
   "metadata": {},
   "source": [
    "You can read this file as you prefer. I propose to read the files by the pandas' library and create the sparse matrix after it."
   ]
  },
  {
   "cell_type": "code",
   "execution_count": null,
   "metadata": {},
   "outputs": [],
   "source": [
    "df_train = \n",
    "df_test = \n",
    "df_features = \n",
    "\n",
    "df_train.head()\n",
    "df_features.head()"
   ]
  },
  {
   "cell_type": "markdown",
   "metadata": {},
   "source": [
    "## Creating Sparse Matrix"
   ]
  },
  {
   "cell_type": "markdown",
   "metadata": {},
   "source": [
    "I propose to use the csr_matrix from scipy."
   ]
  },
  {
   "cell_type": "code",
   "execution_count": null,
   "metadata": {},
   "outputs": [],
   "source": [
    "# Select users, items and ratings logs (i.e., all information from each column)\n",
    "users = \n",
    "items = \n",
    "ratings = "
   ]
  },
  {
   "cell_type": "code",
   "execution_count": null,
   "metadata": {},
   "outputs": [],
   "source": [
    "# Define the matrix dimensions based on the max index related to users and items\n",
    "nb_users = max(users)\n",
    "nb_items = max(items)"
   ]
  },
  {
   "cell_type": "code",
   "execution_count": null,
   "metadata": {},
   "outputs": [],
   "source": [
    "# Creating matrix of ratings\n",
    "ratings_matrix = csr_matrix((ratings, (users, items)), shape=(nb_users+1, nb_items+1))\n",
    "\n",
    "ratings_matrix.shape"
   ]
  },
  {
   "cell_type": "code",
   "execution_count": null,
   "metadata": {},
   "outputs": [],
   "source": [
    "# Select items and features\n",
    "nb_items = max(df_features['MovieId'])\n",
    "nb_features = len(df_features.columns) - 1"
   ]
  },
  {
   "cell_type": "code",
   "execution_count": null,
   "metadata": {},
   "outputs": [],
   "source": [
    "# Creating matrix of items' features all zero\n",
    "features_matrix = csr_matrix((nb_items+1, nb_features+1))\n",
    "\n",
    "features_matrix.shape"
   ]
  },
  {
   "cell_type": "code",
   "execution_count": null,
   "metadata": {},
   "outputs": [],
   "source": [
    "f = open('../Dataset/ML-1M/features-items.txt', 'r')\n",
    "\n",
    "# ignore header\n",
    "row = f.readline()\n",
    "\n",
    "for row in f:\n",
    "    row = row.rstrip()\n",
    "    values = row.split(',')\n",
    "    itemId = int(values.pop(0))\n",
    "    featureId = 0\n",
    "    for v in values:\n",
    "        features_matrix[itemId, featureId] = int(v)\n",
    "        featureId += 1 \n",
    "        \n",
    "f.close()"
   ]
  },
  {
   "cell_type": "code",
   "execution_count": null,
   "metadata": {},
   "outputs": [],
   "source": [
    "features_matrix.shape"
   ]
  },
  {
   "cell_type": "markdown",
   "metadata": {},
   "source": [
    "## An useful function"
   ]
  },
  {
   "cell_type": "markdown",
   "metadata": {},
   "source": [
    "This function is used to save the recommendations in a file."
   ]
  },
  {
   "cell_type": "code",
   "execution_count": null,
   "metadata": {},
   "outputs": [],
   "source": [
    "def dumpRecommendation(recommendation, users_targets, file_name):\n",
    "    \n",
    "    file_out = open(file_name, 'w')\n",
    "    \n",
    "    # for each user target\n",
    "    for userId in users_targets:\n",
    "        issuedItems = \"\"\n",
    "        # for each item in the previous order\n",
    "        for itemId in recommendation[userId]:\n",
    "            issuedItems += str(itemId) + \":\" + str(0.0) + \",\"\n",
    "        # saving in file in correct format\n",
    "        string_s = str(userId) + \"\\t\" + \"[\" + issuedItems\n",
    "        string_out = string_s[:-1] + ']'\n",
    "        file_out.write(string_out + \"\\n\")\n",
    "    \n",
    "    file_out.close()"
   ]
  },
  {
   "cell_type": "markdown",
   "metadata": {},
   "source": [
    "## Rocchio Recommendation"
   ]
  },
  {
   "attachments": {
    "image.png": {
     "image/png": "[encoded data removed]"
    }
   },
   "cell_type": "markdown",
   "metadata": {},
   "source": [
    "In Rocchio model, the prediction is based on the similarity (e.g., cosine) between items and users:\n",
    "\n",
    "- Each item is a vector of features _(similar to features-matrix)_\n",
    "- Each user is a mix of his/her items consumed:\n",
    "![image.png](attachment:image.png)"
   ]
  },
  {
   "cell_type": "markdown",
   "metadata": {},
   "source": [
    "### Representing users by features"
   ]
  },
  {
   "cell_type": "code",
   "execution_count": null,
   "metadata": {},
   "outputs": [],
   "source": [
    "# Creating matrix of users' features all zero\n",
    "users_matrix = \n",
    "\n",
    "users_matrix.shape"
   ]
  },
  {
   "cell_type": "code",
   "execution_count": null,
   "metadata": {},
   "outputs": [],
   "source": [
    "# Matrix multiplication of ratings and features\n",
    "aux = \n",
    "aux.shape"
   ]
  },
  {
   "cell_type": "code",
   "execution_count": null,
   "metadata": {},
   "outputs": [],
   "source": [
    "# Normalizing them by the size of user historic\n",
    "for u in range(ratings_matrix.shape[0]):\n",
    "    # measuring the items nonzero\n",
    "    nb_nonzero = \n",
    "    # multiplying this\n",
    "    if (nb_nonzero != 0):\n",
    "        users_matrix[u,:] = \n",
    "\n",
    "users_matrix.shape"
   ]
  },
  {
   "cell_type": "markdown",
   "metadata": {},
   "source": [
    "### Recommending items"
   ]
  },
  {
   "cell_type": "markdown",
   "metadata": {},
   "source": [
    "The recommendation is related to the cosine similarity of users and items vectors."
   ]
  },
  {
   "cell_type": "code",
   "execution_count": null,
   "metadata": {},
   "outputs": [],
   "source": [
    "features_matrix.shape"
   ]
  },
  {
   "cell_type": "code",
   "execution_count": null,
   "metadata": {},
   "outputs": [],
   "source": [
    "# consine similarity between each item\n",
    "prediction_matrix = \n",
    "prediction_matrix.shape"
   ]
  },
  {
   "cell_type": "code",
   "execution_count": null,
   "metadata": {},
   "outputs": [],
   "source": [
    "# Size of each recommendation\n",
    "top_k = 10"
   ]
  },
  {
   "cell_type": "code",
   "execution_count": null,
   "metadata": {},
   "outputs": [],
   "source": [
    "# Setting the recommendations of items that have not be rated by the user\n",
    "recommendation = {}\n",
    "\n",
    "for u in range(ratings_matrix.shape[0]):\n",
    "    recommendation[u] = []\n",
    "    cont = 0\n",
    "    # sorting items by relevance\n",
    "    order = np.argsort(prediction_matrix[u,:])[::-1]\n",
    "    # recommending the best items that have never seen by users\n",
    "    for i in order:\n",
    "        # recommending the top-k items \n",
    "        if (cont < top_k):\n",
    "            if ( ):\n",
    "                recommendation[u].append(i)\n",
    "                cont += 1\n",
    "        else:\n",
    "            break"
   ]
  },
  {
   "cell_type": "code",
   "execution_count": null,
   "metadata": {},
   "outputs": [],
   "source": [
    "# Save in a file\n",
    "users_targets = df_test['userId'].unique()\n",
    "dumpRecommendation(recommendation, users_targets, \"recList_Rocchio.txt\")"
   ]
  },
  {
   "cell_type": "code",
   "execution_count": null,
   "metadata": {},
   "outputs": [],
   "source": [
    "recommendation[300]\n",
    "recommendation[3000]\n",
    "recommendation[6010]"
   ]
  },
  {
   "cell_type": "code",
   "execution_count": null,
   "metadata": {},
   "outputs": [],
   "source": []
  },
  {
   "cell_type": "code",
   "execution_count": null,
   "metadata": {},
   "outputs": [],
   "source": []
  },
  {
   "cell_type": "code",
   "execution_count": null,
   "metadata": {},
   "outputs": [],
   "source": [
    "## Toy example\n",
    "A = csr_matrix([[1,0,4,0,5,0,2,0,0,5], \n",
    "                [0,2,0,3,0,3,5,0,1,0], \n",
    "                [4,0,0,0,4,0,3,0,0,2], \n",
    "                [0,2,1,4,0,0,1,3,0,3], \n",
    "                [3,0,4,0,3,5,0,0,4,0]])\n",
    "\n",
    "B = csr_matrix([[1,1,0,0], [0,1,0,1], [1,0,1,0], [0,1,1,1], [1,0,0,1], \n",
    "                [1,1,0,0], [0,1,1,1], [1,0,0,0], [1,0,1,1], [1,0,1,0]])\n",
    "\n",
    "nb_users = 5\n",
    "nb_items = 10\n",
    "nb_features = 4"
   ]
  }
 ],
 "metadata": {
  "kernelspec": {
   "display_name": "Python 3",
   "language": "python",
   "name": "python3"
  },
  "language_info": {
   "codemirror_mode": {
    "name": "ipython",
    "version": 3
   },
   "file_extension": ".py",
   "mimetype": "text/x-python",
   "name": "python",
   "nbconvert_exporter": "python",
   "pygments_lexer": "ipython3",
   "version": "3.6.9"
  }
 },
 "nbformat": 4,
 "nbformat_minor": 2
}
