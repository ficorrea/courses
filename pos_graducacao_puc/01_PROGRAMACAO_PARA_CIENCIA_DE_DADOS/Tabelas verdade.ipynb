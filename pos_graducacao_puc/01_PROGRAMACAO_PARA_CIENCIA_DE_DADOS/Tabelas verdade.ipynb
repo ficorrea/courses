{
 "cells": [
  {
   "cell_type": "markdown",
   "metadata": {},
   "source": [
    "# TABELAS VERDADE"
   ]
  },
  {
   "cell_type": "code",
   "execution_count": null,
   "metadata": {},
   "outputs": [],
   "source": [
    "# TABELA DO AND (com 2 booleanos)\n",
    "print(\" x     | y     | x and y \")\n",
    "print(\"-------------------------\")\n",
    "print(\" True  | True  |\", True and True )\n",
    "print(\" True  | False |\", True and False )\n",
    "print(\" False | True  |\", False and True)\n",
    "print(\" False | False |\", False and False)"
   ]
  },
  {
   "cell_type": "code",
   "execution_count": null,
   "metadata": {},
   "outputs": [],
   "source": [
    "# TABELA DO AND (com 3 booleanos)\n",
    "print(\" x     | y     | z     |  x and y and z \")\n",
    "print(\"----------------------------------------\")\n",
    "print(\" True  | True  | True  |\",True and True and True)\n",
    "print(\" True  | True  | False |\",True and True and False)\n",
    "print(\" True  | False | True  |\",True and False and True)\n",
    "print(\" True  | False | False |\",True and False and False)\n",
    "print(\" False | True  | True  |\",False and True and True)\n",
    "print(\" False | True  | False |\",False and True and False)\n",
    "print(\" False | False | True  |\",False and False and True)\n",
    "print(\" False | False | False |\",False and False and False)"
   ]
  },
  {
   "cell_type": "code",
   "execution_count": null,
   "metadata": {},
   "outputs": [],
   "source": [
    "# TABELA DO OR\n",
    "print(\" x     | y     | x or y \")\n",
    "print(\"-------------------------\")\n",
    "print(\" True  | True  |\",True or True )\n",
    "print(\" True  | False |\",True or False )\n",
    "print(\" False | True  |\",False or True)\n",
    "print(\" False | False |\",False or False)"
   ]
  },
  {
   "cell_type": "code",
   "execution_count": null,
   "metadata": {},
   "outputs": [],
   "source": [
    "# TABELA DO XOR (EXCLUSIVE OR)\n",
    "print(\" x     | y     | x ^ y \")\n",
    "print(\"-------------------------\")\n",
    "print(\" True  | True  |\",True ^ True )\n",
    "print(\" True  | False |\",True ^ False )\n",
    "print(\" False | True  |\",False ^ True)\n",
    "print(\" False | False |\",False ^ False)"
   ]
  },
  {
   "cell_type": "code",
   "execution_count": null,
   "metadata": {},
   "outputs": [],
   "source": [
    "# TABELA DO NOT\n",
    "print(\" x     | not(x) \")\n",
    "print(\"----------------\")\n",
    "print(\" True  |\",not(True))\n",
    "print(\" False |\",not(False))"
   ]
  },
  {
   "cell_type": "code",
   "execution_count": null,
   "metadata": {},
   "outputs": [],
   "source": []
  }
 ],
 "metadata": {
  "kernelspec": {
   "display_name": "Python 3",
   "language": "python",
   "name": "python3"
  },
  "language_info": {
   "codemirror_mode": {
    "name": "ipython",
    "version": 3
   },
   "file_extension": ".py",
   "mimetype": "text/x-python",
   "name": "python",
   "nbconvert_exporter": "python",
   "pygments_lexer": "ipython3",
   "version": "3.7.2"
  }
 },
 "nbformat": 4,
 "nbformat_minor": 2
}
