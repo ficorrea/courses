{
 "cells": [
  {
   "cell_type": "markdown",
   "metadata": {},
   "source": [
    "# Non-Personalized RS"
   ]
  },
  {
   "cell_type": "markdown",
   "metadata": {},
   "source": [
    "In this step we will implement the two main non-personalized Recommender Systems (RS). They are:\n",
    "\n",
    "- Most-Popular: the one that recommends the most popular items\n",
    "- Best-Rated: the one that recommends the items who was rated with higher grades\n",
    "\n",
    "For this reason, you must do:\n",
    "\n",
    "- Read the train file extracted from the dataset \n",
    "- Create a sparse matrix for the ratings file\n",
    "- Implement the Most-Popular and save the items recommended\n",
    "- Implement the Best-Rated and save the items recommended"
   ]
  },
  {
   "cell_type": "code",
   "execution_count": null,
   "metadata": {},
   "outputs": [],
   "source": [
    "# import libs\n",
    "import operator\n",
    "import numpy as np\n",
    "import pandas as pd\n",
    "import matplotlib.pyplot as plt\n",
    "\n",
    "from scipy.sparse import csr_matrix\n",
    "from collections import OrderedDict\n",
    "\n",
    "# useful command\n",
    "from IPython.core.interactiveshell import InteractiveShell\n",
    "InteractiveShell.ast_node_interactivity = \"all\"\n",
    "\n",
    "plt.rcParams.update({'font.size': 14})"
   ]
  },
  {
   "cell_type": "markdown",
   "metadata": {},
   "source": [
    "## Reading train and test files"
   ]
  },
  {
   "cell_type": "markdown",
   "metadata": {},
   "source": [
    "You can read this file as you prefer. I propose to read the files by the pandas' library and create the sparse matrix after it."
   ]
  },
  {
   "cell_type": "code",
   "execution_count": null,
   "metadata": {},
   "outputs": [],
   "source": [
    "df_train = \n",
    "df_test = \n",
    "\n",
    "df_train.head()\n",
    "df_test.head()"
   ]
  },
  {
   "cell_type": "markdown",
   "metadata": {},
   "source": [
    "## Creating Sparse Matrix"
   ]
  },
  {
   "cell_type": "markdown",
   "metadata": {},
   "source": [
    "I propose to use the csr_matrix from scipy."
   ]
  },
  {
   "cell_type": "code",
   "execution_count": null,
   "metadata": {},
   "outputs": [],
   "source": [
    "# Select users, items and ratings logs (i.e., all information from each column)\n",
    "users = \n",
    "items = \n",
    "ratings = "
   ]
  },
  {
   "cell_type": "code",
   "execution_count": null,
   "metadata": {},
   "outputs": [],
   "source": [
    "# Define the matrix dimensions based on the max index related to users and items\n",
    "nb_users = \n",
    "nb_items = "
   ]
  },
  {
   "cell_type": "code",
   "execution_count": null,
   "metadata": {},
   "outputs": [],
   "source": [
    "# Creating matrix of ratings\n",
    "ratings_matrix = csr_matrix((ratings, (users, items)), shape=(nb_users+1, nb_items+1))\n",
    "\n",
    "ratings_matrix.shape"
   ]
  },
  {
   "cell_type": "markdown",
   "metadata": {},
   "source": [
    "## An useful function"
   ]
  },
  {
   "cell_type": "markdown",
   "metadata": {},
   "source": [
    "This function is used to save the recommendations in a file."
   ]
  },
  {
   "cell_type": "code",
   "execution_count": null,
   "metadata": {},
   "outputs": [],
   "source": [
    "def dumpRecommendation(recommendation, users_targets, file_name):\n",
    "    \n",
    "    file_out = open(file_name, 'w')\n",
    "    \n",
    "    # for each user target\n",
    "    for userId in users_targets:\n",
    "        issuedItems = \"\"\n",
    "        # for each item in the previous order\n",
    "        for itemId in recommendation[userId]:\n",
    "            issuedItems += str(itemId) + \":\" + str(0.0) + \",\"\n",
    "        # saving in file in correct format\n",
    "        string_s = str(userId) + \"\\t\" + \"[\" + issuedItems\n",
    "        string_out = string_s[:-1] + ']'\n",
    "        file_out.write(string_out + \"\\n\")\n",
    "    \n",
    "    file_out.close()"
   ]
  },
  {
   "cell_type": "markdown",
   "metadata": {},
   "source": [
    "## Most-Popular Recommendation"
   ]
  },
  {
   "cell_type": "code",
   "execution_count": null,
   "metadata": {},
   "outputs": [],
   "source": [
    "# Items popularity\n",
    "items_popularity = {}\n",
    "\n"
   ]
  },
  {
   "cell_type": "code",
   "execution_count": null,
   "metadata": {},
   "outputs": [],
   "source": [
    "# Sorting the itemId descending by its popularity\n",
    "popularity_order = \n",
    "most_popular = "
   ]
  },
  {
   "cell_type": "code",
   "execution_count": null,
   "metadata": {},
   "outputs": [],
   "source": [
    "most_popular[:10]"
   ]
  },
  {
   "cell_type": "code",
   "execution_count": null,
   "metadata": {},
   "outputs": [],
   "source": [
    "# Size of each recommendation\n",
    "top_k = 10"
   ]
  },
  {
   "cell_type": "code",
   "execution_count": null,
   "metadata": {},
   "outputs": [],
   "source": [
    "# Setting the recommendations of items that have not be rated by the user\n",
    "recommendation = {}\n",
    "\n",
    "for u in range(ratings_matrix.shape[0]):\n",
    "    # recommending just the most popular\n",
    "    recommendation[u] = []\n",
    "    cont = 0\n",
    "    # recommending the most popular that have never seen by users\n",
    "    for i in most_popular:\n",
    "        # recommending the top-k items \n",
    "        if (cont < top_k):\n",
    "            if ( ):\n",
    "                recommendation[u].append(i)\n",
    "                cont += 1\n",
    "        else:\n",
    "            break"
   ]
  },
  {
   "cell_type": "code",
   "execution_count": null,
   "metadata": {},
   "outputs": [],
   "source": [
    "# Save in a file\n",
    "users_targets = df_test['userId'].unique()\n",
    "dumpRecommendation(recommendation, users_targets, \"recList_MostPopular.txt\")"
   ]
  },
  {
   "cell_type": "code",
   "execution_count": null,
   "metadata": {},
   "outputs": [],
   "source": [
    "recommendation[300]\n",
    "recommendation[3000]\n",
    "recommendation[6010]"
   ]
  },
  {
   "cell_type": "markdown",
   "metadata": {},
   "source": [
    "## Best-Rated Recommendation"
   ]
  },
  {
   "cell_type": "code",
   "execution_count": null,
   "metadata": {},
   "outputs": [],
   "source": [
    "# Measure the mean of items' ratings\n",
    "items_rating = {}\n",
    "\n"
   ]
  },
  {
   "cell_type": "code",
   "execution_count": null,
   "metadata": {},
   "outputs": [],
   "source": [
    "# Sorting the itemId descending by its popularity\n",
    "rating_order = \n",
    "best_rated = "
   ]
  },
  {
   "cell_type": "code",
   "execution_count": null,
   "metadata": {},
   "outputs": [],
   "source": [
    "best_rated[:10]"
   ]
  },
  {
   "cell_type": "code",
   "execution_count": null,
   "metadata": {},
   "outputs": [],
   "source": [
    "# Setting the recommendations of items that have not be rated by the user\n",
    "recommendation = {}\n",
    "\n",
    "for u in range(ratings_matrix.shape[0]):\n",
    "    # recommending just the most popular\n",
    "    recommendation[u] = []\n",
    "    cont = 0\n",
    "    # recommending the most popular that have never seen by users\n",
    "    for i in best_rated:\n",
    "        # recommending the top-k items \n",
    "        if (cont < top_k):\n",
    "            if ( ):\n",
    "                recommendation[u].append(i)\n",
    "                cont += 1\n",
    "        else:\n",
    "            break"
   ]
  },
  {
   "cell_type": "code",
   "execution_count": null,
   "metadata": {},
   "outputs": [],
   "source": [
    "# Save in a file\n",
    "users_targets = df_test['userId'].unique()\n",
    "dumpRecommendation(recommendation, users_targets, \"recList_BestRated.txt\")"
   ]
  },
  {
   "cell_type": "code",
   "execution_count": null,
   "metadata": {},
   "outputs": [],
   "source": [
    "recommendation[300]\n",
    "recommendation[3000]\n",
    "recommendation[6010]"
   ]
  }
 ],
 "metadata": {
  "kernelspec": {
   "display_name": "Python 3",
   "language": "python",
   "name": "python3"
  },
  "language_info": {
   "codemirror_mode": {
    "name": "ipython",
    "version": 3
   },
   "file_extension": ".py",
   "mimetype": "text/x-python",
   "name": "python",
   "nbconvert_exporter": "python",
   "pygments_lexer": "ipython3",
   "version": "3.6.9"
  }
 },
 "nbformat": 4,
 "nbformat_minor": 2
}
