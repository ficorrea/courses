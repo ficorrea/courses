{
 "cells": [
  {
   "cell_type": "code",
   "execution_count": 8,
   "metadata": {},
   "outputs": [],
   "source": [
    "import pandas as pd\n",
    "from preprocessing import preprocessamento, missing\n",
    "import numpy as np\n",
    "import statsmodels.formula.api as sm\n",
    "import matplotlib.pyplot as plt\n",
    "\n",
    "pre = preprocessamento.Preprocessamento()\n",
    "\n",
    "df1, df2, df3, df4, df5 = map(pre.ler_csv, ['imob1.csv', 'imob2.csv',\n",
    "                                            'imob3.csv', 'imob4.csv',\n",
    "                                            'imob5.csv'])\n",
    "\n",
    "lista = [df1, df2, df3, df4, df5]\n",
    "\n",
    "df3['banheiros'] = df3['suites']\n",
    "df4['banheiros'] = df4['suites']\n",
    "\n",
    "for l in lista:\n",
    "    l.drop(columns='suites', inplace=True)\n",
    "\n",
    "dataset = pre.concatenar_datasets([df1, df2, df3, df4, df5])\n",
    "dataset = dataset.iloc[:, 2:]\n",
    "dataset = pre.ajustar_texto(dataset)\n",
    "dataset = pre.ajustar_nomes_bairros(dataset)\n",
    "dataset['valor'] = dataset['valor'].astype(float)\n",
    "\n",
    "dataset.loc[dataset['area'] >= 300, 'area'] = 0\n",
    "dataset.loc[dataset['valor'] >= 2000000, 'valor'] = 0\n",
    "dataset.loc[dataset['valor'] < 30000, 'valor'] = 0\n",
    "\n",
    "dataset = missing.imputer_media_grupo(\n",
    "    dataset, 'quartos', 'valor', [1, 2, 3, 4, 5])\n",
    "dataset = missing.imputer_media(dataset, 'quartos')\n",
    "dataset = missing.imputer_media(dataset, 'banheiros')\n",
    "dataset = missing.imputer_knn(dataset, 'area', 4, 5)\n",
    "\n",
    "m = dataset['quartos'] == 1\n",
    "m2 = dataset['area'] >= 100.0\n",
    "m3 = dataset['area'] < 100.0\n",
    "dataset.loc[m & m2, 'area'] = dataset.loc[m & m3, 'area'].mean()\n",
    "\n",
    "x = dataset.iloc[:, 0:5].values\n",
    "y = dataset.iloc[:, 5].values\n",
    "\n",
    "from sklearn.preprocessing import LabelEncoder, OneHotEncoder\n",
    "label = LabelEncoder()\n",
    "x[:, 0] = label.fit_transform(x[:, 0])\n",
    "onehot = OneHotEncoder(categorical_features=[0])\n",
    "x = onehot.fit_transform(x).toarray()\n",
    "# Dummy\n",
    "x = x[:, 1:]\n",
    "\n",
    "from sklearn.model_selection import train_test_split\n",
    "x_train, x_test, y_train, y_test = train_test_split(\n",
    "    x, y, test_size=0.2, random_state=0)\n",
    "\n",
    "from sklearn.ensemble import RandomForestRegressor\n",
    "regressor = RandomForestRegressor(\n",
    "    n_estimators=25, max_depth=15, random_state=0)\n",
    "regressor.fit(x_train, y_train)\n",
    "y_predict = regressor.predict(x_test)\n",
    "\n",
    "enc = pd.DataFrame(x[:, 0:44])\n",
    "bair = pd.DataFrame(dataset['bairro'])\n",
    "bairros_encoder = pd.merge(\n",
    "    right=enc, left=bair, right_index=True, left_index=True, how='outer')\n",
    "\n",
    "bairros_encoder.drop_duplicates(subset=['bairro'], keep='first', inplace=True)\n",
    "bairros_encoder.sort_values('bairro', inplace=True)\n",
    "\n",
    "\n",
    "def lista_encoder(nome_bairro):\n",
    "    bairro = bairros_encoder.loc[bairros_encoder['bairro'] == nome_bairro]\n",
    "    return bairro.iloc[:, 1:].values\n",
    "\n",
    "\n",
    "def previsao_preco(bairro, quartos, banheiros, garagens, area):\n",
    "    bairro_encoder = lista_encoder(bairro)\n",
    "    features = np.concatenate(\n",
    "        (bairro_encoder[0], [quartos, banheiros, area]), axis=0)\n",
    "    valor_predito = regressor.predict([features])\n",
    "    print('Imóvel no {} com {} quarto(s), {} banheiro(s), {} vaga(s) de garagem e área de {}m². Valor previsto R$ {}'.format(\n",
    "        bairro, quartos, banheiros, garagens, area, round(valor_predito[0], 2)))"
   ]
  },
  {
   "cell_type": "code",
   "execution_count": 17,
   "metadata": {},
   "outputs": [
    {
     "data": {
      "text/plain": [
       "5.0"
      ]
     },
     "execution_count": 17,
     "metadata": {},
     "output_type": "execute_result"
    }
   ],
   "source": [
    "dataset['quartos'].max()"
   ]
  },
  {
   "cell_type": "code",
   "execution_count": 12,
   "metadata": {},
   "outputs": [
    {
     "data": {
      "text/plain": [
       "5.0"
      ]
     },
     "execution_count": 12,
     "metadata": {},
     "output_type": "execute_result"
    }
   ],
   "source": [
    "dataset['banheiros'].max()"
   ]
  },
  {
   "cell_type": "code",
   "execution_count": 13,
   "metadata": {},
   "outputs": [
    {
     "data": {
      "text/plain": [
       "6"
      ]
     },
     "execution_count": 13,
     "metadata": {},
     "output_type": "execute_result"
    }
   ],
   "source": [
    "dataset['garagens'].max()"
   ]
  },
  {
   "cell_type": "code",
   "execution_count": 14,
   "metadata": {},
   "outputs": [
    {
     "data": {
      "text/plain": [
       "273.74000000000001"
      ]
     },
     "execution_count": 14,
     "metadata": {},
     "output_type": "execute_result"
    }
   ],
   "source": [
    "dataset['area'].max()"
   ]
  },
  {
   "cell_type": "code",
   "execution_count": 181,
   "metadata": {
    "slideshow": {
     "slide_type": "-"
    }
   },
   "outputs": [
    {
     "name": "stdout",
     "output_type": "stream",
     "text": [
      "Imóvel no Centro com 1 quarto(s), 1 banheiro(s), 0 vaga(s) de garagem e área de 23.5m². Valor previsto R$ 153197.37\n",
      "Imóvel no Centro com 1 quarto(s), 2 banheiro(s), 0 vaga(s) de garagem e área de 45.5m². Valor previsto R$ 161237.37\n",
      "Imóvel no Centro com 1 quarto(s), 3 banheiro(s), 0 vaga(s) de garagem e área de 45.95m². Valor previsto R$ 164143.17\n",
      "Imóvel no Centro com 1 quarto(s), 4 banheiro(s), 0 vaga(s) de garagem e área de 47.95m². Valor previsto R$ 170274.75\n",
      "Imóvel no Centro com 1 quarto(s), 5 banheiro(s), 0 vaga(s) de garagem e área de 48m². Valor previsto R$ 170274.75\n"
     ]
    }
   ],
   "source": [
    "a = [23.5, 45.5, 45.95, 47.95, 48]\n",
    "for i in range(1, 6):\n",
    "    previsao_preco('Centro', 1, 1, i, 23.5)\n"
   ]
  },
  {
   "cell_type": "code",
   "execution_count": null,
   "metadata": {},
   "outputs": [],
   "source": [
    "print('Imóvel no {} com {} quarto(s), {} banheiro(s), {} vaga(s) de garagem e área de {}m². Valor previsto R$ {}'.format(\n",
    "        bairro, quartos, banheiros, garagens, area, round(valor_predito[0], 2)))"
   ]
  }
 ],
 "metadata": {
  "kernelspec": {
   "display_name": "Python 3",
   "language": "python",
   "name": "python3"
  },
  "language_info": {
   "codemirror_mode": {
    "name": "ipython",
    "version": 3
   },
   "file_extension": ".py",
   "mimetype": "text/x-python",
   "name": "python",
   "nbconvert_exporter": "python",
   "pygments_lexer": "ipython3",
   "version": "3.5.3"
  }
 },
 "nbformat": 4,
 "nbformat_minor": 2
}
