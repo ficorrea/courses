{
  "cells": [
    {
      "cell_type": "code",
      "execution_count": null,
      "metadata": {
        "id": "z4a9osflpBmL"
      },
      "outputs": [],
      "source": [
        "import pandas as pd\n",
        "import datetime as dt"
      ]
    },
    {
      "cell_type": "code",
      "execution_count": null,
      "metadata": {
        "id": "bWNr0H0akHrB"
      },
      "outputs": [],
      "source": [
        "# Read datasets\n",
        "df_train = pd.read_csv('/content/drive/MyDrive/PosPuc/TCC/datasets/acidentes_ocorrencia/x_train.csv')\n",
        "y_train = pd.read_csv('/content/drive/MyDrive/PosPuc/TCC/datasets/acidentes_ocorrencia/y_train.csv')\n",
        "\n",
        "df_test = pd.read_csv('/content/drive/MyDrive/PosPuc/TCC/datasets/acidentes_ocorrencia/x_test.csv')\n",
        "y_test = pd.read_csv('/content/drive/MyDrive/PosPuc/TCC/datasets/acidentes_ocorrencia/y_test.csv')"
      ]
    },
    {
      "cell_type": "code",
      "execution_count": null,
      "metadata": {
        "colab": {
          "base_uri": "https://localhost:8080/",
          "height": 206
        },
        "id": "Zy2ha5MypNkU",
        "outputId": "5a3526d2-96f2-4139-f0e8-429a1b8ac1c0"
      },
      "outputs": [
        {
          "output_type": "execute_result",
          "data": {
            "text/plain": [
              "  dia_semana  uf   br tipo_acidente fase_dia km_intervalo  mes  \\\n",
              "0     SABADO  RJ  116   CAPOTAMENTO      DIA  [300 - 350]  NOV   \n",
              "1     QUINTA  SP  116         SAIDA      DIA  [500 - 550]  SET   \n",
              "2    SEGUNDA  SP  101   CAPOTAMENTO      DIA     [0 - 50]  FEV   \n",
              "3    SEGUNDA  SC  101   CAPOTAMENTO      DIA  [150 - 200]  FEV   \n",
              "4     SABADO  RJ  101         SAIDA    NOITE  [150 - 200]  MAI   \n",
              "\n",
              "  cond_metereologica  \n",
              "0              CHUVA  \n",
              "1          CEU CLARO  \n",
              "2              CHUVA  \n",
              "3              CHUVA  \n",
              "4          CEU CLARO  "
            ],
            "text/html": [
              "\n",
              "  <div id=\"df-6acf0fe7-0c4c-42fc-a3b4-5b14adb86fa1\">\n",
              "    <div class=\"colab-df-container\">\n",
              "      <div>\n",
              "<style scoped>\n",
              "    .dataframe tbody tr th:only-of-type {\n",
              "        vertical-align: middle;\n",
              "    }\n",
              "\n",
              "    .dataframe tbody tr th {\n",
              "        vertical-align: top;\n",
              "    }\n",
              "\n",
              "    .dataframe thead th {\n",
              "        text-align: right;\n",
              "    }\n",
              "</style>\n",
              "<table border=\"1\" class=\"dataframe\">\n",
              "  <thead>\n",
              "    <tr style=\"text-align: right;\">\n",
              "      <th></th>\n",
              "      <th>dia_semana</th>\n",
              "      <th>uf</th>\n",
              "      <th>br</th>\n",
              "      <th>tipo_acidente</th>\n",
              "      <th>fase_dia</th>\n",
              "      <th>km_intervalo</th>\n",
              "      <th>mes</th>\n",
              "      <th>cond_metereologica</th>\n",
              "    </tr>\n",
              "  </thead>\n",
              "  <tbody>\n",
              "    <tr>\n",
              "      <th>0</th>\n",
              "      <td>SABADO</td>\n",
              "      <td>RJ</td>\n",
              "      <td>116</td>\n",
              "      <td>CAPOTAMENTO</td>\n",
              "      <td>DIA</td>\n",
              "      <td>[300 - 350]</td>\n",
              "      <td>NOV</td>\n",
              "      <td>CHUVA</td>\n",
              "    </tr>\n",
              "    <tr>\n",
              "      <th>1</th>\n",
              "      <td>QUINTA</td>\n",
              "      <td>SP</td>\n",
              "      <td>116</td>\n",
              "      <td>SAIDA</td>\n",
              "      <td>DIA</td>\n",
              "      <td>[500 - 550]</td>\n",
              "      <td>SET</td>\n",
              "      <td>CEU CLARO</td>\n",
              "    </tr>\n",
              "    <tr>\n",
              "      <th>2</th>\n",
              "      <td>SEGUNDA</td>\n",
              "      <td>SP</td>\n",
              "      <td>101</td>\n",
              "      <td>CAPOTAMENTO</td>\n",
              "      <td>DIA</td>\n",
              "      <td>[0 - 50]</td>\n",
              "      <td>FEV</td>\n",
              "      <td>CHUVA</td>\n",
              "    </tr>\n",
              "    <tr>\n",
              "      <th>3</th>\n",
              "      <td>SEGUNDA</td>\n",
              "      <td>SC</td>\n",
              "      <td>101</td>\n",
              "      <td>CAPOTAMENTO</td>\n",
              "      <td>DIA</td>\n",
              "      <td>[150 - 200]</td>\n",
              "      <td>FEV</td>\n",
              "      <td>CHUVA</td>\n",
              "    </tr>\n",
              "    <tr>\n",
              "      <th>4</th>\n",
              "      <td>SABADO</td>\n",
              "      <td>RJ</td>\n",
              "      <td>101</td>\n",
              "      <td>SAIDA</td>\n",
              "      <td>NOITE</td>\n",
              "      <td>[150 - 200]</td>\n",
              "      <td>MAI</td>\n",
              "      <td>CEU CLARO</td>\n",
              "    </tr>\n",
              "  </tbody>\n",
              "</table>\n",
              "</div>\n",
              "      <button class=\"colab-df-convert\" onclick=\"convertToInteractive('df-6acf0fe7-0c4c-42fc-a3b4-5b14adb86fa1')\"\n",
              "              title=\"Convert this dataframe to an interactive table.\"\n",
              "              style=\"display:none;\">\n",
              "        \n",
              "  <svg xmlns=\"http://www.w3.org/2000/svg\" height=\"24px\"viewBox=\"0 0 24 24\"\n",
              "       width=\"24px\">\n",
              "    <path d=\"M0 0h24v24H0V0z\" fill=\"none\"/>\n",
              "    <path d=\"M18.56 5.44l.94 2.06.94-2.06 2.06-.94-2.06-.94-.94-2.06-.94 2.06-2.06.94zm-11 1L8.5 8.5l.94-2.06 2.06-.94-2.06-.94L8.5 2.5l-.94 2.06-2.06.94zm10 10l.94 2.06.94-2.06 2.06-.94-2.06-.94-.94-2.06-.94 2.06-2.06.94z\"/><path d=\"M17.41 7.96l-1.37-1.37c-.4-.4-.92-.59-1.43-.59-.52 0-1.04.2-1.43.59L10.3 9.45l-7.72 7.72c-.78.78-.78 2.05 0 2.83L4 21.41c.39.39.9.59 1.41.59.51 0 1.02-.2 1.41-.59l7.78-7.78 2.81-2.81c.8-.78.8-2.07 0-2.86zM5.41 20L4 18.59l7.72-7.72 1.47 1.35L5.41 20z\"/>\n",
              "  </svg>\n",
              "      </button>\n",
              "      \n",
              "  <style>\n",
              "    .colab-df-container {\n",
              "      display:flex;\n",
              "      flex-wrap:wrap;\n",
              "      gap: 12px;\n",
              "    }\n",
              "\n",
              "    .colab-df-convert {\n",
              "      background-color: #E8F0FE;\n",
              "      border: none;\n",
              "      border-radius: 50%;\n",
              "      cursor: pointer;\n",
              "      display: none;\n",
              "      fill: #1967D2;\n",
              "      height: 32px;\n",
              "      padding: 0 0 0 0;\n",
              "      width: 32px;\n",
              "    }\n",
              "\n",
              "    .colab-df-convert:hover {\n",
              "      background-color: #E2EBFA;\n",
              "      box-shadow: 0px 1px 2px rgba(60, 64, 67, 0.3), 0px 1px 3px 1px rgba(60, 64, 67, 0.15);\n",
              "      fill: #174EA6;\n",
              "    }\n",
              "\n",
              "    [theme=dark] .colab-df-convert {\n",
              "      background-color: #3B4455;\n",
              "      fill: #D2E3FC;\n",
              "    }\n",
              "\n",
              "    [theme=dark] .colab-df-convert:hover {\n",
              "      background-color: #434B5C;\n",
              "      box-shadow: 0px 1px 3px 1px rgba(0, 0, 0, 0.15);\n",
              "      filter: drop-shadow(0px 1px 2px rgba(0, 0, 0, 0.3));\n",
              "      fill: #FFFFFF;\n",
              "    }\n",
              "  </style>\n",
              "\n",
              "      <script>\n",
              "        const buttonEl =\n",
              "          document.querySelector('#df-6acf0fe7-0c4c-42fc-a3b4-5b14adb86fa1 button.colab-df-convert');\n",
              "        buttonEl.style.display =\n",
              "          google.colab.kernel.accessAllowed ? 'block' : 'none';\n",
              "\n",
              "        async function convertToInteractive(key) {\n",
              "          const element = document.querySelector('#df-6acf0fe7-0c4c-42fc-a3b4-5b14adb86fa1');\n",
              "          const dataTable =\n",
              "            await google.colab.kernel.invokeFunction('convertToInteractive',\n",
              "                                                     [key], {});\n",
              "          if (!dataTable) return;\n",
              "\n",
              "          const docLinkHtml = 'Like what you see? Visit the ' +\n",
              "            '<a target=\"_blank\" href=https://colab.research.google.com/notebooks/data_table.ipynb>data table notebook</a>'\n",
              "            + ' to learn more about interactive tables.';\n",
              "          element.innerHTML = '';\n",
              "          dataTable['output_type'] = 'display_data';\n",
              "          await google.colab.output.renderOutput(dataTable, element);\n",
              "          const docLink = document.createElement('div');\n",
              "          docLink.innerHTML = docLinkHtml;\n",
              "          element.appendChild(docLink);\n",
              "        }\n",
              "      </script>\n",
              "    </div>\n",
              "  </div>\n",
              "  "
            ]
          },
          "metadata": {},
          "execution_count": 3
        }
      ],
      "source": [
        "# Sample dataset\n",
        "df_train.head()"
      ]
    },
    {
      "cell_type": "code",
      "execution_count": null,
      "metadata": {
        "colab": {
          "base_uri": "https://localhost:8080/"
        },
        "id": "1kPfywJIpU41",
        "outputId": "bb61c054-803d-4e56-a341-922ee15ebb35"
      },
      "outputs": [
        {
          "output_type": "execute_result",
          "data": {
            "text/plain": [
              "[array(['DOMINGO', 'QUARTA', 'QUINTA', 'SABADO', 'SEGUNDA', 'SEXTA',\n",
              "        'TERCA'], dtype=object),\n",
              " array(['RJ', 'SC', 'SP'], dtype=object),\n",
              " array([101, 116]),\n",
              " array(['ATROPELAMENTO', 'CAPOTAMENTO', 'COLISAO', 'OUTROS', 'QUEDA',\n",
              "        'SAIDA', 'TOMBAMENTO'], dtype=object),\n",
              " array(['DIA', 'NOITE'], dtype=object),\n",
              " array(['[0 - 50]', '[100 - 150]', '[150 - 200]', '[200 - 250]',\n",
              "        '[250 - 300]', '[300 - 350]', '[350 - 400]', '[400 - 450]',\n",
              "        '[450 - 500]', '[50 - 100]', '[500 - 550]', '[550 - 600]'],\n",
              "       dtype=object),\n",
              " array(['ABR', 'AGO', 'DEZ', 'FEV', 'JAN', 'JUL', 'JUN', 'MAI', 'MAR',\n",
              "        'NOV', 'OUT', 'SET'], dtype=object),\n",
              " array(['CEU CLARO', 'CHUVA', 'NUBLADO', 'SOL'], dtype=object)]"
            ]
          },
          "metadata": {},
          "execution_count": 4
        }
      ],
      "source": [
        "# Encoding variables\n",
        "from sklearn.preprocessing import OneHotEncoder\n",
        "\n",
        "ohe = OneHotEncoder(handle_unknown='ignore').fit(df_train)\n",
        "x_train = ohe.transform(df_train).toarray()\n",
        "x_test = ohe.transform(df_test).toarray()"
      ]
    },
    {
      "cell_type": "code",
      "execution_count": null,
      "metadata": {
        "id": "RsTDHqystSCx"
      },
      "outputs": [],
      "source": [
        "# Encode train / test dataset\n",
        "x_train = ohe.transform(df_train).toarray()\n",
        "x_test = ohe.transform(df_test).toarray()"
      ]
    },
    {
      "cell_type": "code",
      "execution_count": null,
      "metadata": {
        "id": "JFeJK8iIxzyl"
      },
      "outputs": [],
      "source": [
        "# Create random forest model\n",
        "from sklearn.ensemble import RandomForestRegressor\n",
        "rf_model = RandomForestRegressor(random_state=42, oob_score=True)"
      ]
    },
    {
      "cell_type": "code",
      "execution_count": null,
      "metadata": {
        "colab": {
          "base_uri": "https://localhost:8080/"
        },
        "id": "MtsmsrsgyYxO",
        "outputId": "82b6c65c-34e8-4d50-df75-12684518541f"
      },
      "outputs": [
        {
          "output_type": "execute_result",
          "data": {
            "text/plain": [
              "RandomForestRegressor(oob_score=True, random_state=42)"
            ]
          },
          "metadata": {},
          "execution_count": 14
        }
      ],
      "source": [
        "# Training model\n",
        "rf_model.fit(x_train, y_train.values.ravel())"
      ]
    },
    {
      "cell_type": "code",
      "execution_count": null,
      "metadata": {
        "id": "89o1gqKw1LAq"
      },
      "outputs": [],
      "source": [
        "rf_model.feature_importances_"
      ]
    },
    {
      "cell_type": "code",
      "execution_count": null,
      "metadata": {
        "id": "gdUkD5Vt5A4S"
      },
      "outputs": [],
      "source": [
        "# Using grid to test hyperparameters\n",
        "from sklearn.ensemble import RandomForestRegressor\n",
        "\n",
        "grid_params = {\n",
        "    'n_estimators': [50, 100, 200, 300],\n",
        "    'criterion': ['absolute_error'],\n",
        "    'max_depth': [10, 15, 20, 25, 30],\n",
        "    'max_features': ['auto'],\n",
        "    'random_state': [42]\n",
        "}\n",
        "\n",
        "from sklearn.model_selection import GridSearchCV\n",
        "gr_search_cv = GridSearchCV(estimator=RandomForestRegressor(), param_grid=grid_params).fit(x_train, y_train.values.ravel())"
      ]
    },
    {
      "cell_type": "code",
      "execution_count": null,
      "metadata": {
        "id": "ZfU-44f69Nt-"
      },
      "outputs": [],
      "source": [
        "results = pd.DataFrame(gr_search_cv.cv_results_).sort_values(by=['rank_test_score'])"
      ]
    },
    {
      "cell_type": "code",
      "execution_count": null,
      "metadata": {
        "id": "8BK1Fsl3ddPN"
      },
      "outputs": [],
      "source": [
        "filename = f\"results_grid_{str(grid_params['n_estimators'][0])}\"\n",
        "results.to_csv(f'/content/drive/MyDrive/PosPuc/TCC/datasets/df_processeds/{filename}.csv', index=False, encoding='utf-8')"
      ]
    }
  ],
  "metadata": {
    "colab": {
      "collapsed_sections": [],
      "provenance": []
    },
    "gpuClass": "standard",
    "kernelspec": {
      "display_name": "Python 3",
      "name": "python3"
    },
    "language_info": {
      "name": "python"
    }
  },
  "nbformat": 4,
  "nbformat_minor": 0
}