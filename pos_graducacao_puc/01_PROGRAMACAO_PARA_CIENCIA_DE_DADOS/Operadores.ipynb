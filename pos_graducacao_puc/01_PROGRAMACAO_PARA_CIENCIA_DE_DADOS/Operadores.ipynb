{
 "cells": [
  {
   "cell_type": "markdown",
   "metadata": {},
   "source": [
    "# Operadores aritméticos\n",
    "\n",
    "\n",
    "| Operador | Significado   | Exemplo                    |\n",
    "|:---|:---|:---|\n",
    "|     +    | Adição        | a = 3 + 2                  |\n",
    "|     -    | Subtração     | b = 7 - a                  |\n",
    "|     *    | Multiplicação | c = a * b                  |\n",
    "|     /    | Divisão       | d = 10/3                   |\n",
    "|    //    | Quociente     | e = 10//3                  |\n",
    "|     %    | Resto         | f = 10%3                   |\n",
    "|    **    | Exponenciação | g = 2 ** 3                 |\n",
    "|    **    | Radiciação    | h = 16 ** (1/2)            |"
   ]
  },
  {
   "cell_type": "code",
   "execution_count": null,
   "metadata": {},
   "outputs": [],
   "source": [
    "a = 3 + 2\n",
    "print(a)"
   ]
  },
  {
   "cell_type": "code",
   "execution_count": null,
   "metadata": {},
   "outputs": [],
   "source": [
    "b = 7 - a\n",
    "print(b)"
   ]
  },
  {
   "cell_type": "code",
   "execution_count": null,
   "metadata": {},
   "outputs": [],
   "source": [
    "c = a * b\n",
    "print(c)"
   ]
  },
  {
   "cell_type": "code",
   "execution_count": null,
   "metadata": {},
   "outputs": [],
   "source": [
    "d = 10 / 3\n",
    "print(d)"
   ]
  },
  {
   "cell_type": "code",
   "execution_count": null,
   "metadata": {},
   "outputs": [],
   "source": [
    "e = 10 // 3\n",
    "print(e)"
   ]
  },
  {
   "cell_type": "code",
   "execution_count": null,
   "metadata": {},
   "outputs": [],
   "source": [
    "f = 10 % 3\n",
    "print(f)"
   ]
  },
  {
   "cell_type": "code",
   "execution_count": null,
   "metadata": {},
   "outputs": [],
   "source": [
    "g = 2 ** 3\n",
    "print(g)"
   ]
  },
  {
   "cell_type": "code",
   "execution_count": null,
   "metadata": {},
   "outputs": [],
   "source": [
    "h = 16 ** (1/2)\n",
    "print(h)"
   ]
  },
  {
   "cell_type": "markdown",
   "metadata": {},
   "source": [
    "# Operadores de atribuição do Python\n",
    "\n",
    "\n",
    "| Operador | Exemplo | Significado |\n",
    "|:---|:---|:---|\n",
    "|     =    | a = 5 | Atribuição simples |\n",
    "| += | a += 2 | a = a + 2 |\n",
    "| -= | a -= 2 | a = a - 2 |\n",
    "| \\*= | a \\*= 2 | a = a \\* 2 |\n",
    "| /= | a /= 2 | a = a / 2 |\n",
    "| //= | a //= 2 | a = a // 2 |\n",
    "| %= | a %= 2 | a = a % 2 |\n",
    "| \\*\\*= | a \\*\\*= 2 | a = a \\*\\* 2 |\n",
    "\n",
    "\n"
   ]
  },
  {
   "cell_type": "code",
   "execution_count": null,
   "metadata": {},
   "outputs": [],
   "source": [
    "a = 5\n",
    "print(a)"
   ]
  },
  {
   "cell_type": "code",
   "execution_count": null,
   "metadata": {},
   "outputs": [],
   "source": [
    "a += 2\n",
    "print(a)"
   ]
  },
  {
   "cell_type": "code",
   "execution_count": null,
   "metadata": {},
   "outputs": [],
   "source": [
    "a -= 2\n",
    "print(a)"
   ]
  },
  {
   "cell_type": "code",
   "execution_count": null,
   "metadata": {},
   "outputs": [],
   "source": [
    "a *= 2\n",
    "print(a)"
   ]
  },
  {
   "cell_type": "code",
   "execution_count": null,
   "metadata": {},
   "outputs": [],
   "source": [
    "a /= 2\n",
    "print(a)"
   ]
  },
  {
   "cell_type": "code",
   "execution_count": null,
   "metadata": {},
   "outputs": [],
   "source": [
    "a = 7\n",
    "a //= 2\n",
    "print(a)"
   ]
  },
  {
   "cell_type": "code",
   "execution_count": null,
   "metadata": {},
   "outputs": [],
   "source": [
    "a = 7\n",
    "a %= 2\n",
    "print(a)"
   ]
  },
  {
   "cell_type": "code",
   "execution_count": null,
   "metadata": {},
   "outputs": [],
   "source": [
    "a = 3\n",
    "a **= 2\n",
    "print(a)"
   ]
  },
  {
   "cell_type": "markdown",
   "metadata": {},
   "source": [
    "# Operadores relacionais (operadores de comparação)\n",
    "\n",
    "| Operador | Significado   | Exemplo                    |\n",
    "|:---|:---|:---|\n",
    "| == | Igualdade | a == b |\n",
    "| != | DesiIgualdade | a != b |\n",
    "| > | Maior que | a > b |\n",
    "| < | Menor que | a < b |\n",
    "| >= | Maior ou igual | a >= b |\n",
    "| <= | Menor ou igual | a <= b |"
   ]
  },
  {
   "cell_type": "code",
   "execution_count": null,
   "metadata": {},
   "outputs": [],
   "source": [
    "a = 5\n",
    "b = 3\n",
    "a == b"
   ]
  },
  {
   "cell_type": "code",
   "execution_count": null,
   "metadata": {},
   "outputs": [],
   "source": [
    "a != b"
   ]
  },
  {
   "cell_type": "code",
   "execution_count": null,
   "metadata": {},
   "outputs": [],
   "source": [
    "a > b"
   ]
  },
  {
   "cell_type": "code",
   "execution_count": null,
   "metadata": {},
   "outputs": [],
   "source": [
    "a < b"
   ]
  },
  {
   "cell_type": "code",
   "execution_count": null,
   "metadata": {},
   "outputs": [],
   "source": [
    "a >= b"
   ]
  },
  {
   "cell_type": "code",
   "execution_count": null,
   "metadata": {},
   "outputs": [],
   "source": [
    "b <= a"
   ]
  },
  {
   "cell_type": "markdown",
   "metadata": {},
   "source": [
    "# Operadores lógicos (conectivos lógicos)\n",
    "\n",
    "| Operador | Significado   | Exemplo                    |\n",
    "|:---|:---|:---|\n",
    "| and | **E** lógico | a == b and b == c |\n",
    "| or | **OU** lógico | a == b or b == c |\n",
    "| ^ | **OU** exclusivo (XOR) | a == b ^ b == c |\n",
    "| not | Negação (inverte o resultado lógico) | not(a == b and b == c) |\n",
    "\n",
    "### Tabela verdade (AND)\n",
    "\n",
    "| a | b | a and b |\n",
    "|:--:|:--:|:--:|\n",
    "| True  | True  | **True** |\n",
    "| True  | False | False |\n",
    "| False | True  | False |\n",
    "| False | False | False |\n",
    "\n",
    "| a | b | c | a and b and c |\n",
    "|:--:|:--:|:--:|:--:|\n",
    "| True  | True  | True  | **True** |\n",
    "| True  | True  | False | False |\n",
    "| True  | False | True  | False |\n",
    "| True  | False | False | False |\n",
    "| False | True  | True  | False |\n",
    "| False | True  | False | False |\n",
    "| False | False | True  | False |\n",
    "| False | False | False | False |\n",
    "\n",
    "### Tabela verdade (OR)\n",
    "\n",
    "| a | b | a and b |\n",
    "|:--:|:--:|:--:|\n",
    "| True  | True  | **True** |\n",
    "| True  | False | **True** |\n",
    "| False | True  | **True** |\n",
    "| False | False | False |\n",
    "\n",
    "### Tabela verdade (XOR)\n",
    "\n",
    "| a | b | a ^ b |\n",
    "|:--:|:--:|:--:|\n",
    "| True  | True  | False |\n",
    "| True  | False | **True** |\n",
    "| False | True  | **True** |\n",
    "| False | False | False |\n",
    "\n",
    "### Tabela verdade (NOT)\n",
    "| a | not(a) |\n",
    "|:--:|:--:|\n",
    "| True  | False |\n",
    "| False | **True** |"
   ]
  },
  {
   "cell_type": "code",
   "execution_count": null,
   "metadata": {},
   "outputs": [],
   "source": [
    "# TABELA DO AND (com 2 booleanos)\n",
    "print(\" x     | y     | x and y \")\n",
    "print(\"-------------------------\")\n",
    "print(\" True  | True  |\", True and True )\n",
    "print(\" True  | False |\", True and False )\n",
    "print(\" False | True  |\", False and True)\n",
    "print(\" False | False |\", False and False)"
   ]
  },
  {
   "cell_type": "code",
   "execution_count": null,
   "metadata": {},
   "outputs": [],
   "source": [
    "# TABELA DO AND (com 3 booleanos)\n",
    "print(\" x     | y     | z     |  x and y and z \")\n",
    "print(\"----------------------------------------\")\n",
    "print(\" True  | True  | True  |\",True and True and True)\n",
    "print(\" True  | True  | False |\",True and True and False)\n",
    "print(\" True  | False | True  |\",True and False and True)\n",
    "print(\" True  | False | False |\",True and False and False)\n",
    "print(\" False | True  | True  |\",False and True and True)\n",
    "print(\" False | True  | False |\",False and True and False)\n",
    "print(\" False | False | True  |\",False and False and True)\n",
    "print(\" False | False | False |\",False and False and False)"
   ]
  },
  {
   "cell_type": "code",
   "execution_count": null,
   "metadata": {},
   "outputs": [],
   "source": [
    "# TABELA DO OR\n",
    "print(\" x     | y     | x or y \")\n",
    "print(\"-------------------------\")\n",
    "print(\" True  | True  |\",True or True )\n",
    "print(\" True  | False |\",True or False )\n",
    "print(\" False | True  |\",False or True)\n",
    "print(\" False | False |\",False or False)"
   ]
  },
  {
   "cell_type": "code",
   "execution_count": null,
   "metadata": {},
   "outputs": [],
   "source": [
    "# TABELA DO XOR (EXCLUSIVE OR)\n",
    "print(\" x     | y     | x ^ y \")\n",
    "print(\"-------------------------\")\n",
    "print(\" True  | True  |\",True ^ True )\n",
    "print(\" True  | False |\",True ^ False )\n",
    "print(\" False | True  |\",False ^ True)\n",
    "print(\" False | False |\",False ^ False)"
   ]
  },
  {
   "cell_type": "code",
   "execution_count": null,
   "metadata": {},
   "outputs": [],
   "source": [
    "# TABELA DO NOT\n",
    "print(\" x     | not(x) \")\n",
    "print(\"----------------\")\n",
    "print(\" True  |\",not(True))\n",
    "print(\" False |\",not(False))"
   ]
  },
  {
   "cell_type": "markdown",
   "metadata": {},
   "source": [
    "# Operadores de identidade\n",
    "\n",
    "| Operador | Significado   | Exemplo                    |\n",
    "|:---|:---|:---|\n",
    "| is | Verifica se duas referências apontam para o mesmo objeto | a is b |\n",
    "| is not | Verifica se duas referências apontam para diferentes objetos | a is not b |\n",
    "\n",
    "Veja um [exemplo](https://bit.ly/2YXrQAD) bem intuitivo que criei no Pythontutor."
   ]
  },
  {
   "cell_type": "code",
   "execution_count": null,
   "metadata": {},
   "outputs": [],
   "source": [
    "a = 5\n",
    "b = 5\n",
    "c = a\n",
    "print(\"a is b = \", a is b)\n",
    "print(\"a is c = \", a is c)\n",
    "print(\"b is c = \", b is c)\n",
    "print(\"a is not b = \", a is not b)\n",
    "print(\"a is not c = \", a is not c)\n",
    "print(\"b is not c = \", b is not c)"
   ]
  },
  {
   "cell_type": "code",
   "execution_count": null,
   "metadata": {},
   "outputs": [],
   "source": [
    "1015 // 60"
   ]
  },
  {
   "cell_type": "code",
   "execution_count": null,
   "metadata": {},
   "outputs": [],
   "source": [
    "1015 % 60"
   ]
  },
  {
   "cell_type": "code",
   "execution_count": null,
   "metadata": {
    "collapsed": true
   },
   "outputs": [],
   "source": []
  }
 ],
 "metadata": {
  "kernelspec": {
   "display_name": "Python 3",
   "language": "python",
   "name": "python3"
  },
  "language_info": {
   "codemirror_mode": {
    "name": "ipython",
    "version": 3
   },
   "file_extension": ".py",
   "mimetype": "text/x-python",
   "name": "python",
   "nbconvert_exporter": "python",
   "pygments_lexer": "ipython3",
   "version": "3.6.3"
  }
 },
 "nbformat": 4,
 "nbformat_minor": 2
}
