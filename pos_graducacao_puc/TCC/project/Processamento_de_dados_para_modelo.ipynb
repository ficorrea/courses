{
  "nbformat": 4,
  "nbformat_minor": 0,
  "metadata": {
    "colab": {
      "name": "Processamento de dados para modelo.ipynb",
      "provenance": []
    },
    "kernelspec": {
      "name": "python3",
      "display_name": "Python 3"
    },
    "language_info": {
      "name": "python"
    }
  },
  "cells": [
    {
      "cell_type": "code",
      "execution_count": null,
      "metadata": {
        "id": "HTg8V2v4Qv6z"
      },
      "outputs": [],
      "source": [
        "import pandas as pd\n",
        "import seaborn as sns\n",
        "import matplotlib.pyplot as plt\n",
        "import numpy as np"
      ]
    },
    {
      "cell_type": "code",
      "source": [
        "sns.set_style('dark')"
      ],
      "metadata": {
        "id": "DtHFUdtNL0uX"
      },
      "execution_count": null,
      "outputs": []
    },
    {
      "cell_type": "code",
      "source": [
        "df = pd.read_csv('/content/drive/MyDrive/PosPuc/TCC/datasets/acidentes_ocorrencia/df_final_eda.csv')"
      ],
      "metadata": {
        "id": "kyZDgfP6W2-N"
      },
      "execution_count": null,
      "outputs": []
    },
    {
      "cell_type": "code",
      "source": [
        "df.info()"
      ],
      "metadata": {
        "colab": {
          "base_uri": "https://localhost:8080/"
        },
        "id": "-fBJxPFkXI1C",
        "outputId": "81f8b9ac-7eb9-413a-fabe-dcc9b81ef7c6"
      },
      "execution_count": null,
      "outputs": [
        {
          "output_type": "stream",
          "name": "stdout",
          "text": [
            "<class 'pandas.core.frame.DataFrame'>\n",
            "RangeIndex: 325862 entries, 0 to 325861\n",
            "Data columns (total 9 columns):\n",
            " #   Column                  Non-Null Count   Dtype \n",
            "---  ------                  --------------   ----- \n",
            " 0   dia_semana              325862 non-null  object\n",
            " 1   uf                      325862 non-null  object\n",
            " 2   br                      325862 non-null  int64 \n",
            " 3   tipo_acidente_agg       325862 non-null  object\n",
            " 4   fase_dia_agg            325862 non-null  object\n",
            " 5   pessoas                 325862 non-null  int64 \n",
            " 6   km_intervalo            325862 non-null  object\n",
            " 7   mes                     325862 non-null  int64 \n",
            " 8   cond_metereologica_agg  325862 non-null  object\n",
            "dtypes: int64(3), object(6)\n",
            "memory usage: 22.4+ MB\n"
          ]
        }
      ]
    },
    {
      "cell_type": "code",
      "source": [
        "df.head()"
      ],
      "metadata": {
        "colab": {
          "base_uri": "https://localhost:8080/",
          "height": 206
        },
        "id": "HT1XWoWBXNv2",
        "outputId": "3296072e-4d0e-4d98-f4f9-691000a7715b"
      },
      "execution_count": null,
      "outputs": [
        {
          "output_type": "execute_result",
          "data": {
            "text/plain": [
              "  dia_semana  uf   br tipo_acidente_agg fase_dia_agg  pessoas km_intervalo  \\\n",
              "0    SEGUNDA  RJ  116     ATROPELAMENTO        NOITE        1  [300 - 350]   \n",
              "1    SEGUNDA  RJ  101           COLISAO        NOITE        2  [300 - 350]   \n",
              "2    SEGUNDA  SP  116        TOMBAMENTO        NOITE        1  [550 - 600]   \n",
              "3    SEGUNDA  SP  116           COLISAO        NOITE        2  [100 - 150]   \n",
              "4    SEGUNDA  RJ  116           COLISAO        NOITE        1  [150 - 200]   \n",
              "\n",
              "   mes cond_metereologica_agg  \n",
              "0    1                  CHUVA  \n",
              "1    1                  CHUVA  \n",
              "2    1                  CHUVA  \n",
              "3    1                  CHUVA  \n",
              "4    1                  CHUVA  "
            ],
            "text/html": [
              "\n",
              "  <div id=\"df-f38556ae-4254-46b9-8bcc-df995c719b70\">\n",
              "    <div class=\"colab-df-container\">\n",
              "      <div>\n",
              "<style scoped>\n",
              "    .dataframe tbody tr th:only-of-type {\n",
              "        vertical-align: middle;\n",
              "    }\n",
              "\n",
              "    .dataframe tbody tr th {\n",
              "        vertical-align: top;\n",
              "    }\n",
              "\n",
              "    .dataframe thead th {\n",
              "        text-align: right;\n",
              "    }\n",
              "</style>\n",
              "<table border=\"1\" class=\"dataframe\">\n",
              "  <thead>\n",
              "    <tr style=\"text-align: right;\">\n",
              "      <th></th>\n",
              "      <th>dia_semana</th>\n",
              "      <th>uf</th>\n",
              "      <th>br</th>\n",
              "      <th>tipo_acidente_agg</th>\n",
              "      <th>fase_dia_agg</th>\n",
              "      <th>pessoas</th>\n",
              "      <th>km_intervalo</th>\n",
              "      <th>mes</th>\n",
              "      <th>cond_metereologica_agg</th>\n",
              "    </tr>\n",
              "  </thead>\n",
              "  <tbody>\n",
              "    <tr>\n",
              "      <th>0</th>\n",
              "      <td>SEGUNDA</td>\n",
              "      <td>RJ</td>\n",
              "      <td>116</td>\n",
              "      <td>ATROPELAMENTO</td>\n",
              "      <td>NOITE</td>\n",
              "      <td>1</td>\n",
              "      <td>[300 - 350]</td>\n",
              "      <td>1</td>\n",
              "      <td>CHUVA</td>\n",
              "    </tr>\n",
              "    <tr>\n",
              "      <th>1</th>\n",
              "      <td>SEGUNDA</td>\n",
              "      <td>RJ</td>\n",
              "      <td>101</td>\n",
              "      <td>COLISAO</td>\n",
              "      <td>NOITE</td>\n",
              "      <td>2</td>\n",
              "      <td>[300 - 350]</td>\n",
              "      <td>1</td>\n",
              "      <td>CHUVA</td>\n",
              "    </tr>\n",
              "    <tr>\n",
              "      <th>2</th>\n",
              "      <td>SEGUNDA</td>\n",
              "      <td>SP</td>\n",
              "      <td>116</td>\n",
              "      <td>TOMBAMENTO</td>\n",
              "      <td>NOITE</td>\n",
              "      <td>1</td>\n",
              "      <td>[550 - 600]</td>\n",
              "      <td>1</td>\n",
              "      <td>CHUVA</td>\n",
              "    </tr>\n",
              "    <tr>\n",
              "      <th>3</th>\n",
              "      <td>SEGUNDA</td>\n",
              "      <td>SP</td>\n",
              "      <td>116</td>\n",
              "      <td>COLISAO</td>\n",
              "      <td>NOITE</td>\n",
              "      <td>2</td>\n",
              "      <td>[100 - 150]</td>\n",
              "      <td>1</td>\n",
              "      <td>CHUVA</td>\n",
              "    </tr>\n",
              "    <tr>\n",
              "      <th>4</th>\n",
              "      <td>SEGUNDA</td>\n",
              "      <td>RJ</td>\n",
              "      <td>116</td>\n",
              "      <td>COLISAO</td>\n",
              "      <td>NOITE</td>\n",
              "      <td>1</td>\n",
              "      <td>[150 - 200]</td>\n",
              "      <td>1</td>\n",
              "      <td>CHUVA</td>\n",
              "    </tr>\n",
              "  </tbody>\n",
              "</table>\n",
              "</div>\n",
              "      <button class=\"colab-df-convert\" onclick=\"convertToInteractive('df-f38556ae-4254-46b9-8bcc-df995c719b70')\"\n",
              "              title=\"Convert this dataframe to an interactive table.\"\n",
              "              style=\"display:none;\">\n",
              "        \n",
              "  <svg xmlns=\"http://www.w3.org/2000/svg\" height=\"24px\"viewBox=\"0 0 24 24\"\n",
              "       width=\"24px\">\n",
              "    <path d=\"M0 0h24v24H0V0z\" fill=\"none\"/>\n",
              "    <path d=\"M18.56 5.44l.94 2.06.94-2.06 2.06-.94-2.06-.94-.94-2.06-.94 2.06-2.06.94zm-11 1L8.5 8.5l.94-2.06 2.06-.94-2.06-.94L8.5 2.5l-.94 2.06-2.06.94zm10 10l.94 2.06.94-2.06 2.06-.94-2.06-.94-.94-2.06-.94 2.06-2.06.94z\"/><path d=\"M17.41 7.96l-1.37-1.37c-.4-.4-.92-.59-1.43-.59-.52 0-1.04.2-1.43.59L10.3 9.45l-7.72 7.72c-.78.78-.78 2.05 0 2.83L4 21.41c.39.39.9.59 1.41.59.51 0 1.02-.2 1.41-.59l7.78-7.78 2.81-2.81c.8-.78.8-2.07 0-2.86zM5.41 20L4 18.59l7.72-7.72 1.47 1.35L5.41 20z\"/>\n",
              "  </svg>\n",
              "      </button>\n",
              "      \n",
              "  <style>\n",
              "    .colab-df-container {\n",
              "      display:flex;\n",
              "      flex-wrap:wrap;\n",
              "      gap: 12px;\n",
              "    }\n",
              "\n",
              "    .colab-df-convert {\n",
              "      background-color: #E8F0FE;\n",
              "      border: none;\n",
              "      border-radius: 50%;\n",
              "      cursor: pointer;\n",
              "      display: none;\n",
              "      fill: #1967D2;\n",
              "      height: 32px;\n",
              "      padding: 0 0 0 0;\n",
              "      width: 32px;\n",
              "    }\n",
              "\n",
              "    .colab-df-convert:hover {\n",
              "      background-color: #E2EBFA;\n",
              "      box-shadow: 0px 1px 2px rgba(60, 64, 67, 0.3), 0px 1px 3px 1px rgba(60, 64, 67, 0.15);\n",
              "      fill: #174EA6;\n",
              "    }\n",
              "\n",
              "    [theme=dark] .colab-df-convert {\n",
              "      background-color: #3B4455;\n",
              "      fill: #D2E3FC;\n",
              "    }\n",
              "\n",
              "    [theme=dark] .colab-df-convert:hover {\n",
              "      background-color: #434B5C;\n",
              "      box-shadow: 0px 1px 3px 1px rgba(0, 0, 0, 0.15);\n",
              "      filter: drop-shadow(0px 1px 2px rgba(0, 0, 0, 0.3));\n",
              "      fill: #FFFFFF;\n",
              "    }\n",
              "  </style>\n",
              "\n",
              "      <script>\n",
              "        const buttonEl =\n",
              "          document.querySelector('#df-f38556ae-4254-46b9-8bcc-df995c719b70 button.colab-df-convert');\n",
              "        buttonEl.style.display =\n",
              "          google.colab.kernel.accessAllowed ? 'block' : 'none';\n",
              "\n",
              "        async function convertToInteractive(key) {\n",
              "          const element = document.querySelector('#df-f38556ae-4254-46b9-8bcc-df995c719b70');\n",
              "          const dataTable =\n",
              "            await google.colab.kernel.invokeFunction('convertToInteractive',\n",
              "                                                     [key], {});\n",
              "          if (!dataTable) return;\n",
              "\n",
              "          const docLinkHtml = 'Like what you see? Visit the ' +\n",
              "            '<a target=\"_blank\" href=https://colab.research.google.com/notebooks/data_table.ipynb>data table notebook</a>'\n",
              "            + ' to learn more about interactive tables.';\n",
              "          element.innerHTML = '';\n",
              "          dataTable['output_type'] = 'display_data';\n",
              "          await google.colab.output.renderOutput(dataTable, element);\n",
              "          const docLink = document.createElement('div');\n",
              "          docLink.innerHTML = docLinkHtml;\n",
              "          element.appendChild(docLink);\n",
              "        }\n",
              "      </script>\n",
              "    </div>\n",
              "  </div>\n",
              "  "
            ]
          },
          "metadata": {},
          "execution_count": 5
        }
      ]
    },
    {
      "cell_type": "code",
      "source": [
        "df_group = df.groupby(['dia_semana', 'uf', 'br', 'tipo_acidente_agg', 'fase_dia_agg', 'km_intervalo', 'mes', 'cond_metereologica_agg'], as_index=False).agg({'pessoas': 'sum'})"
      ],
      "metadata": {
        "id": "SilKPuw1YvQz"
      },
      "execution_count": null,
      "outputs": []
    },
    {
      "cell_type": "code",
      "source": [
        "df_group.shape"
      ],
      "metadata": {
        "colab": {
          "base_uri": "https://localhost:8080/"
        },
        "id": "7WzQ1nNtZI6u",
        "outputId": "f0dc802c-5a94-4bdb-d50f-fba6b5fe88aa"
      },
      "execution_count": null,
      "outputs": [
        {
          "output_type": "execute_result",
          "data": {
            "text/plain": [
              "(81407, 9)"
            ]
          },
          "metadata": {},
          "execution_count": 7
        }
      ]
    },
    {
      "cell_type": "code",
      "source": [
        "df_group.head(10)"
      ],
      "metadata": {
        "colab": {
          "base_uri": "https://localhost:8080/",
          "height": 363
        },
        "id": "MPZmhYPLZMT1",
        "outputId": "a2802a6c-409a-4e60-dcc6-0d0b4df56c46"
      },
      "execution_count": null,
      "outputs": [
        {
          "output_type": "execute_result",
          "data": {
            "text/plain": [
              "  dia_semana  uf   br tipo_acidente_agg fase_dia_agg km_intervalo  mes  \\\n",
              "0    DOMINGO  RJ  101     ATROPELAMENTO          DIA     [0 - 50]    4   \n",
              "1    DOMINGO  RJ  101     ATROPELAMENTO          DIA     [0 - 50]    5   \n",
              "2    DOMINGO  RJ  101     ATROPELAMENTO          DIA     [0 - 50]   12   \n",
              "3    DOMINGO  RJ  101     ATROPELAMENTO          DIA  [100 - 150]    4   \n",
              "4    DOMINGO  RJ  101     ATROPELAMENTO          DIA  [100 - 150]    4   \n",
              "5    DOMINGO  RJ  101     ATROPELAMENTO          DIA  [100 - 150]    9   \n",
              "6    DOMINGO  RJ  101     ATROPELAMENTO          DIA  [150 - 200]   11   \n",
              "7    DOMINGO  RJ  101     ATROPELAMENTO          DIA  [200 - 250]    1   \n",
              "8    DOMINGO  RJ  101     ATROPELAMENTO          DIA  [200 - 250]    2   \n",
              "9    DOMINGO  RJ  101     ATROPELAMENTO          DIA  [200 - 250]    8   \n",
              "\n",
              "  cond_metereologica_agg  pessoas  \n",
              "0              CEU CLARO        2  \n",
              "1                  CHUVA        2  \n",
              "2              CEU CLARO        2  \n",
              "3                  CHUVA        1  \n",
              "4                NUBLADO        2  \n",
              "5                NUBLADO        1  \n",
              "6                  CHUVA        2  \n",
              "7                NUBLADO        4  \n",
              "8                NUBLADO        2  \n",
              "9              CEU CLARO        2  "
            ],
            "text/html": [
              "\n",
              "  <div id=\"df-8763465b-dde8-4c49-bfe6-20f659205a0f\">\n",
              "    <div class=\"colab-df-container\">\n",
              "      <div>\n",
              "<style scoped>\n",
              "    .dataframe tbody tr th:only-of-type {\n",
              "        vertical-align: middle;\n",
              "    }\n",
              "\n",
              "    .dataframe tbody tr th {\n",
              "        vertical-align: top;\n",
              "    }\n",
              "\n",
              "    .dataframe thead th {\n",
              "        text-align: right;\n",
              "    }\n",
              "</style>\n",
              "<table border=\"1\" class=\"dataframe\">\n",
              "  <thead>\n",
              "    <tr style=\"text-align: right;\">\n",
              "      <th></th>\n",
              "      <th>dia_semana</th>\n",
              "      <th>uf</th>\n",
              "      <th>br</th>\n",
              "      <th>tipo_acidente_agg</th>\n",
              "      <th>fase_dia_agg</th>\n",
              "      <th>km_intervalo</th>\n",
              "      <th>mes</th>\n",
              "      <th>cond_metereologica_agg</th>\n",
              "      <th>pessoas</th>\n",
              "    </tr>\n",
              "  </thead>\n",
              "  <tbody>\n",
              "    <tr>\n",
              "      <th>0</th>\n",
              "      <td>DOMINGO</td>\n",
              "      <td>RJ</td>\n",
              "      <td>101</td>\n",
              "      <td>ATROPELAMENTO</td>\n",
              "      <td>DIA</td>\n",
              "      <td>[0 - 50]</td>\n",
              "      <td>4</td>\n",
              "      <td>CEU CLARO</td>\n",
              "      <td>2</td>\n",
              "    </tr>\n",
              "    <tr>\n",
              "      <th>1</th>\n",
              "      <td>DOMINGO</td>\n",
              "      <td>RJ</td>\n",
              "      <td>101</td>\n",
              "      <td>ATROPELAMENTO</td>\n",
              "      <td>DIA</td>\n",
              "      <td>[0 - 50]</td>\n",
              "      <td>5</td>\n",
              "      <td>CHUVA</td>\n",
              "      <td>2</td>\n",
              "    </tr>\n",
              "    <tr>\n",
              "      <th>2</th>\n",
              "      <td>DOMINGO</td>\n",
              "      <td>RJ</td>\n",
              "      <td>101</td>\n",
              "      <td>ATROPELAMENTO</td>\n",
              "      <td>DIA</td>\n",
              "      <td>[0 - 50]</td>\n",
              "      <td>12</td>\n",
              "      <td>CEU CLARO</td>\n",
              "      <td>2</td>\n",
              "    </tr>\n",
              "    <tr>\n",
              "      <th>3</th>\n",
              "      <td>DOMINGO</td>\n",
              "      <td>RJ</td>\n",
              "      <td>101</td>\n",
              "      <td>ATROPELAMENTO</td>\n",
              "      <td>DIA</td>\n",
              "      <td>[100 - 150]</td>\n",
              "      <td>4</td>\n",
              "      <td>CHUVA</td>\n",
              "      <td>1</td>\n",
              "    </tr>\n",
              "    <tr>\n",
              "      <th>4</th>\n",
              "      <td>DOMINGO</td>\n",
              "      <td>RJ</td>\n",
              "      <td>101</td>\n",
              "      <td>ATROPELAMENTO</td>\n",
              "      <td>DIA</td>\n",
              "      <td>[100 - 150]</td>\n",
              "      <td>4</td>\n",
              "      <td>NUBLADO</td>\n",
              "      <td>2</td>\n",
              "    </tr>\n",
              "    <tr>\n",
              "      <th>5</th>\n",
              "      <td>DOMINGO</td>\n",
              "      <td>RJ</td>\n",
              "      <td>101</td>\n",
              "      <td>ATROPELAMENTO</td>\n",
              "      <td>DIA</td>\n",
              "      <td>[100 - 150]</td>\n",
              "      <td>9</td>\n",
              "      <td>NUBLADO</td>\n",
              "      <td>1</td>\n",
              "    </tr>\n",
              "    <tr>\n",
              "      <th>6</th>\n",
              "      <td>DOMINGO</td>\n",
              "      <td>RJ</td>\n",
              "      <td>101</td>\n",
              "      <td>ATROPELAMENTO</td>\n",
              "      <td>DIA</td>\n",
              "      <td>[150 - 200]</td>\n",
              "      <td>11</td>\n",
              "      <td>CHUVA</td>\n",
              "      <td>2</td>\n",
              "    </tr>\n",
              "    <tr>\n",
              "      <th>7</th>\n",
              "      <td>DOMINGO</td>\n",
              "      <td>RJ</td>\n",
              "      <td>101</td>\n",
              "      <td>ATROPELAMENTO</td>\n",
              "      <td>DIA</td>\n",
              "      <td>[200 - 250]</td>\n",
              "      <td>1</td>\n",
              "      <td>NUBLADO</td>\n",
              "      <td>4</td>\n",
              "    </tr>\n",
              "    <tr>\n",
              "      <th>8</th>\n",
              "      <td>DOMINGO</td>\n",
              "      <td>RJ</td>\n",
              "      <td>101</td>\n",
              "      <td>ATROPELAMENTO</td>\n",
              "      <td>DIA</td>\n",
              "      <td>[200 - 250]</td>\n",
              "      <td>2</td>\n",
              "      <td>NUBLADO</td>\n",
              "      <td>2</td>\n",
              "    </tr>\n",
              "    <tr>\n",
              "      <th>9</th>\n",
              "      <td>DOMINGO</td>\n",
              "      <td>RJ</td>\n",
              "      <td>101</td>\n",
              "      <td>ATROPELAMENTO</td>\n",
              "      <td>DIA</td>\n",
              "      <td>[200 - 250]</td>\n",
              "      <td>8</td>\n",
              "      <td>CEU CLARO</td>\n",
              "      <td>2</td>\n",
              "    </tr>\n",
              "  </tbody>\n",
              "</table>\n",
              "</div>\n",
              "      <button class=\"colab-df-convert\" onclick=\"convertToInteractive('df-8763465b-dde8-4c49-bfe6-20f659205a0f')\"\n",
              "              title=\"Convert this dataframe to an interactive table.\"\n",
              "              style=\"display:none;\">\n",
              "        \n",
              "  <svg xmlns=\"http://www.w3.org/2000/svg\" height=\"24px\"viewBox=\"0 0 24 24\"\n",
              "       width=\"24px\">\n",
              "    <path d=\"M0 0h24v24H0V0z\" fill=\"none\"/>\n",
              "    <path d=\"M18.56 5.44l.94 2.06.94-2.06 2.06-.94-2.06-.94-.94-2.06-.94 2.06-2.06.94zm-11 1L8.5 8.5l.94-2.06 2.06-.94-2.06-.94L8.5 2.5l-.94 2.06-2.06.94zm10 10l.94 2.06.94-2.06 2.06-.94-2.06-.94-.94-2.06-.94 2.06-2.06.94z\"/><path d=\"M17.41 7.96l-1.37-1.37c-.4-.4-.92-.59-1.43-.59-.52 0-1.04.2-1.43.59L10.3 9.45l-7.72 7.72c-.78.78-.78 2.05 0 2.83L4 21.41c.39.39.9.59 1.41.59.51 0 1.02-.2 1.41-.59l7.78-7.78 2.81-2.81c.8-.78.8-2.07 0-2.86zM5.41 20L4 18.59l7.72-7.72 1.47 1.35L5.41 20z\"/>\n",
              "  </svg>\n",
              "      </button>\n",
              "      \n",
              "  <style>\n",
              "    .colab-df-container {\n",
              "      display:flex;\n",
              "      flex-wrap:wrap;\n",
              "      gap: 12px;\n",
              "    }\n",
              "\n",
              "    .colab-df-convert {\n",
              "      background-color: #E8F0FE;\n",
              "      border: none;\n",
              "      border-radius: 50%;\n",
              "      cursor: pointer;\n",
              "      display: none;\n",
              "      fill: #1967D2;\n",
              "      height: 32px;\n",
              "      padding: 0 0 0 0;\n",
              "      width: 32px;\n",
              "    }\n",
              "\n",
              "    .colab-df-convert:hover {\n",
              "      background-color: #E2EBFA;\n",
              "      box-shadow: 0px 1px 2px rgba(60, 64, 67, 0.3), 0px 1px 3px 1px rgba(60, 64, 67, 0.15);\n",
              "      fill: #174EA6;\n",
              "    }\n",
              "\n",
              "    [theme=dark] .colab-df-convert {\n",
              "      background-color: #3B4455;\n",
              "      fill: #D2E3FC;\n",
              "    }\n",
              "\n",
              "    [theme=dark] .colab-df-convert:hover {\n",
              "      background-color: #434B5C;\n",
              "      box-shadow: 0px 1px 3px 1px rgba(0, 0, 0, 0.15);\n",
              "      filter: drop-shadow(0px 1px 2px rgba(0, 0, 0, 0.3));\n",
              "      fill: #FFFFFF;\n",
              "    }\n",
              "  </style>\n",
              "\n",
              "      <script>\n",
              "        const buttonEl =\n",
              "          document.querySelector('#df-8763465b-dde8-4c49-bfe6-20f659205a0f button.colab-df-convert');\n",
              "        buttonEl.style.display =\n",
              "          google.colab.kernel.accessAllowed ? 'block' : 'none';\n",
              "\n",
              "        async function convertToInteractive(key) {\n",
              "          const element = document.querySelector('#df-8763465b-dde8-4c49-bfe6-20f659205a0f');\n",
              "          const dataTable =\n",
              "            await google.colab.kernel.invokeFunction('convertToInteractive',\n",
              "                                                     [key], {});\n",
              "          if (!dataTable) return;\n",
              "\n",
              "          const docLinkHtml = 'Like what you see? Visit the ' +\n",
              "            '<a target=\"_blank\" href=https://colab.research.google.com/notebooks/data_table.ipynb>data table notebook</a>'\n",
              "            + ' to learn more about interactive tables.';\n",
              "          element.innerHTML = '';\n",
              "          dataTable['output_type'] = 'display_data';\n",
              "          await google.colab.output.renderOutput(dataTable, element);\n",
              "          const docLink = document.createElement('div');\n",
              "          docLink.innerHTML = docLinkHtml;\n",
              "          element.appendChild(docLink);\n",
              "        }\n",
              "      </script>\n",
              "    </div>\n",
              "  </div>\n",
              "  "
            ]
          },
          "metadata": {},
          "execution_count": 8
        }
      ]
    },
    {
      "cell_type": "markdown",
      "source": [
        "### Check features balance"
      ],
      "metadata": {
        "id": "42EIc6FSMGLo"
      }
    },
    {
      "cell_type": "code",
      "source": [
        "def plot_count_feature_percentage(df, feature):\n",
        "    df[feature].value_counts(normalize=True).plot(kind='bar')\n",
        "    plt.show()"
      ],
      "metadata": {
        "id": "eu85fiO2QyHQ"
      },
      "execution_count": null,
      "outputs": []
    },
    {
      "cell_type": "code",
      "source": [
        "# Dia Semana\n",
        "plot_count_feature_percentage(df_group, 'dia_semana')"
      ],
      "metadata": {
        "colab": {
          "base_uri": "https://localhost:8080/",
          "height": 307
        },
        "id": "_34JK4x4Mq9B",
        "outputId": "43bf87c9-18d8-4172-cec4-76494265e638"
      },
      "execution_count": null,
      "outputs": [
        {
          "output_type": "display_data",
          "data": {
            "text/plain": [
              "<Figure size 432x288 with 1 Axes>"
            ],
            "image/png": "[encoded data removed]"
          },
          "metadata": {}
        }
      ]
    },
    {
      "cell_type": "code",
      "source": [
        "# Tipo acidente\n",
        "plot_count_feature_percentage(df_group, 'tipo_acidente_agg')"
      ],
      "metadata": {
        "colab": {
          "base_uri": "https://localhost:8080/",
          "height": 344
        },
        "id": "Q7d6sYo6QUv7",
        "outputId": "481ef190-d74f-4237-b5b6-a00340656f2e"
      },
      "execution_count": null,
      "outputs": [
        {
          "output_type": "display_data",
          "data": {
            "text/plain": [
              "<Figure size 432x288 with 1 Axes>"
            ],
            "image/png": "[encoded data removed]"
          },
          "metadata": {}
        }
      ]
    },
    {
      "cell_type": "code",
      "source": [
        "# Fase dia\n",
        "plot_count_feature_percentage(df_group, 'fase_dia_agg')"
      ],
      "metadata": {
        "colab": {
          "base_uri": "https://localhost:8080/",
          "height": 286
        },
        "id": "0m9d3YnWQtya",
        "outputId": "3e2a73f6-4a10-4c98-cf29-330d5797d65d"
      },
      "execution_count": null,
      "outputs": [
        {
          "output_type": "display_data",
          "data": {
            "text/plain": [
              "<Figure size 432x288 with 1 Axes>"
            ],
            "image/png": "[encoded data removed]"
          },
          "metadata": {}
        }
      ]
    },
    {
      "cell_type": "code",
      "source": [
        "# Km_intervalo\n",
        "plot_count_feature_percentage(df_group, 'km_intervalo')"
      ],
      "metadata": {
        "colab": {
          "base_uri": "https://localhost:8080/",
          "height": 311
        },
        "id": "-nzLGmPBRXyS",
        "outputId": "86432304-4874-4891-aab9-baa836ff0b42"
      },
      "execution_count": null,
      "outputs": [
        {
          "output_type": "display_data",
          "data": {
            "text/plain": [
              "<Figure size 432x288 with 1 Axes>"
            ],
            "image/png": "[encoded data removed]"
          },
          "metadata": {}
        }
      ]
    },
    {
      "cell_type": "code",
      "source": [
        "# Mes\n",
        "plot_count_feature_percentage(df_group, 'mes')"
      ],
      "metadata": {
        "colab": {
          "base_uri": "https://localhost:8080/",
          "height": 268
        },
        "id": "GK_dNWaURs0i",
        "outputId": "5bcbd4ec-03d3-4dd5-9267-9ecb8570600d"
      },
      "execution_count": null,
      "outputs": [
        {
          "output_type": "display_data",
          "data": {
            "text/plain": [
              "<Figure size 432x288 with 1 Axes>"
            ],
            "image/png": "[encoded data removed]"
          },
          "metadata": {}
        }
      ]
    },
    {
      "cell_type": "code",
      "source": [
        "# Condicao Metereologica\n",
        "plot_count_feature_percentage(df_group, 'cond_metereologica_agg')"
      ],
      "metadata": {
        "colab": {
          "base_uri": "https://localhost:8080/",
          "height": 313
        },
        "id": "tq8mN9pcR1a5",
        "outputId": "39df6e88-4b07-4c1c-80d3-ebcdaaee0ab4"
      },
      "execution_count": null,
      "outputs": [
        {
          "output_type": "display_data",
          "data": {
            "text/plain": [
              "<Figure size 432x288 with 1 Axes>"
            ],
            "image/png": "[encoded data removed]"
          },
          "metadata": {}
        }
      ]
    },
    {
      "cell_type": "markdown",
      "source": [
        "### Conclusions\n",
        "- The tipo_acidente INCENDIO, DANOS, DERRAMAMENTO, ENGAVETAMENTO and EVENTOS will be grouped to category OUTROS, because they appear in few cases;\n",
        "- Map of feature mes in names;"
      ],
      "metadata": {
        "id": "IoECT2eUSJ8w"
      }
    },
    {
      "cell_type": "code",
      "source": [
        "# Treatment tipo_acidente\n",
        "tipo_acidente_few = ['INCENDIO', 'DANOS', 'DERRAMAMENTO', 'ENGAVETAMENTO', 'EVENTOS']"
      ],
      "metadata": {
        "id": "yVbCOgNhfJa2"
      },
      "execution_count": null,
      "outputs": []
    },
    {
      "cell_type": "code",
      "source": [
        "df_group['tipo_acidente_agg'] = df_group.apply(lambda x: 'OUTROS' if x.tipo_acidente_agg in tipo_acidente_few else x.tipo_acidente_agg, axis=1)"
      ],
      "metadata": {
        "id": "47S8ll8rUIjr"
      },
      "execution_count": null,
      "outputs": []
    },
    {
      "cell_type": "code",
      "source": [
        "plot_count_feature_percentage(df_group, 'tipo_acidente_agg')"
      ],
      "metadata": {
        "colab": {
          "base_uri": "https://localhost:8080/",
          "height": 343
        },
        "id": "rejMKPvzYNi-",
        "outputId": "b606d51c-845a-4292-edb2-bb985fbfd405"
      },
      "execution_count": null,
      "outputs": [
        {
          "output_type": "display_data",
          "data": {
            "text/plain": [
              "<Figure size 432x288 with 1 Axes>"
            ],
            "image/png": "[encoded data removed]"
          },
          "metadata": {}
        }
      ]
    },
    {
      "cell_type": "code",
      "source": [
        "# Treatment mes\n",
        "map_weekday = {1: 'JAN', 2: 'FEV', 3: 'MAR', 4: 'ABR', 5: 'MAI', 6: 'JUN', 7: 'JUL', 8: 'AGO', 9: 'SET', 10: 'OUT', 11: 'NOV', 12: 'DEZ'}\n",
        "df_group['mes'] = df_group.apply(lambda x: map_weekday[x.mes], axis=1)"
      ],
      "metadata": {
        "id": "QfVt97BGHzT8"
      },
      "execution_count": null,
      "outputs": []
    },
    {
      "cell_type": "code",
      "source": [
        "# Rename columns\n",
        "df_group.rename(columns={'tipo_acidente_agg': 'tipo_acidente', 'fase_dia_agg': 'fase_dia', 'cond_metereologica_agg': 'cond_metereologica'}, inplace=True)"
      ],
      "metadata": {
        "id": "698YNmIefsn5"
      },
      "execution_count": null,
      "outputs": []
    },
    {
      "cell_type": "code",
      "source": [
        "df_group.head(10)"
      ],
      "metadata": {
        "colab": {
          "base_uri": "https://localhost:8080/",
          "height": 363
        },
        "id": "bbrFS8bWHdy_",
        "outputId": "8c79cf3e-7496-47ae-964e-67e08eedf8b5"
      },
      "execution_count": null,
      "outputs": [
        {
          "output_type": "execute_result",
          "data": {
            "text/plain": [
              "  dia_semana  uf   br  tipo_acidente fase_dia km_intervalo  mes  \\\n",
              "0    DOMINGO  RJ  101  ATROPELAMENTO      DIA     [0 - 50]  ABR   \n",
              "1    DOMINGO  RJ  101  ATROPELAMENTO      DIA     [0 - 50]  MAI   \n",
              "2    DOMINGO  RJ  101  ATROPELAMENTO      DIA     [0 - 50]  DEZ   \n",
              "3    DOMINGO  RJ  101  ATROPELAMENTO      DIA  [100 - 150]  ABR   \n",
              "4    DOMINGO  RJ  101  ATROPELAMENTO      DIA  [100 - 150]  ABR   \n",
              "5    DOMINGO  RJ  101  ATROPELAMENTO      DIA  [100 - 150]  SET   \n",
              "6    DOMINGO  RJ  101  ATROPELAMENTO      DIA  [150 - 200]  NOV   \n",
              "7    DOMINGO  RJ  101  ATROPELAMENTO      DIA  [200 - 250]  JAN   \n",
              "8    DOMINGO  RJ  101  ATROPELAMENTO      DIA  [200 - 250]  FEV   \n",
              "9    DOMINGO  RJ  101  ATROPELAMENTO      DIA  [200 - 250]  AGO   \n",
              "\n",
              "  cond_metereologica  pessoas  \n",
              "0          CEU CLARO        2  \n",
              "1              CHUVA        2  \n",
              "2          CEU CLARO        2  \n",
              "3              CHUVA        1  \n",
              "4            NUBLADO        2  \n",
              "5            NUBLADO        1  \n",
              "6              CHUVA        2  \n",
              "7            NUBLADO        4  \n",
              "8            NUBLADO        2  \n",
              "9          CEU CLARO        2  "
            ],
            "text/html": [
              "\n",
              "  <div id=\"df-61e0455b-08c6-4d8a-922e-4b38d3846c9c\">\n",
              "    <div class=\"colab-df-container\">\n",
              "      <div>\n",
              "<style scoped>\n",
              "    .dataframe tbody tr th:only-of-type {\n",
              "        vertical-align: middle;\n",
              "    }\n",
              "\n",
              "    .dataframe tbody tr th {\n",
              "        vertical-align: top;\n",
              "    }\n",
              "\n",
              "    .dataframe thead th {\n",
              "        text-align: right;\n",
              "    }\n",
              "</style>\n",
              "<table border=\"1\" class=\"dataframe\">\n",
              "  <thead>\n",
              "    <tr style=\"text-align: right;\">\n",
              "      <th></th>\n",
              "      <th>dia_semana</th>\n",
              "      <th>uf</th>\n",
              "      <th>br</th>\n",
              "      <th>tipo_acidente</th>\n",
              "      <th>fase_dia</th>\n",
              "      <th>km_intervalo</th>\n",
              "      <th>mes</th>\n",
              "      <th>cond_metereologica</th>\n",
              "      <th>pessoas</th>\n",
              "    </tr>\n",
              "  </thead>\n",
              "  <tbody>\n",
              "    <tr>\n",
              "      <th>0</th>\n",
              "      <td>DOMINGO</td>\n",
              "      <td>RJ</td>\n",
              "      <td>101</td>\n",
              "      <td>ATROPELAMENTO</td>\n",
              "      <td>DIA</td>\n",
              "      <td>[0 - 50]</td>\n",
              "      <td>ABR</td>\n",
              "      <td>CEU CLARO</td>\n",
              "      <td>2</td>\n",
              "    </tr>\n",
              "    <tr>\n",
              "      <th>1</th>\n",
              "      <td>DOMINGO</td>\n",
              "      <td>RJ</td>\n",
              "      <td>101</td>\n",
              "      <td>ATROPELAMENTO</td>\n",
              "      <td>DIA</td>\n",
              "      <td>[0 - 50]</td>\n",
              "      <td>MAI</td>\n",
              "      <td>CHUVA</td>\n",
              "      <td>2</td>\n",
              "    </tr>\n",
              "    <tr>\n",
              "      <th>2</th>\n",
              "      <td>DOMINGO</td>\n",
              "      <td>RJ</td>\n",
              "      <td>101</td>\n",
              "      <td>ATROPELAMENTO</td>\n",
              "      <td>DIA</td>\n",
              "      <td>[0 - 50]</td>\n",
              "      <td>DEZ</td>\n",
              "      <td>CEU CLARO</td>\n",
              "      <td>2</td>\n",
              "    </tr>\n",
              "    <tr>\n",
              "      <th>3</th>\n",
              "      <td>DOMINGO</td>\n",
              "      <td>RJ</td>\n",
              "      <td>101</td>\n",
              "      <td>ATROPELAMENTO</td>\n",
              "      <td>DIA</td>\n",
              "      <td>[100 - 150]</td>\n",
              "      <td>ABR</td>\n",
              "      <td>CHUVA</td>\n",
              "      <td>1</td>\n",
              "    </tr>\n",
              "    <tr>\n",
              "      <th>4</th>\n",
              "      <td>DOMINGO</td>\n",
              "      <td>RJ</td>\n",
              "      <td>101</td>\n",
              "      <td>ATROPELAMENTO</td>\n",
              "      <td>DIA</td>\n",
              "      <td>[100 - 150]</td>\n",
              "      <td>ABR</td>\n",
              "      <td>NUBLADO</td>\n",
              "      <td>2</td>\n",
              "    </tr>\n",
              "    <tr>\n",
              "      <th>5</th>\n",
              "      <td>DOMINGO</td>\n",
              "      <td>RJ</td>\n",
              "      <td>101</td>\n",
              "      <td>ATROPELAMENTO</td>\n",
              "      <td>DIA</td>\n",
              "      <td>[100 - 150]</td>\n",
              "      <td>SET</td>\n",
              "      <td>NUBLADO</td>\n",
              "      <td>1</td>\n",
              "    </tr>\n",
              "    <tr>\n",
              "      <th>6</th>\n",
              "      <td>DOMINGO</td>\n",
              "      <td>RJ</td>\n",
              "      <td>101</td>\n",
              "      <td>ATROPELAMENTO</td>\n",
              "      <td>DIA</td>\n",
              "      <td>[150 - 200]</td>\n",
              "      <td>NOV</td>\n",
              "      <td>CHUVA</td>\n",
              "      <td>2</td>\n",
              "    </tr>\n",
              "    <tr>\n",
              "      <th>7</th>\n",
              "      <td>DOMINGO</td>\n",
              "      <td>RJ</td>\n",
              "      <td>101</td>\n",
              "      <td>ATROPELAMENTO</td>\n",
              "      <td>DIA</td>\n",
              "      <td>[200 - 250]</td>\n",
              "      <td>JAN</td>\n",
              "      <td>NUBLADO</td>\n",
              "      <td>4</td>\n",
              "    </tr>\n",
              "    <tr>\n",
              "      <th>8</th>\n",
              "      <td>DOMINGO</td>\n",
              "      <td>RJ</td>\n",
              "      <td>101</td>\n",
              "      <td>ATROPELAMENTO</td>\n",
              "      <td>DIA</td>\n",
              "      <td>[200 - 250]</td>\n",
              "      <td>FEV</td>\n",
              "      <td>NUBLADO</td>\n",
              "      <td>2</td>\n",
              "    </tr>\n",
              "    <tr>\n",
              "      <th>9</th>\n",
              "      <td>DOMINGO</td>\n",
              "      <td>RJ</td>\n",
              "      <td>101</td>\n",
              "      <td>ATROPELAMENTO</td>\n",
              "      <td>DIA</td>\n",
              "      <td>[200 - 250]</td>\n",
              "      <td>AGO</td>\n",
              "      <td>CEU CLARO</td>\n",
              "      <td>2</td>\n",
              "    </tr>\n",
              "  </tbody>\n",
              "</table>\n",
              "</div>\n",
              "      <button class=\"colab-df-convert\" onclick=\"convertToInteractive('df-61e0455b-08c6-4d8a-922e-4b38d3846c9c')\"\n",
              "              title=\"Convert this dataframe to an interactive table.\"\n",
              "              style=\"display:none;\">\n",
              "        \n",
              "  <svg xmlns=\"http://www.w3.org/2000/svg\" height=\"24px\"viewBox=\"0 0 24 24\"\n",
              "       width=\"24px\">\n",
              "    <path d=\"M0 0h24v24H0V0z\" fill=\"none\"/>\n",
              "    <path d=\"M18.56 5.44l.94 2.06.94-2.06 2.06-.94-2.06-.94-.94-2.06-.94 2.06-2.06.94zm-11 1L8.5 8.5l.94-2.06 2.06-.94-2.06-.94L8.5 2.5l-.94 2.06-2.06.94zm10 10l.94 2.06.94-2.06 2.06-.94-2.06-.94-.94-2.06-.94 2.06-2.06.94z\"/><path d=\"M17.41 7.96l-1.37-1.37c-.4-.4-.92-.59-1.43-.59-.52 0-1.04.2-1.43.59L10.3 9.45l-7.72 7.72c-.78.78-.78 2.05 0 2.83L4 21.41c.39.39.9.59 1.41.59.51 0 1.02-.2 1.41-.59l7.78-7.78 2.81-2.81c.8-.78.8-2.07 0-2.86zM5.41 20L4 18.59l7.72-7.72 1.47 1.35L5.41 20z\"/>\n",
              "  </svg>\n",
              "      </button>\n",
              "      \n",
              "  <style>\n",
              "    .colab-df-container {\n",
              "      display:flex;\n",
              "      flex-wrap:wrap;\n",
              "      gap: 12px;\n",
              "    }\n",
              "\n",
              "    .colab-df-convert {\n",
              "      background-color: #E8F0FE;\n",
              "      border: none;\n",
              "      border-radius: 50%;\n",
              "      cursor: pointer;\n",
              "      display: none;\n",
              "      fill: #1967D2;\n",
              "      height: 32px;\n",
              "      padding: 0 0 0 0;\n",
              "      width: 32px;\n",
              "    }\n",
              "\n",
              "    .colab-df-convert:hover {\n",
              "      background-color: #E2EBFA;\n",
              "      box-shadow: 0px 1px 2px rgba(60, 64, 67, 0.3), 0px 1px 3px 1px rgba(60, 64, 67, 0.15);\n",
              "      fill: #174EA6;\n",
              "    }\n",
              "\n",
              "    [theme=dark] .colab-df-convert {\n",
              "      background-color: #3B4455;\n",
              "      fill: #D2E3FC;\n",
              "    }\n",
              "\n",
              "    [theme=dark] .colab-df-convert:hover {\n",
              "      background-color: #434B5C;\n",
              "      box-shadow: 0px 1px 3px 1px rgba(0, 0, 0, 0.15);\n",
              "      filter: drop-shadow(0px 1px 2px rgba(0, 0, 0, 0.3));\n",
              "      fill: #FFFFFF;\n",
              "    }\n",
              "  </style>\n",
              "\n",
              "      <script>\n",
              "        const buttonEl =\n",
              "          document.querySelector('#df-61e0455b-08c6-4d8a-922e-4b38d3846c9c button.colab-df-convert');\n",
              "        buttonEl.style.display =\n",
              "          google.colab.kernel.accessAllowed ? 'block' : 'none';\n",
              "\n",
              "        async function convertToInteractive(key) {\n",
              "          const element = document.querySelector('#df-61e0455b-08c6-4d8a-922e-4b38d3846c9c');\n",
              "          const dataTable =\n",
              "            await google.colab.kernel.invokeFunction('convertToInteractive',\n",
              "                                                     [key], {});\n",
              "          if (!dataTable) return;\n",
              "\n",
              "          const docLinkHtml = 'Like what you see? Visit the ' +\n",
              "            '<a target=\"_blank\" href=https://colab.research.google.com/notebooks/data_table.ipynb>data table notebook</a>'\n",
              "            + ' to learn more about interactive tables.';\n",
              "          element.innerHTML = '';\n",
              "          dataTable['output_type'] = 'display_data';\n",
              "          await google.colab.output.renderOutput(dataTable, element);\n",
              "          const docLink = document.createElement('div');\n",
              "          docLink.innerHTML = docLinkHtml;\n",
              "          element.appendChild(docLink);\n",
              "        }\n",
              "      </script>\n",
              "    </div>\n",
              "  </div>\n",
              "  "
            ]
          },
          "metadata": {},
          "execution_count": 21
        }
      ]
    },
    {
      "cell_type": "code",
      "source": [
        "# Split base in train, test, validation\n",
        "df_group.reset_index(drop=True, inplace=True)\n",
        "\n",
        "from sklearn.model_selection import train_test_split\n",
        "x_train, x_temp, y_train, y_temp = train_test_split(df_group.iloc[:, 0:-1], df_group.iloc[:, -1], test_size=0.25)\n",
        "x_test, x_valid, y_test, y_valid = train_test_split(x_temp, y_temp, test_size=0.4)"
      ],
      "metadata": {
        "id": "Py_ph6A5S9mY"
      },
      "execution_count": null,
      "outputs": []
    },
    {
      "cell_type": "code",
      "source": [
        "# Save dataframes\n",
        "def save_dataframe(df, filename):\n",
        "    df.to_csv(f'/content/drive/MyDrive/PosPuc/TCC/datasets/acidentes_ocorrencia/{filename}.csv', index=False, encoding='utf-8')\n",
        "\n",
        "dfs = [x_train, y_train, x_test, y_test, x_valid, y_valid]\n",
        "dfs_name = ['x_train', 'y_train', 'x_test', 'y_test', 'x_valid', 'y_valid']\n",
        "\n",
        "for i, x in zip(dfs, dfs_name):\n",
        "    save_dataframe(i, x)"
      ],
      "metadata": {
        "id": "umrHDD7hgMpo"
      },
      "execution_count": null,
      "outputs": []
    }
  ]
}