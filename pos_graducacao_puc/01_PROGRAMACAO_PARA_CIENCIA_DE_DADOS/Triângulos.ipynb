{
 "cells": [
  {
   "cell_type": "markdown",
   "metadata": {},
   "source": [
    "# Triângulos\n",
    "\n",
    "O programa abaixo solicita que o usuário digite 3 lados de um suposto triângulo. Depois de receber os valores dos 3 lados, ele verifica se os 3 lados formam ou não formam um triângulo."
   ]
  },
  {
   "cell_type": "code",
   "execution_count": null,
   "metadata": {
    "collapsed": true
   },
   "outputs": [],
   "source": [
    "lado1 = float(input(\"Digite o 1o lado do triângulo: \"))\n",
    "lado2 = float(input(\"Digite o 2o lado do triângulo: \"))\n",
    "lado3 = float(input(\"Digite o 3o lado do triângulo: \"))\n",
    "\n",
    "if (lado1 + lado2 > lado3) and (lado2 + lado3 > lado1) and (lado3 + lado1 > lado2):\n",
    "    print(\"Os lados {}, {} e {} formam um triângulo\".format(lado1, lado2, lado3))\n",
    "else:\n",
    "    print(\"Os lados {}, {} e {} NÃO formam um triângulo\".format(lado1, lado2, lado3))"
   ]
  },
  {
   "cell_type": "markdown",
   "metadata": {},
   "source": [
    "O programa abaixo solicita que o usuário digite 3 lados de um suposto triângulo. Depois de receber os valores dos 3 lados, ele verifica se os 3 lados formam ou não formam um triângulo. Se os 3 lados formarem um triângulo, ele imprime que tipo de triângulo será informado."
   ]
  },
  {
   "cell_type": "code",
   "execution_count": null,
   "metadata": {
    "collapsed": true
   },
   "outputs": [],
   "source": [
    "lado1 = float(input(\"Digite o 1o lado do triângulo: \"))\n",
    "lado2 = float(input(\"Digite o 2o lado do triângulo: \"))\n",
    "lado3 = float(input(\"Digite o 3o lado do triângulo: \"))\n",
    "\n",
    "if (lado1 + lado2 > lado3) and (lado2 + lado3 > lado1) and (lado3 + lado1 > lado2):\n",
    "    if (lado1 == lado2) and (lado2 == lado3): # também poderia usar if a==b==c:\n",
    "        print(\"Os lados {}, {} e {} formam um triângulo equilátero.\".format(lado1, lado2, lado3))\n",
    "    else:\n",
    "        if (lado1 == lado2) or (lado2 == lado3) or (lado3 == lado1):\n",
    "            print(\"Os lados {}, {} e {} formam um triângulo isóceles.\".format(lado1, lado2, lado3))\n",
    "        else:\n",
    "            print(\"Os lados {}, {} e {} formam um triângulo escaleno.\".format(lado1, lado2, lado3))\n",
    "else:\n",
    "    print(\"Os lados {}, {} e {} NÃO formam um triângulo\".format(lado1, lado2, lado3))"
   ]
  },
  {
   "cell_type": "code",
   "execution_count": null,
   "metadata": {
    "collapsed": true
   },
   "outputs": [],
   "source": [
    "lado1 = float(input(\"Digite o 1o lado do triângulo: \"))\n",
    "lado2 = float(input(\"Digite o 2o lado do triângulo: \"))\n",
    "lado3 = float(input(\"Digite o 3o lado do triângulo: \"))\n",
    "\n",
    "if (lado1 + lado2 > lado3) and (lado2 + lado3 > lado1) and (lado3 + lado1 > lado2):\n",
    "    if (lado1 == lado2) and (lado2 == lado3): # também poderia usar if a==b==c:\n",
    "        print(\"Os lados {}, {} e {} formam um triângulo equilátero.\".format(lado1, lado2, lado3))\n",
    "    elif (lado1 == lado2) or (lado2 == lado3) or (lado3 == lado1):\n",
    "        print(\"Os lados {}, {} e {} formam um triângulo isóceles.\".format(lado1, lado2, lado3))\n",
    "    else:\n",
    "        print(\"Os lados {}, {} e {} formam um triângulo escaleno.\".format(lado1, lado2, lado3))\n",
    "else:\n",
    "    print(\"Os lados {}, {} e {} NÃO formam um triângulo\".format(lado1, lado2, lado3))"
   ]
  }
 ],
 "metadata": {
  "kernelspec": {
   "display_name": "Python 3",
   "language": "python",
   "name": "python3"
  },
  "language_info": {
   "codemirror_mode": {
    "name": "ipython",
    "version": 3
   },
   "file_extension": ".py",
   "mimetype": "text/x-python",
   "name": "python",
   "nbconvert_exporter": "python",
   "pygments_lexer": "ipython3",
   "version": "3.6.3"
  }
 },
 "nbformat": 4,
 "nbformat_minor": 2
}
