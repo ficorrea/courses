{
  "nbformat": 4,
  "nbformat_minor": 0,
  "metadata": {
    "colab": {
      "name": "unidade02_cbir.ipynb",
      "provenance": [],
      "collapsed_sections": []
    },
    "kernelspec": {
      "name": "python3",
      "display_name": "Python 3"
    }
  },
  "cells": [
    {
      "cell_type": "markdown",
      "metadata": {
        "id": "CUGdar6bUCk1"
      },
      "source": [
        "**Recuperação de Informação com base no Conteúdo Visual**\n",
        "\n",
        "**Descrição de imagens**\n",
        "\n",
        "Descritor representa a propriedade de uma imagem. O descritor deve ser invariante a rotação, escala, etc.\n",
        "\n",
        "Exemplo de uma forma (muito simples) de se obter uma representação númerica sobre a imagem por meio de histograma de cor."
      ]
    },
    {
      "cell_type": "code",
      "metadata": {
        "id": "LqhLtJakT6dB"
      },
      "source": [
        "import numpy as np\n",
        "import cv2\n",
        "from google.colab.patches import cv2_imshow"
      ],
      "execution_count": null,
      "outputs": []
    },
    {
      "cell_type": "code",
      "metadata": {
        "id": "Tr7CW1CrU847"
      },
      "source": [
        "%%time\n",
        "img_lena = cv2.imread('lena.png',0)\n",
        "\n",
        "cv2_imshow(img_lena)\n",
        "# cv2.imshow(img)\n",
        "# cv2.waitKey(0)\n",
        "# cv2.destroyAllWindows()\n",
        "\n",
        "hist, bins = np.histogram(img_lena.ravel(),256,[0,256])\n",
        "\n",
        "print(bins)\n",
        "print(hist)"
      ],
      "execution_count": null,
      "outputs": []
    },
    {
      "cell_type": "markdown",
      "metadata": {
        "id": "kb3dAKQ8Vrh9"
      },
      "source": [
        "**Plotting Histograms**"
      ]
    },
    {
      "cell_type": "code",
      "metadata": {
        "id": "Dj679xBaVsQm"
      },
      "source": [
        "from matplotlib import pyplot as plt"
      ],
      "execution_count": null,
      "outputs": []
    },
    {
      "cell_type": "code",
      "metadata": {
        "id": "YyJm5xqeVwIJ"
      },
      "source": [
        "plt.hist(img_lena.ravel(),256,[0,256]); plt.show()"
      ],
      "execution_count": null,
      "outputs": []
    },
    {
      "cell_type": "markdown",
      "metadata": {
        "id": "Bw4AozUXV5RZ"
      },
      "source": [
        "Histograma de cor da imagem nos três canais RGB"
      ]
    },
    {
      "cell_type": "code",
      "metadata": {
        "id": "9e8T28FKV-6a"
      },
      "source": [
        "img_lena_bgr = cv2.imread('lena.png')\n",
        "\n",
        "cv2_imshow(img_lena_bgr)\n",
        "\n",
        "color = ('b','g','r')\n",
        "for i,col in enumerate(color):\n",
        "    histr = cv2.calcHist([img_lena_bgr],[i],None,[256],[0,256])\n",
        "    plt.plot(histr,color = col)\n",
        "    plt.xlim([0,256])\n",
        "\n",
        "plt.show()"
      ],
      "execution_count": null,
      "outputs": []
    },
    {
      "cell_type": "markdown",
      "metadata": {
        "id": "ZvhTD7k6WHfx"
      },
      "source": [
        "**Feature Detection and Description**\n",
        "\n",
        "**Features Locais**\n",
        "\n",
        "Features locais: Padrão que se difere da vizinhança local. \n",
        "Pontos de interesse: cantos (corners), regiões, etc.."
      ]
    },
    {
      "cell_type": "markdown",
      "metadata": {
        "id": "nysq1xihWIRd"
      },
      "source": [
        "**BRIEF (Binary Robust Independent Elementary Features)**"
      ]
    },
    {
      "cell_type": "code",
      "metadata": {
        "id": "3MbHvDjaWWFc"
      },
      "source": [
        "# para imprimir a matriz completa, descomentar as duas linhas abaixo\n",
        "# import sys\n",
        "# np.set_printoptions(threshold=sys.maxsize)"
      ],
      "execution_count": null,
      "outputs": []
    },
    {
      "cell_type": "code",
      "metadata": {
        "id": "rikROhoRXTuL"
      },
      "source": [
        "# BRIEF não possui detector de pontos de interesse\n",
        "# Initiate STAR detector\n",
        "star = cv2.xfeatures2d.StarDetector_create()\n",
        "\n",
        "# Initiate BRIEF extractor\n",
        "brief = cv2.xfeatures2d.BriefDescriptorExtractor_create()"
      ],
      "execution_count": null,
      "outputs": []
    },
    {
      "cell_type": "code",
      "metadata": {
        "id": "pz6yrphwWJ-X"
      },
      "source": [
        "img_baggage = cv2.imread('baggage_claim.jpg', 0)"
      ],
      "execution_count": null,
      "outputs": []
    },
    {
      "cell_type": "code",
      "metadata": {
        "id": "-Sv42sA7Z8cw"
      },
      "source": [
        "# find the keypoints with STAR\n",
        "kp = star.detect(img_baggage,None)\n",
        "\n",
        "# compute the descriptors with BRIEF\n",
        "kp, feat = brief.compute(img_baggage, kp)\n",
        "\n",
        "print(len(kp))\n",
        "print(feat.shape)\n",
        "print(feat)"
      ],
      "execution_count": null,
      "outputs": []
    },
    {
      "cell_type": "markdown",
      "metadata": {
        "id": "NM_PCvVEXNc7"
      },
      "source": [
        "**ORB (Oriented FAST and Rotated BRIEF)**"
      ]
    },
    {
      "cell_type": "code",
      "metadata": {
        "id": "WwhBfJzfXOEZ"
      },
      "source": [
        "# Initiate ORB detector\n",
        "orb = cv2.ORB_create()\n",
        "\n",
        "# find the keypoints and descriptors with SIFT\n",
        "kp1, des1 = orb.detectAndCompute(img_baggage,None)\n",
        "\n",
        "print(np.shape(des1))\n",
        "print(des1)"
      ],
      "execution_count": null,
      "outputs": []
    },
    {
      "cell_type": "markdown",
      "metadata": {
        "id": "vINFhWkPZa4e"
      },
      "source": [
        "Matching de features locais entre duas imagens"
      ]
    },
    {
      "cell_type": "code",
      "metadata": {
        "id": "d8Sd2Vx0ZfFq"
      },
      "source": [
        "import imutils"
      ],
      "execution_count": null,
      "outputs": []
    },
    {
      "cell_type": "code",
      "metadata": {
        "id": "M-Fa9bG2bdIx"
      },
      "source": [
        "# create BFMatcher object\n",
        "bf = cv2.BFMatcher(cv2.NORM_HAMMING, crossCheck=True)"
      ],
      "execution_count": null,
      "outputs": []
    },
    {
      "cell_type": "code",
      "metadata": {
        "id": "63DodmSeZhJi"
      },
      "source": [
        "img1 = cv2.imread('baggage_claim.jpg',0)             \n",
        "img2 = cv2.imread('baggage_claim.jpg',0)  \n",
        "\n",
        "# rotate image 180° \n",
        "rotated = imutils.rotate(img2, 180)\n",
        "img2 = rotated"
      ],
      "execution_count": null,
      "outputs": []
    },
    {
      "cell_type": "code",
      "metadata": {
        "id": "zgiSzYeoaKeK"
      },
      "source": [
        "# find the keypoints and descriptors with SIFT\n",
        "kp1, desc1 = orb.detectAndCompute(img1,None)\n",
        "kp2, desc2 = orb.detectAndCompute(img2,None)\n",
        "\n",
        "# Match descriptors.\n",
        "matches = bf.match(desc1,desc2)\n",
        "\n",
        "# Sort them in the order of their distance.\n",
        "matches = sorted(matches, key = lambda x:x.distance)\n",
        "\n",
        "# Draw first 10 matches.\n",
        "img3 = cv2.drawMatches(img1,kp1,img2,kp2,matches[:10],None,flags=2)\n",
        "\n",
        "plt.imshow(img3),plt.show()"
      ],
      "execution_count": null,
      "outputs": []
    },
    {
      "cell_type": "code",
      "metadata": {
        "id": "u0hFX4cUaiJl"
      },
      "source": [
        "# rotate image 180° \n",
        "rotated = imutils.rotate(img_lena, 180)\n",
        "img_lena_rotated = rotated\n",
        "\n",
        "# find the keypoints and descriptors with SIFT\n",
        "kp1, desc1 = orb.detectAndCompute(img_lena,None)\n",
        "kp2, desc2 = orb.detectAndCompute(img_lena_rotated,None)\n",
        "\n",
        "# Match descriptors.\n",
        "matches = bf.match(desc1,desc2)\n",
        "\n",
        "# Sort them in the order of their distance.\n",
        "matches = sorted(matches, key = lambda x:x.distance)\n",
        "\n",
        "# Draw first 10 matches.\n",
        "img_lena_matches = cv2.drawMatches(img_lena,kp1,img_lena_rotated,kp2,matches[:10],None,flags=2)\n",
        "\n",
        "plt.imshow(img_lena_matches),plt.show()"
      ],
      "execution_count": null,
      "outputs": []
    },
    {
      "cell_type": "markdown",
      "metadata": {
        "id": "zJRS1us8bpLJ"
      },
      "source": [
        "**Busca de vídeo com base em conteúdo visual**\n",
        "\n",
        "**Lendo um vídeo em OpenCV**\n",
        "\n",
        "Abre e extrai keyframes do vídeo salvando em disco"
      ]
    },
    {
      "cell_type": "code",
      "metadata": {
        "id": "jHSLiRbxbuE2"
      },
      "source": [
        "from os import listdir\n",
        "from os.path import isfile, join\n",
        "import os\n",
        "import os.path\n",
        "import sys\n",
        "import pickle"
      ],
      "execution_count": null,
      "outputs": []
    },
    {
      "cell_type": "code",
      "metadata": {
        "id": "b3MCOdgub0cN"
      },
      "source": [
        "frames_dir = \"frames/\"\n",
        "\n",
        "features_dir = \"features/\"\n",
        "\n",
        "cluster_dir = \"cluster/\"\n",
        "\n",
        "bow_dir = \"bow/\"\n",
        "\n",
        "videos = \"videos/\"\n",
        "\n",
        "search = \"search/\"\n",
        "\n",
        "if not os.path.exists(frames_dir):\n",
        "    os.makedirs(frames_dir)  \n",
        "\n",
        "if not os.path.exists(features_dir):\n",
        "    os.makedirs(features_dir)  \n",
        "  \n",
        "if not os.path.exists(cluster_dir):\n",
        "    os.makedirs(cluster_dir)  \n",
        "\n",
        "if not os.path.exists(bow_dir):\n",
        "    os.makedirs(bow_dir)\n",
        "\n",
        "if not os.path.exists(videos):\n",
        "    os.makedirs(videos)\n",
        "\n",
        "if not os.path.exists(search):\n",
        "    os.makedirs(search)"
      ],
      "execution_count": null,
      "outputs": []
    },
    {
      "cell_type": "code",
      "metadata": {
        "id": "opf0e71BcQ9S"
      },
      "source": [
        "# video path\n",
        "video_dir = \"videos/\"\n",
        "\n",
        "# video file\n",
        "video = \"videos/airport.mp4\"\n",
        "\n",
        "# create VideoCapture object and read from video file\n",
        "cap = cv2.VideoCapture(video)\n",
        "\n",
        "# frames per second\n",
        "video_frames = 30\n",
        "\n",
        "# frame id\n",
        "id_frame = 0\n",
        "\n",
        "ret = True\n",
        "while ret:\n",
        "    # capture frame by frame\n",
        "    ret, frame = cap.read()\n",
        "\n",
        "    # video length\n",
        "    length = int(cap.get(cv2.CAP_PROP_FRAME_COUNT))\n",
        "\n",
        "    if (id_frame % video_frames) == 0 and ret:\n",
        "\n",
        "        print(\"Proccessing frame \" + str(id_frame) + \" of \" + str(length))\n",
        "\n",
        "        frame_path = os.path.join(frames_dir, str(id_frame) + \".png\")\n",
        "\n",
        "        # salva a imagem (frame) no disco\n",
        "        cv2.imwrite(frame_path, frame)\n",
        "    \n",
        "    id_frame += 1\n",
        "  \n",
        "print(\"Done\")"
      ],
      "execution_count": null,
      "outputs": []
    },
    {
      "cell_type": "code",
      "metadata": {
        "id": "I4zg23oQi8gr"
      },
      "source": [
        "frame = cv2.imread('frames/450.png')\n",
        "cv2_imshow(frame)"
      ],
      "execution_count": null,
      "outputs": []
    },
    {
      "cell_type": "markdown",
      "metadata": {
        "id": "aEvPNKCeAree"
      },
      "source": [
        "Extraindo descritores do frames do vídeo usando BRIEF Descriptor"
      ]
    },
    {
      "cell_type": "code",
      "metadata": {
        "id": "aNHNmWH4Asz8"
      },
      "source": [
        "# leitura das imagens do diretório\n",
        "onlyfiles = []\n",
        "if os.path.exists(frames_dir):\n",
        "    onlyfiles = [f for f in listdir(frames_dir) if isfile(join(frames_dir, f))]\n",
        "    \n",
        "    # processa cada arquivo de imagem de um diretório\n",
        "    for file in onlyfiles:\n",
        "\n",
        "        print(file)\n",
        "    \n",
        "        img_path = join(frames_dir, file)\n",
        "\n",
        "        img = cv2.imread(img_path)\n",
        "\n",
        "        # opcional: redimensiona a imagem\n",
        "        # img = cv2.resize(\n",
        "        #  img, (160, 160), interpolation=cv2.INTER_CUBIC)\n",
        "        \n",
        "        # Initiate STAR detector\n",
        "        star = cv2.xfeatures2d.StarDetector_create()\n",
        "\n",
        "        # Initiate BRIEF extractor\n",
        "        brief = cv2.xfeatures2d.BriefDescriptorExtractor_create()\n",
        "\n",
        "        # find the keypoints with STAR\n",
        "        kp = star.detect(img,None)\n",
        "\n",
        "        # compute the descriptors with BRIEF\n",
        "        kp, feat = brief.compute(img, kp)        \n",
        "\n",
        "        print(len(kp))\n",
        "        print(np.shape(feat))\n",
        "        # print(feat)\n",
        "\n",
        "        feat_path = join(features_dir, file)\n",
        "\n",
        "        # store the data as binary data stream\n",
        "        with open(feat_path + \".brief\", \"wb\") as f:            \n",
        "            pickle.dump(feat.tolist(), f)        \n",
        "\n",
        "        # f = open(feat_path + \".brief.txt\", \"w\")\n",
        "        # f.write(str(feat.tolist()))\n",
        "        # f.close()"
      ],
      "execution_count": null,
      "outputs": []
    },
    {
      "cell_type": "markdown",
      "metadata": {
        "id": "pH6Rnl4PBP-A"
      },
      "source": [
        "**Criação do vocabulário visual**\n",
        "\n",
        "**1. Clusterização**"
      ]
    },
    {
      "cell_type": "code",
      "metadata": {
        "id": "UIz1EDZkBbsz"
      },
      "source": [
        "from sklearn.cluster import KMeans\n",
        "import time"
      ],
      "execution_count": null,
      "outputs": []
    },
    {
      "cell_type": "code",
      "metadata": {
        "id": "IP0OWA8oCwVJ"
      },
      "source": [
        "cluster_file = cluster_dir + \"cluster.cluster\""
      ],
      "execution_count": null,
      "outputs": []
    },
    {
      "cell_type": "code",
      "metadata": {
        "id": "kn2jPJFrkvy0"
      },
      "source": [
        "# número de clusters\n",
        "k = 64\n",
        "\n",
        "# núimeros de dimensões das features\n",
        "dim = 32"
      ],
      "execution_count": null,
      "outputs": []
    },
    {
      "cell_type": "code",
      "metadata": {
        "id": "qyPEFan4BNwN"
      },
      "source": [
        "# salva o vocabulário criado (centroids) em disco\n",
        "def saveCentroids (kmeans, output_file, dim):\n",
        "    i = 0\n",
        "    desc = \"\"\n",
        "\n",
        "    for k in np.nditer(kmeans.cluster_centers_):        \n",
        "        a = np.array(k).round(2)\n",
        "        desc += str(a) + \" \"\n",
        "        i += 1        \n",
        "\n",
        "        if (i % dim) == 0:\n",
        "            desc += \"\\n\" \n",
        "\n",
        "    output_file.write(desc)"
      ],
      "execution_count": null,
      "outputs": []
    },
    {
      "cell_type": "code",
      "metadata": {
        "id": "0wKow2MfBe-P"
      },
      "source": [
        "listOfFeat = []\n",
        "\n",
        "# leitura das imagens do diretório\n",
        "onlyfiles = []\n",
        "if os.path.exists(features_dir):\n",
        "    onlyfiles = [f for f in listdir(features_dir) if isfile(join(features_dir, f))]\n",
        "    \n",
        "    # processa cada arquivo de imagem de um diretório\n",
        "    for file in onlyfiles:\n",
        "        # print(file)\n",
        "    \n",
        "        feat_path = join(features_dir, file)\n",
        "\n",
        "        with open(feat_path, 'rb') as f:\n",
        "            # read the data as binary data stream\n",
        "            feat = pickle.load(f)\n",
        "\n",
        "        # print(feat)\n",
        "\n",
        "        for item in feat:\n",
        "            listOfFeat.append(item)\n",
        "\n",
        "output_file = open(cluster_file, 'w')\n",
        "\n",
        "# print( np.asarray(listOfFeat) )\n",
        "print( np.asarray(listOfFeat).shape )\n",
        "# output_file.write(np.asarray(listOfFeat[0]))\n",
        "    \n",
        "t1 = time.time()  \n",
        "kmeans = KMeans(n_clusters=k, random_state=0).fit(np.asarray(listOfFeat))\n",
        "t2 = time.time()\n",
        "tf = t2 - t1\n",
        "\n",
        "print(tf)\n",
        "\n",
        "saveCentroids (kmeans, output_file, dim)  \n",
        "output_file.close()"
      ],
      "execution_count": null,
      "outputs": []
    },
    {
      "cell_type": "code",
      "metadata": {
        "id": "0DFtP7NYZLIo"
      },
      "source": [
        "!cat cluster/cluster.cluster"
      ],
      "execution_count": null,
      "outputs": []
    },
    {
      "cell_type": "markdown",
      "metadata": {
        "id": "_CNVcLhnCTqc"
      },
      "source": [
        "**2. Bag of Visual Word**"
      ]
    },
    {
      "cell_type": "code",
      "metadata": {
        "id": "1jSMzNB-CUtS"
      },
      "source": [
        "%%time\n",
        "# leitura dos centroids do arquivo\n",
        "centroids = np.loadtxt(cluster_file)\n",
        "\n",
        "# obtem o número de centroids (palavras visuais)\n",
        "clusters = centroids.shape[0]\n",
        "\n",
        "# leitura das imagens do diretório\n",
        "onlyfiles = []\n",
        "if os.path.exists(features_dir):\n",
        "    onlyfiles = [f for f in listdir(features_dir) if isfile(join(features_dir, f))]\n",
        "\n",
        "    bowOfImages = []    \n",
        "    \n",
        "    # processa cada arquivo de imagem de um diretório\n",
        "    for file in onlyfiles:\n",
        "    \n",
        "        feat_path = join(features_dir, file)\n",
        "\n",
        "        with open(feat_path, 'rb') as f:\n",
        "            # read the data as binary data stream\n",
        "            feat = pickle.load(f)        \n",
        "\n",
        "        # inicializa o BoW da imagem com zero para cada dimensão\n",
        "        bow = [0] * clusters\n",
        "\n",
        "        # procedimento força bruta para cálculo de distância (euclidean distance)\n",
        "        for item in feat:\n",
        "            result = sys.float_info.max\n",
        "            centroid_id = 0\n",
        "\n",
        "            for id, c in enumerate(centroids):\n",
        "               # Euclidean Distance \n",
        "               dist = np.sqrt(np.sum(np.square(np.subtract(item, c))))\n",
        "               if dist < result:\n",
        "                  result = dist\n",
        "                  centroid_id = id\n",
        "\n",
        "            bow[centroid_id] += 1                     \n",
        "        \n",
        "        bow_path = join(bow_dir, file)\n",
        "\n",
        "        with open(bow_path + \".bow\", 'w') as f:\n",
        "            for item in bow:\n",
        "                f.write(\"%s \" % item)\n",
        "\n",
        "print(\"Done\")"
      ],
      "execution_count": null,
      "outputs": []
    },
    {
      "cell_type": "code",
      "metadata": {
        "id": "emYq8FWaZZgY"
      },
      "source": [
        "!cat bow/450.png.brief.bow"
      ],
      "execution_count": null,
      "outputs": []
    },
    {
      "cell_type": "markdown",
      "metadata": {
        "id": "N52ldux7DdlO"
      },
      "source": [
        "**Busca**\n",
        "\n",
        "Utilizando um arquivo de BoW de uma imagem do próprio vídeo"
      ]
    },
    {
      "cell_type": "code",
      "metadata": {
        "id": "2J7wQ42ODe-P"
      },
      "source": [
        "%%time\n",
        "# leitura das imagens do diretório\n",
        "\n",
        "q = np.loadtxt(bow_dir + \"450.png.brief.bow\")\n",
        "\n",
        "onlyfiles = []\n",
        "if os.path.exists(bow_dir):\n",
        "    onlyfiles = [f for f in listdir(bow_dir) if isfile(join(bow_dir, f))]\n",
        "\n",
        "    # processa cada arquivo de imagem de um diretório\n",
        "    for file in onlyfiles:\n",
        "\n",
        "        feat_path = join(bow_dir, file)\n",
        "\n",
        "        item = np.loadtxt(feat_path)\n",
        "\n",
        "        # print(item)\n",
        "        # print(item.shape)\n",
        "\n",
        "        dist = np.sqrt(np.sum(np.square(np.subtract(item, q))))\n",
        "\n",
        "        print(str(file) + \": \" + str(dist))"
      ],
      "execution_count": null,
      "outputs": []
    },
    {
      "cell_type": "markdown",
      "metadata": {
        "id": "le0dEj7-LzhH"
      },
      "source": [
        "Altere a quantidade de clsuter para k = 64 e repita o procedimento acima, compare os resultados de cálculo de distância. O que mudou em relação às distâncias calculadas?"
      ]
    },
    {
      "cell_type": "markdown",
      "metadata": {
        "id": "XBN1GSxLD5C-"
      },
      "source": [
        "**Utilizando uma nova imagem qualquer**\n",
        "\n",
        "Calculando features locais da imagem de consulta"
      ]
    },
    {
      "cell_type": "code",
      "metadata": {
        "id": "XwKpCMt_EeMT"
      },
      "source": [
        "frame = cv2.imread('search/beluga.jpg')\n",
        "cv2_imshow(frame)"
      ],
      "execution_count": null,
      "outputs": []
    },
    {
      "cell_type": "code",
      "metadata": {
        "id": "dH2jERY1D-IH"
      },
      "source": [
        "search_dir = \"search/\"\n",
        "q = search_dir + \"beluga.jpg\"\n",
        "q_feature = q + \".brief\"\n",
        "q_bow = q_feature + \".bow\""
      ],
      "execution_count": null,
      "outputs": []
    },
    {
      "cell_type": "code",
      "metadata": {
        "id": "1Ezg6E0ME5eH"
      },
      "source": [
        "img_search = cv2.imread(q)\n",
        "\n",
        "# Initiate STAR detector\n",
        "star = cv2.xfeatures2d.StarDetector_create()\n",
        "\n",
        "# Initiate BRIEF extractor\n",
        "brief = cv2.xfeatures2d.BriefDescriptorExtractor_create()\n",
        "\n",
        "# find the keypoints with STAR\n",
        "kp = star.detect(img_search,None)\n",
        "\n",
        "# compute the descriptors with BRIEF\n",
        "kp, feat = brief.compute(img_search, kp)        \n",
        "\n",
        "print(len(kp))\n",
        "print(np.shape(feat))\n",
        "# print(feat)\n",
        "\n",
        "# store the data as binary data stream\n",
        "with open(q_feature, \"wb\") as f:            \n",
        "  pickle.dump(feat.tolist(), f)        "
      ],
      "execution_count": null,
      "outputs": []
    },
    {
      "cell_type": "markdown",
      "metadata": {
        "id": "Mc9ygvwPJQmE"
      },
      "source": [
        "Calculando BoW da imagem de consulta (observe que o mesmo vocabulário visual calculado anteriormente é utilizado)"
      ]
    },
    {
      "cell_type": "code",
      "metadata": {
        "id": "2267ssndJbmK"
      },
      "source": [
        "# leitura dos centroids do arquivo\n",
        "centroids = np.loadtxt(cluster_file)\n",
        "\n",
        "# obtem o número de centroids (palavras visuais)\n",
        "clusters = centroids.shape[0]\n",
        "\n",
        "with open(q_feature, 'rb') as f:\n",
        "    # read the data as binary data stream\n",
        "    feat = pickle.load(f)        \n",
        "\n",
        "    # inicializa o BoW da imagem com zero para cada dimensão\n",
        "    bow = [0] * clusters\n",
        "\n",
        "    # procedimento força bruta para cálculo de distância (euclidean distance)\n",
        "    for item in feat:\n",
        "        result = sys.float_info.max\n",
        "        centroid_id = 0\n",
        "\n",
        "        for id, c in enumerate(centroids):\n",
        "            dist = np.sqrt(np.sum(np.square(np.subtract(item, c))))\n",
        "            if dist < result:\n",
        "              result = dist\n",
        "              centroid_id = id\n",
        "\n",
        "        bow[centroid_id] += 1                     \n",
        "\n",
        "    with open(q_bow, 'w') as f:\n",
        "        for item in bow:\n",
        "            f.write(\"%s \" % item)\n",
        "\n",
        "print(\"Done\")"
      ],
      "execution_count": null,
      "outputs": []
    },
    {
      "cell_type": "code",
      "metadata": {
        "id": "HIjwZrmOaPX8"
      },
      "source": [
        "!cat search/beluga.jpg.brief.bow"
      ],
      "execution_count": null,
      "outputs": []
    },
    {
      "cell_type": "markdown",
      "metadata": {
        "id": "jhGgNmg4K3ii"
      },
      "source": [
        "Realizando a consulta"
      ]
    },
    {
      "cell_type": "code",
      "metadata": {
        "id": "Ph16c3v5K5E2"
      },
      "source": [
        "# leitura das imagens do diretório\n",
        "\n",
        "q = np.loadtxt(q_bow)\n",
        "\n",
        "onlyfiles = []\n",
        "if os.path.exists(bow_dir):\n",
        "    onlyfiles = [f for f in listdir(bow_dir) if isfile(join(bow_dir, f))]\n",
        "\n",
        "    # processa cada arquivo de imagem de um diretório\n",
        "    for file in onlyfiles:\n",
        "\n",
        "        feat_path = join(bow_dir, file)\n",
        "\n",
        "        item = np.loadtxt(feat_path)\n",
        "\n",
        "        # print(item)\n",
        "        # print(item.shape)\n",
        "\n",
        "        dist = np.sqrt(np.sum(np.square(np.subtract(item, q))))\n",
        "\n",
        "        print(str(file) + \": \" + str(dist))"
      ],
      "execution_count": null,
      "outputs": []
    },
    {
      "cell_type": "code",
      "metadata": {
        "id": "3VR6Z_vpNaa6"
      },
      "source": [
        "frame = cv2.imread('frames/480.png')\n",
        "cv2_imshow(frame)"
      ],
      "execution_count": null,
      "outputs": []
    }
  ]
}