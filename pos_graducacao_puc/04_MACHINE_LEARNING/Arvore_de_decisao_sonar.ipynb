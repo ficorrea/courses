{
  "nbformat": 4,
  "nbformat_minor": 0,
  "metadata": {
    "colab": {
      "name": "Arvore de decisao-sonar.ipynb",
      "version": "0.3.2",
      "provenance": [],
      "collapsed_sections": []
    },
    "kernelspec": {
      "name": "python3",
      "display_name": "Python 3"
    }
  },
  "cells": [
    {
      "metadata": {
        "id": "1MsOiuBgAvBy",
        "colab_type": "text"
      },
      "cell_type": "markdown",
      "source": [
        "# Árvore de decisão\n",
        "\n",
        "\n",
        "Ilustra o funcionamento do algoritmo de árvore de decisão com dados contínuos.\n",
        "\n",
        "Este notebook foi desenvolvido para o ambiente GOOGLE COLAB ([colab.research.google.com](https://colab.research.google.com)).\n",
        "\n",
        "Prof. Hugo de Paula\n",
        "\n",
        "-------------------------------------------------------------------------------\n",
        "\n",
        "### Base de dados: Sonar, Mines vs. Rocks\n",
        "\n",
        "https://archive.ics.uci.edu/ml/datasets/Connectionist+Bench+%28Sonar,+Mines+vs.+Rocks%29\n",
        "\n",
        "208 instâncias\n",
        "\n",
        "60 atributos\n",
        "\n",
        "2 classes (rocha, mina)\n",
        "\n"
      ]
    },
    {
      "metadata": {
        "id": "OwXOcJUaTV-I",
        "colab_type": "code",
        "colab": {}
      },
      "cell_type": "code",
      "source": [
        "!pip install pydotplus\n",
        "!pip install dtreeviz"
      ],
      "execution_count": 0,
      "outputs": []
    },
    {
      "metadata": {
        "id": "PDVQg6ZJ_WXn",
        "colab_type": "code",
        "colab": {}
      },
      "cell_type": "code",
      "source": [
        "import pandas as pd\n",
        "import numpy as np\n",
        "from sklearn import datasets, tree\n",
        "from sklearn.model_selection import train_test_split\n",
        "from sklearn.tree import DecisionTreeClassifier\n",
        "from sklearn.metrics import accuracy_score, classification_report, confusion_matrix\n",
        "from sklearn.feature_extraction import DictVectorizer\n",
        "from sklearn.preprocessing import LabelEncoder\n",
        "\n",
        "from google.colab import files\n",
        "uploaded = files.upload()\n"
      ],
      "execution_count": 0,
      "outputs": []
    },
    {
      "metadata": {
        "id": "A46kV4VTA_la",
        "colab_type": "text"
      },
      "cell_type": "markdown",
      "source": [
        "### Carga dos dados e particionamento das bases de treinamento e teste\n",
        "\n",
        "### Transformação de dados\n",
        "\n",
        "A classe é convertida para labels únicos sequenciais.\n",
        "\n",
        "<code>\n",
        " le = preprocessing.LabelEncoder()\n",
        "  \n",
        " le.fit(dados)\n",
        "</code>\n",
        "\n",
        "\n",
        "### Particionamento da base\n",
        "\n",
        "<code>train_test_split(X, y) -- particiona a base de dados original em bases de treinamento e teste.</code>\n",
        "\n",
        "No código a seguir, são utilizados 10% para teste e 90% para treinamento.\n",
        "\n",
        "\n",
        "\n",
        "\n",
        "\n"
      ]
    },
    {
      "metadata": {
        "id": "pQzY_XVp__pZ",
        "colab_type": "code",
        "colab": {}
      },
      "cell_type": "code",
      "source": [
        "sonar = pd.read_excel('sonar.xlsx', sheet_name=0) \n",
        "print(\"\\nDimensões: {0}\".format(sonar.shape))\n",
        "print(\"\\nCampos: {0}\".format(sonar.keys()))\n",
        "print(sonar.describe(), sep='\\n')\n",
        "\n",
        "X = sonar.iloc[:,0:(sonar.shape[1] - 1)]\n",
        "\n",
        "le = LabelEncoder()\n",
        "y = le.fit_transform(sonar.iloc[:,(sonar.shape[1] - 1)])\n",
        "\n",
        "# Particiona a base de dados\n",
        "X_train, X_test, y_train, y_test = train_test_split(X, y, random_state=0, test_size=0.1)\n",
        "\n",
        "\n"
      ],
      "execution_count": 0,
      "outputs": []
    },
    {
      "metadata": {
        "id": "kg3Fr_1XAoKi",
        "colab_type": "text"
      },
      "cell_type": "markdown",
      "source": [
        "### Indução do Modelo\n",
        "\n",
        "\n",
        "Os três passos para indução de um modelo são:\n",
        "\n",
        "1.   Instanciar o modelo: ``` DecisionTreeClassifier()```\n",
        "2.   Treinar o modelo: ```fit()```\n",
        "3.   Testar o modelo: ```predict()```\n",
        "\n"
      ]
    },
    {
      "metadata": {
        "id": "Fo2oEQF40BfK",
        "colab_type": "code",
        "colab": {}
      },
      "cell_type": "code",
      "source": [
        "sonar_tree = DecisionTreeClassifier(random_state=0, criterion='entropy')\n",
        "sonar_tree = sonar_tree.fit(X_train, y_train)\n",
        "print(\"Acurácia (base de treinamento):\", sonar_tree.score(X_train, y_train))\n",
        "\n",
        "y_pred = sonar_tree.predict(X_test)\n",
        "print(\"Acurácia de previsão:\", accuracy_score(y_test, y_pred))\n",
        "print(classification_report(y_test, y_pred, target_names=[\"Mina\", \"Rocha\"]))\n",
        "      \n",
        "cnf_matrix = confusion_matrix(y_test, y_pred)\n",
        "cnf_table = pd.DataFrame(data=cnf_matrix, index=[\"Mina\", \"Rocha\"], columns=[\"Mina (prev)\", \"Rocha (prev)\"])\n",
        "print(cnf_table)\n",
        "\n"
      ],
      "execution_count": 0,
      "outputs": []
    },
    {
      "metadata": {
        "id": "f2HUb-V-ihZt",
        "colab_type": "text"
      },
      "cell_type": "markdown",
      "source": [
        "### Exibição da árvore de decisão"
      ]
    },
    {
      "metadata": {
        "id": "x-yvOCPzBl_d",
        "colab_type": "code",
        "colab": {}
      },
      "cell_type": "code",
      "source": [
        "from dtreeviz.trees import *\n",
        "\n",
        "viz = dtreeviz(sonar_tree,\n",
        "              X_train,\n",
        "              y_train,\n",
        "              target_name=\"Classe\",\n",
        "              feature_names=np.arange(0,60),\n",
        "              class_names=[\"mina\", \"rocha\"])  \n",
        "\n",
        "viz.view()"
      ],
      "execution_count": 0,
      "outputs": []
    },
    {
      "metadata": {
        "id": "V_A92_qYTCkY",
        "colab_type": "code",
        "colab": {}
      },
      "cell_type": "code",
      "source": [
        "import pydotplus \n",
        "# Create DOT data\n",
        "dot_data = tree.export_graphviz(sonar_tree, out_file=None, \n",
        "                                proportion=False,\n",
        "                                rounded =True,\n",
        "                                filled=True,\n",
        "                                feature_names=np.arange(0,60),  \n",
        "                                class_names=[\"mina\", \"rocha\"])\n",
        "\n",
        "# Draw graph\n",
        "graph = pydotplus.graph_from_dot_data(dot_data)  \n",
        "\n",
        "# Show graph\n",
        "Image(graph.create_png())\n"
      ],
      "execution_count": 0,
      "outputs": []
    }
  ]
}