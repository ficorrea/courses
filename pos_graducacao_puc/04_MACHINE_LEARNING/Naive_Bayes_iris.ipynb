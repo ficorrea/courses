{
  "nbformat": 4,
  "nbformat_minor": 0,
  "metadata": {
    "colab": {
      "name": "Naive Bayes-iris.ipynb",
      "version": "0.3.2",
      "provenance": [],
      "collapsed_sections": []
    },
    "kernelspec": {
      "name": "python3",
      "display_name": "Python 3"
    }
  },
  "cells": [
    {
      "metadata": {
        "id": "2r8uNeTlxVSN",
        "colab_type": "text"
      },
      "cell_type": "markdown",
      "source": [
        "# Naïve Bayes\n",
        "\n",
        "\n",
        "Ilustra o funcionamento do algoritmo de Naïve Bayes com atributos numéricos.\n",
        "\n",
        "Este notebook foi desenvolvido para o ambiente GOOGLE COLAB ([colab.research.google.com](https://colab.research.google.com)).\n",
        "\n",
        "Prof. Hugo de Paula\n",
        "\n",
        "-------------------------------------------------------------------------------\n",
        "\n",
        "### Base de dados: Iris dataset (espécies de lírios)\n",
        "\n",
        "https://archive.ics.uci.edu/ml/datasets/Iris/\n",
        "\n",
        "3 classes (setosa, virginica, versicolor)\n",
        "\n",
        "50 amostras por classe\n",
        "\n",
        "4 atributos reais positivos (comp. pétala, comp. sépala, larg. pétala, larg. sépala)\n",
        "\n",
        "### Carga dos dados e particionamento das bases de treinamento e teste\n",
        "\n",
        "<code>train_test_split(X, y) -- particiona a base de dados original em bases de treinamento e teste.</code>\n",
        "\n",
        "Por padrão, 75% da base é utilizada para treinamento e 25% para testes.\n",
        "\n"
      ]
    },
    {
      "metadata": {
        "id": "Jdme4B9eNngv",
        "colab_type": "code",
        "colab": {}
      },
      "cell_type": "code",
      "source": [
        "import pandas as pd\n",
        "from sklearn.datasets import load_iris\n",
        "from sklearn.model_selection import train_test_split\n",
        "from sklearn.naive_bayes import GaussianNB\n",
        "from sklearn.metrics import confusion_matrix, classification_report\n",
        "\n",
        "\n",
        "iris = load_iris()\n",
        "\n",
        "X_train, X_test, y_train, y_test = train_test_split(\n",
        "                                iris['data'], iris['target'], random_state=0)\n",
        "\n",
        "\n"
      ],
      "execution_count": 0,
      "outputs": []
    },
    {
      "metadata": {
        "id": "liYWihBnxt6L",
        "colab_type": "text"
      },
      "cell_type": "markdown",
      "source": [
        "### Indução do Modelo Gaussian Naïve Bayes\n",
        "\n",
        "O Gaussian Naïve Bayes é o algoritmo capaz de induzir um modelo a partir de dados numéricos.\n",
        "\n",
        "Os três passos para indução de um modelo são:\n",
        "\n",
        "1.   Instanciar o modelo: ```GaussianNB()```\n",
        "2.   Treinar o modelo: ```fit()```\n",
        "3.   Testar o modelo: ```predict()```\n",
        "\n"
      ]
    },
    {
      "metadata": {
        "id": "mUiiCok3xulx",
        "colab_type": "code",
        "colab": {}
      },
      "cell_type": "code",
      "source": [
        "gnb = GaussianNB()\n",
        "y_pred = gnb.fit(X_train, y_train).predict(X_test)\n",
        "\n",
        "print(\"Número de erros de classificação {0} de {1}\"\n",
        "      .format((y_test != y_pred).sum(), iris.data.shape[0]))\n",
        "\n",
        "ac = gnb.score(X_test, y_test)\n",
        "\n",
        "print(\"\\nAcurácia do modelo: {0:.2f}%\\n\".format(100*ac))\n",
        "\n",
        "print(classification_report(y_test, y_pred, target_names=iris.target_names))\n",
        "\n",
        "cnf_matrix = confusion_matrix(y_test, y_pred)\n",
        "cnf_table = pd.DataFrame(data=cnf_matrix, index=iris.target_names, columns=[x + \"(prev)\" for x in iris.target_names])\n",
        "print(cnf_table)\n"
      ],
      "execution_count": 0,
      "outputs": []
    }
  ]
}