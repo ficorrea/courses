{
 "cells": [
  {
   "cell_type": "markdown",
   "metadata": {},
   "source": [
    "# Non-Personalized RS"
   ]
  },
  {
   "cell_type": "markdown",
   "metadata": {},
   "source": [
    "In this step we will implement the two main non-personalized Recommender Systems (RS). They are:\n",
    "\n",
    "- Most-Popular: the one that recommends the most popular items\n",
    "- Best-Rated: the one that recommends the items who was rated with higher grades\n",
    "\n",
    "For this reason, you must do:\n",
    "\n",
    "- Read the train file extracted from the dataset \n",
    "- Create a sparse matrix for the ratings file\n",
    "- Implement the Most-Popular and save the items recommended\n",
    "- Implement the Best-Rated and save the items recommended"
   ]
  },
  {
   "cell_type": "code",
   "execution_count": 1,
   "metadata": {},
   "outputs": [],
   "source": [
    "# import libs\n",
    "import operator\n",
    "import numpy as np\n",
    "import pandas as pd\n",
    "import matplotlib.pyplot as plt\n",
    "\n",
    "from scipy.sparse import csr_matrix\n",
    "from collections import OrderedDict\n",
    "\n",
    "# useful command\n",
    "from IPython.core.interactiveshell import InteractiveShell\n",
    "InteractiveShell.ast_node_interactivity = \"all\"\n",
    "\n",
    "plt.rcParams.update({'font.size': 14})"
   ]
  },
  {
   "cell_type": "markdown",
   "metadata": {},
   "source": [
    "## Reading train and test files"
   ]
  },
  {
   "cell_type": "markdown",
   "metadata": {},
   "source": [
    "You can read this file as you prefer. I propose to read the files by the pandas' library and create the sparse matrix after it."
   ]
  },
  {
   "cell_type": "code",
   "execution_count": 2,
   "metadata": {},
   "outputs": [
    {
     "name": "stderr",
     "output_type": "stream",
     "text": [
      "/usr/lib/python3/dist-packages/ipykernel_launcher.py:1: ParserWarning: Falling back to the 'python' engine because the 'c' engine does not support regex separators (separators > 1 char and different from '\\s+' are interpreted as regex); you can avoid this warning by specifying engine='python'.\n",
      "  \"\"\"Entry point for launching an IPython kernel.\n",
      "/usr/lib/python3/dist-packages/ipykernel_launcher.py:2: ParserWarning: Falling back to the 'python' engine because the 'c' engine does not support regex separators (separators > 1 char and different from '\\s+' are interpreted as regex); you can avoid this warning by specifying engine='python'.\n",
      "  \n"
     ]
    },
    {
     "data": {
      "text/html": [
       "<div>\n",
       "<style scoped>\n",
       "    .dataframe tbody tr th:only-of-type {\n",
       "        vertical-align: middle;\n",
       "    }\n",
       "\n",
       "    .dataframe tbody tr th {\n",
       "        vertical-align: top;\n",
       "    }\n",
       "\n",
       "    .dataframe thead th {\n",
       "        text-align: right;\n",
       "    }\n",
       "</style>\n",
       "<table border=\"1\" class=\"dataframe\">\n",
       "  <thead>\n",
       "    <tr style=\"text-align: right;\">\n",
       "      <th></th>\n",
       "      <th>userId</th>\n",
       "      <th>itemId</th>\n",
       "      <th>rating</th>\n",
       "      <th>timestamp</th>\n",
       "    </tr>\n",
       "  </thead>\n",
       "  <tbody>\n",
       "    <tr>\n",
       "      <td>0</td>\n",
       "      <td>1</td>\n",
       "      <td>1193</td>\n",
       "      <td>5.0</td>\n",
       "      <td>978300760.0</td>\n",
       "    </tr>\n",
       "    <tr>\n",
       "      <td>1</td>\n",
       "      <td>1</td>\n",
       "      <td>661</td>\n",
       "      <td>3.0</td>\n",
       "      <td>978302109.0</td>\n",
       "    </tr>\n",
       "    <tr>\n",
       "      <td>2</td>\n",
       "      <td>1</td>\n",
       "      <td>914</td>\n",
       "      <td>3.0</td>\n",
       "      <td>978301968.0</td>\n",
       "    </tr>\n",
       "    <tr>\n",
       "      <td>3</td>\n",
       "      <td>1</td>\n",
       "      <td>3408</td>\n",
       "      <td>4.0</td>\n",
       "      <td>978300275.0</td>\n",
       "    </tr>\n",
       "    <tr>\n",
       "      <td>4</td>\n",
       "      <td>1</td>\n",
       "      <td>1197</td>\n",
       "      <td>3.0</td>\n",
       "      <td>978302268.0</td>\n",
       "    </tr>\n",
       "  </tbody>\n",
       "</table>\n",
       "</div>"
      ],
      "text/plain": [
       "   userId  itemId  rating    timestamp\n",
       "0       1    1193     5.0  978300760.0\n",
       "1       1     661     3.0  978302109.0\n",
       "2       1     914     3.0  978301968.0\n",
       "3       1    3408     4.0  978300275.0\n",
       "4       1    1197     3.0  978302268.0"
      ]
     },
     "execution_count": 2,
     "metadata": {},
     "output_type": "execute_result"
    },
    {
     "data": {
      "text/html": [
       "<div>\n",
       "<style scoped>\n",
       "    .dataframe tbody tr th:only-of-type {\n",
       "        vertical-align: middle;\n",
       "    }\n",
       "\n",
       "    .dataframe tbody tr th {\n",
       "        vertical-align: top;\n",
       "    }\n",
       "\n",
       "    .dataframe thead th {\n",
       "        text-align: right;\n",
       "    }\n",
       "</style>\n",
       "<table border=\"1\" class=\"dataframe\">\n",
       "  <thead>\n",
       "    <tr style=\"text-align: right;\">\n",
       "      <th></th>\n",
       "      <th>userId</th>\n",
       "      <th>itemId</th>\n",
       "      <th>rating</th>\n",
       "      <th>timestamp</th>\n",
       "    </tr>\n",
       "  </thead>\n",
       "  <tbody>\n",
       "    <tr>\n",
       "      <td>0</td>\n",
       "      <td>1</td>\n",
       "      <td>2355</td>\n",
       "      <td>5.0</td>\n",
       "      <td>978824291.0</td>\n",
       "    </tr>\n",
       "    <tr>\n",
       "      <td>1</td>\n",
       "      <td>1</td>\n",
       "      <td>595</td>\n",
       "      <td>5.0</td>\n",
       "      <td>978824268.0</td>\n",
       "    </tr>\n",
       "    <tr>\n",
       "      <td>2</td>\n",
       "      <td>1</td>\n",
       "      <td>2687</td>\n",
       "      <td>3.0</td>\n",
       "      <td>978824268.0</td>\n",
       "    </tr>\n",
       "    <tr>\n",
       "      <td>3</td>\n",
       "      <td>1</td>\n",
       "      <td>48</td>\n",
       "      <td>5.0</td>\n",
       "      <td>978824351.0</td>\n",
       "    </tr>\n",
       "    <tr>\n",
       "      <td>4</td>\n",
       "      <td>1</td>\n",
       "      <td>745</td>\n",
       "      <td>3.0</td>\n",
       "      <td>978824268.0</td>\n",
       "    </tr>\n",
       "  </tbody>\n",
       "</table>\n",
       "</div>"
      ],
      "text/plain": [
       "   userId  itemId  rating    timestamp\n",
       "0       1    2355     5.0  978824291.0\n",
       "1       1     595     5.0  978824268.0\n",
       "2       1    2687     3.0  978824268.0\n",
       "3       1      48     5.0  978824351.0\n",
       "4       1     745     3.0  978824268.0"
      ]
     },
     "execution_count": 2,
     "metadata": {},
     "output_type": "execute_result"
    }
   ],
   "source": [
    "df_train = pd.read_csv('../Dataset/ML-1M/trainSet.txt', sep='::', names=['userId', 'itemId', 'rating', 'timestamp'])\n",
    "df_test = pd.read_csv('../Dataset/ML-1M/testSet.txt', sep='::', names=['userId', 'itemId', 'rating', 'timestamp'])\n",
    "\n",
    "df_train.head()\n",
    "df_test.head()"
   ]
  },
  {
   "cell_type": "markdown",
   "metadata": {},
   "source": [
    "## Creating Sparse Matrix"
   ]
  },
  {
   "cell_type": "markdown",
   "metadata": {},
   "source": [
    "I propose to use the csr_matrix from scipy."
   ]
  },
  {
   "cell_type": "code",
   "execution_count": 3,
   "metadata": {},
   "outputs": [],
   "source": [
    "# Select users, items and ratings logs (i.e., all information from each column)\n",
    "users = df_train['userId']\n",
    "items = df_train['itemId']\n",
    "ratings = df_train['rating']"
   ]
  },
  {
   "cell_type": "code",
   "execution_count": 4,
   "metadata": {},
   "outputs": [],
   "source": [
    "# Define the matrix dimensions based on the max index related to users and items\n",
    "nb_users = max(users)\n",
    "nb_items = max(items)"
   ]
  },
  {
   "cell_type": "code",
   "execution_count": 5,
   "metadata": {},
   "outputs": [
    {
     "data": {
      "text/plain": [
       "(6041, 3953)"
      ]
     },
     "execution_count": 5,
     "metadata": {},
     "output_type": "execute_result"
    }
   ],
   "source": [
    "# Creating matrix of ratings\n",
    "ratings_matrix = csr_matrix((ratings, (users, items)), shape=(nb_users+1, nb_items+1))\n",
    "\n",
    "ratings_matrix.shape"
   ]
  },
  {
   "cell_type": "markdown",
   "metadata": {},
   "source": [
    "## An useful function"
   ]
  },
  {
   "cell_type": "markdown",
   "metadata": {},
   "source": [
    "This function is used to save the recommendations in a file."
   ]
  },
  {
   "cell_type": "code",
   "execution_count": 6,
   "metadata": {},
   "outputs": [],
   "source": [
    "def dumpRecommendation(recommendation, users_targets, file_name):\n",
    "    \n",
    "    file_out = open(file_name, 'w')\n",
    "    \n",
    "    # for each user target\n",
    "    for userId in users_targets:\n",
    "        issuedItems = \"\"\n",
    "        # for each item in the previous order\n",
    "        for itemId in recommendation[userId]:\n",
    "            issuedItems += str(itemId) + \":\" + str(0.0) + \",\"\n",
    "        # saving in file in correct format\n",
    "        string_s = str(userId) + \"\\t\" + \"[\" + issuedItems\n",
    "        string_out = string_s[:-1] + ']'\n",
    "        file_out.write(string_out + \"\\n\")\n",
    "    \n",
    "    file_out.close()"
   ]
  },
  {
   "cell_type": "markdown",
   "metadata": {},
   "source": [
    "## Most-Popular Recommendation"
   ]
  },
  {
   "cell_type": "code",
   "execution_count": 7,
   "metadata": {},
   "outputs": [],
   "source": [
    "# Items popularity\n",
    "items_popularity = {}\n",
    "\n",
    "for i in range(ratings_matrix.shape[1]):\n",
    "    items_popularity[i] = ratings_matrix[:,i].count_nonzero()"
   ]
  },
  {
   "cell_type": "code",
   "execution_count": 8,
   "metadata": {},
   "outputs": [],
   "source": [
    "# Sorting the itemId descending by its popularity\n",
    "popularity_order = OrderedDict(sorted(items_popularity.items(), key=operator.itemgetter(1), reverse=True))\n",
    "most_popular = list(popularity_order.keys())"
   ]
  },
  {
   "cell_type": "code",
   "execution_count": 9,
   "metadata": {},
   "outputs": [],
   "source": [
    "# Size of each recommendation\n",
    "top_k = 10"
   ]
  },
  {
   "cell_type": "code",
   "execution_count": 10,
   "metadata": {},
   "outputs": [],
   "source": [
    "# Setting the recommendations for each user\n",
    "recommendation = {}\n",
    "\n",
    "for u in range(ratings_matrix.shape[0]):\n",
    "    # recommending just the most popular\n",
    "#   recommendation[u] = most_popular[:top_k]\n",
    "    recommendation[u] = []\n",
    "    cont = 0\n",
    "    # recommending the most popular that have never seen by users\n",
    "    for i in most_popular:\n",
    "        # recommending the top-k items \n",
    "        if (cont < top_k):\n",
    "            if (ratings_matrix[u,i] == 0):\n",
    "                recommendation[u].append(i)\n",
    "                cont += 1\n",
    "        else:\n",
    "            break"
   ]
  },
  {
   "cell_type": "code",
   "execution_count": 11,
   "metadata": {},
   "outputs": [],
   "source": [
    "# Save in a file\n",
    "users_targets = df_test['userId'].unique()\n",
    "dumpRecommendation(recommendation, users_targets, \"../Recommendation/ML-1M/recList_MostPopular.txt\")"
   ]
  },
  {
   "cell_type": "code",
   "execution_count": 12,
   "metadata": {},
   "outputs": [
    {
     "data": {
      "text/plain": [
       "[260, 1210, 480, 2571, 1580, 527, 1265, 1097, 2997, 2628]"
      ]
     },
     "execution_count": 12,
     "metadata": {},
     "output_type": "execute_result"
    },
    {
     "data": {
      "text/plain": [
       "[2028, 593, 608, 110, 2396, 527, 858, 1617, 2762, 318]"
      ]
     },
     "execution_count": 12,
     "metadata": {},
     "output_type": "execute_result"
    },
    {
     "data": {
      "text/plain": [
       "[2858, 480, 589, 2571, 593, 608, 2396, 1097, 1617, 2762]"
      ]
     },
     "execution_count": 12,
     "metadata": {},
     "output_type": "execute_result"
    }
   ],
   "source": [
    "recommendation[300]\n",
    "recommendation[3000]\n",
    "recommendation[6010]"
   ]
  },
  {
   "cell_type": "code",
   "execution_count": 13,
   "metadata": {},
   "outputs": [
    {
     "data": {
      "text/plain": [
       "[260, 1210, 480, 2571, 1580, 527, 1265, 1097, 2997, 2628]"
      ]
     },
     "execution_count": 13,
     "metadata": {},
     "output_type": "execute_result"
    },
    {
     "data": {
      "text/plain": [
       "[2028, 593, 608, 110, 2396, 527, 858, 1617, 2762, 318]"
      ]
     },
     "execution_count": 13,
     "metadata": {},
     "output_type": "execute_result"
    },
    {
     "data": {
      "text/plain": [
       "[2858, 480, 589, 2571, 593, 608, 2396, 1097, 1617, 2762]"
      ]
     },
     "execution_count": 13,
     "metadata": {},
     "output_type": "execute_result"
    }
   ],
   "source": [
    "recommendation[300]\n",
    "recommendation[3000]\n",
    "recommendation[6010]"
   ]
  },
  {
   "cell_type": "markdown",
   "metadata": {},
   "source": [
    "## Best-Rated Recommendation"
   ]
  },
  {
   "cell_type": "code",
   "execution_count": 14,
   "metadata": {},
   "outputs": [],
   "source": [
    "# Measure the mean of items' ratings\n",
    "items_rating = {}\n",
    "\n",
    "for i in range(ratings_matrix.shape[1]):\n",
    "    items_rating[i] = np.mean(ratings_matrix[:,i])"
   ]
  },
  {
   "cell_type": "code",
   "execution_count": 15,
   "metadata": {},
   "outputs": [],
   "source": [
    "# Sorting the itemId descending by its popularity\n",
    "rating_order = OrderedDict(sorted(items_rating.items(), key=operator.itemgetter(1), reverse=True))\n",
    "best_rated = list(rating_order.keys())"
   ]
  },
  {
   "cell_type": "code",
   "execution_count": 16,
   "metadata": {},
   "outputs": [],
   "source": [
    "# Setting the recommendations for each user\n",
    "recommendation = {}\n",
    "\n",
    "for u in range(ratings_matrix.shape[0]):\n",
    "    # recommending just the most popular\n",
    "#   recommendation[u] = most_popular[:top_k]\n",
    "    recommendation[u] = []\n",
    "    cont = 0\n",
    "    # recommending the most popular that have never seen by users\n",
    "    for i in best_rated:\n",
    "        # recommending the top-k items \n",
    "        if (cont < top_k):\n",
    "            if (ratings_matrix[u,i] == 0):\n",
    "                recommendation[u].append(i)\n",
    "                cont += 1\n",
    "        else:\n",
    "            break"
   ]
  },
  {
   "cell_type": "code",
   "execution_count": 17,
   "metadata": {},
   "outputs": [],
   "source": [
    "# Save in a file\n",
    "users_targets = df_test['userId'].unique()\n",
    "dumpRecommendation(recommendation, users_targets, \"../Recommendation/ML-1M/recList_BestRated.txt\")"
   ]
  },
  {
   "cell_type": "code",
   "execution_count": 18,
   "metadata": {},
   "outputs": [
    {
     "data": {
      "text/plain": [
       "[260, 1210, 2571, 527, 480, 1580, 2997, 1265, 296, 1097]"
      ]
     },
     "execution_count": 18,
     "metadata": {},
     "output_type": "execute_result"
    },
    {
     "data": {
      "text/plain": [
       "[2028, 593, 608, 527, 110, 858, 318, 2762, 2396, 1617]"
      ]
     },
     "execution_count": 18,
     "metadata": {},
     "output_type": "execute_result"
    },
    {
     "data": {
      "text/plain": [
       "[2858, 2571, 593, 589, 608, 318, 480, 2762, 2396, 1617]"
      ]
     },
     "execution_count": 18,
     "metadata": {},
     "output_type": "execute_result"
    }
   ],
   "source": [
    "recommendation[300]\n",
    "recommendation[3000]\n",
    "recommendation[6010]"
   ]
  }
 ],
 "metadata": {
  "kernelspec": {
   "display_name": "Python 3",
   "language": "python",
   "name": "python3"
  },
  "language_info": {
   "codemirror_mode": {
    "name": "ipython",
    "version": 3
   },
   "file_extension": ".py",
   "mimetype": "text/x-python",
   "name": "python",
   "nbconvert_exporter": "python",
   "pygments_lexer": "ipython3",
   "version": "3.6.8"
  }
 },
 "nbformat": 4,
 "nbformat_minor": 2
}
